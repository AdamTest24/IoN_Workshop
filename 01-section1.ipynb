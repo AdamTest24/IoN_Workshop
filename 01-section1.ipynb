{
 "cells": [
  {
   "cell_type": "raw",
   "id": "3247e24e",
   "metadata": {},
   "source": [
    "---\n",
    "title: \"Basic Python\"\n",
    "teaching: 10\n",
    "exercises: 2\n",
    "---"
   ]
  },
  {
   "cell_type": "markdown",
   "id": "806f77b9",
   "metadata": {},
   "source": [
    "\n",
    "- How are arrays useful in Python?\n",
    "- Why do we need Numpy arrays?\n",
    "- How can array data be iterated?\n"
   ]
  },
  {
   "cell_type": "markdown",
   "id": "a6e04a18",
   "metadata": {},
   "source": [
    "- Understanding arrays in Python\n",
    "- Explaining the use of Numpy arrays\n",
    "- Iterations on arrays\n",
    "\n",
    "## Note\n",
    "Due to time restriction, we will only cover the basic Python concepts which are needed for the rest of session. However, if you want to learn more on Python programming, please refer to the Carpenteries full day course on [Programming in Python](https://swcarpentry.github.io/python-novice-gapminder/index.html)."
   ]
  },
  {
   "cell_type": "markdown",
   "id": "d5401f3a",
   "metadata": {},
   "source": [
    "## Arrays\n",
    "\n",
    "### List\n",
    "\n",
    "We can use variables to store individual data in Python. However, in data science we often need to access multiple values to perform operations. In such occasions, defining a variable for every single value is tedious. Instead, we use arrays.\n",
    "\n",
    "Arrays are variables that hold any number of values. Python provides 3 types of built-in arrays: ```list```, ```tuple```, and ```set```. There are a several common features amongst all arrays in Python; however, each type of array enjoys its own range of unique features that facilitate specific operations. \n",
    "\n",
    "```list``` is the most frequently used type of arrays in Python. It is therefore important to understand how it works.\n",
    "\n",
    "The easiest way to imagine how a ```list``` works is to think of it as a table that can have any number of rows. This is akin to a spreadsheet with one column.\n",
    "\n",
    "Here is how to create a list using square brackets.\n",
    "\n",
    "\n",
    "\n",
    "\n",
    "```python\n",
    "my_list = [1, 2, 3]\n",
    "```\n",
    "\n",
    "Type the name and execute a cell to see its content.\n"
   ]
  },
  {
   "cell_type": "code",
   "execution_count": null,
   "id": "2d9cd67c",
   "metadata": {},
   "outputs": [],
   "source": [
    "my_list"
   ]
  },
  {
   "cell_type": "markdown",
   "id": "edbdb9bd",
   "metadata": {},
   "source": [
    "```{.output}\n",
    "[1, 2, 3]\n",
    "```\n",
    "\n",
    "To access an item in a list, we use the name of the list, followed by square brackets. Inside the brackets we provide the index of the item requested. In Python, indices start from 0!\n",
    "\n"
   ]
  },
  {
   "cell_type": "code",
   "execution_count": null,
   "id": "02f0a0c8",
   "metadata": {},
   "outputs": [],
   "source": [
    "my_list[2]"
   ]
  },
  {
   "cell_type": "markdown",
   "id": "2cc16a14",
   "metadata": {},
   "source": [
    "```{.output}\n",
    "3\n",
    "```\n",
    "\n",
    "The last item in an array is referred to with index `-1`\n"
   ]
  },
  {
   "cell_type": "code",
   "execution_count": null,
   "id": "2b5da6e0",
   "metadata": {},
   "outputs": [],
   "source": [
    "my_list[-1]"
   ]
  },
  {
   "cell_type": "markdown",
   "id": "3f8b49d4",
   "metadata": {},
   "source": [
    "```{.output}\n",
    "3\n",
    "```\n",
    "\n",
    "If the index refers to a non-existing item, an error will ne \"thrown\" (in Python speak).\n"
   ]
  },
  {
   "cell_type": "code",
   "execution_count": null,
   "id": "a163a22c",
   "metadata": {},
   "outputs": [],
   "source": [
    "my_list[3]"
   ]
  },
  {
   "cell_type": "markdown",
   "id": "34764d40",
   "metadata": {},
   "source": [
    "```{.error}\n",
    "Error: IndexError: list index out of range\n",
    "```\n",
    "\n",
    "All items will be shown with the colon `:`"
   ]
  },
  {
   "cell_type": "code",
   "execution_count": null,
   "id": "4e33737c",
   "metadata": {},
   "outputs": [],
   "source": [
    "my_list[:]"
   ]
  },
  {
   "cell_type": "markdown",
   "id": "9f6d1b3f",
   "metadata": {},
   "source": [
    "```{.output}\n",
    "[1, 2, 3]\n",
    "```\n",
    "\n",
    "Get segments of slices using index values to the left or right of the colon. Left is incliding, right excludsing the item with the index specified. \n",
    "\n"
   ]
  },
  {
   "cell_type": "code",
   "execution_count": null,
   "id": "73d46bf2",
   "metadata": {},
   "outputs": [],
   "source": [
    "my_list[:2]"
   ]
  },
  {
   "cell_type": "markdown",
   "id": "29a2c6d0",
   "metadata": {},
   "source": [
    "```{.output}\n",
    "[1, 2]\n",
    "```\n"
   ]
  },
  {
   "cell_type": "code",
   "execution_count": null,
   "id": "4bf19b5d",
   "metadata": {},
   "outputs": [],
   "source": [
    "my_list[1:]"
   ]
  },
  {
   "cell_type": "markdown",
   "id": "0704671f",
   "metadata": {},
   "source": [
    "```{.output}\n",
    "[2, 3]\n",
    "```\n",
    "If you want to find index of a particular number: \n"
   ]
  },
  {
   "cell_type": "code",
   "execution_count": null,
   "id": "e15cc8db",
   "metadata": {},
   "outputs": [],
   "source": [
    "my_list.index(3)"
   ]
  },
  {
   "cell_type": "markdown",
   "id": "aaf9d686",
   "metadata": {},
   "source": [
    "```{.output}\n",
    "2\n",
    "```\n",
    "\n",
    "Get the number of items in a list with the function `len`\n",
    "\n",
    "Arguments of functions are provided in round parenthesis.\n"
   ]
  },
  {
   "cell_type": "code",
   "execution_count": null,
   "id": "49124d33",
   "metadata": {},
   "outputs": [],
   "source": [
    "no_items = len(my_list)\n",
    "\n",
    "no_items"
   ]
  },
  {
   "cell_type": "markdown",
   "id": "c89957dd",
   "metadata": {},
   "source": [
    "```{.output}\n",
    "3\n",
    "```\n",
    "\n",
    "## Note\n",
    "\n",
    "'list' as a so-called mutable type of array. it means that it is possible to change their content. In contrast, if you create an array with round parenthesis, it is an immutable type, called `tuple`. This cannot be changed it its current location in memory.\n",
    "\n",
    "More items can also be added in a list using `append` function.\n"
   ]
  },
  {
   "cell_type": "code",
   "execution_count": null,
   "id": "6b8b0e5b",
   "metadata": {},
   "outputs": [],
   "source": [
    "my_list.append(4)\n",
    "\n",
    "my_list"
   ]
  },
  {
   "cell_type": "markdown",
   "id": "c998330e",
   "metadata": {},
   "source": [
    "```{.output}\n",
    "[1, 2, 3, 4]\n",
    "```\n",
    "\n"
   ]
  },
  {
   "cell_type": "code",
   "execution_count": null,
   "id": "8e6f2050",
   "metadata": {},
   "outputs": [],
   "source": [
    "my_list.append('Something')\n",
    "\n",
    "my_list"
   ]
  },
  {
   "cell_type": "markdown",
   "id": "3640c4d3",
   "metadata": {},
   "source": [
    "```{.output}\n",
    "[1, 2, 3, 4, 'Something']\n",
    "```\n"
   ]
  },
  {
   "cell_type": "code",
   "execution_count": null,
   "id": "252ae85a",
   "metadata": {},
   "outputs": [],
   "source": [
    "my_list[-1]"
   ]
  },
  {
   "cell_type": "markdown",
   "id": "64f54251",
   "metadata": {},
   "source": [
    "```{.output}\n",
    "'Something'\n",
    "```\n",
    "\n",
    "Similary, items can also be deleted by using `remove` function.\n"
   ]
  },
  {
   "cell_type": "code",
   "execution_count": null,
   "id": "f7c03e26",
   "metadata": {},
   "outputs": [],
   "source": [
    "my_list.remove('Something')\n",
    "\n",
    "my_list"
   ]
  },
  {
   "cell_type": "markdown",
   "id": "8a7e2d5b",
   "metadata": {},
   "source": [
    "```{.output}\n",
    "[1, 2, 3, 4]\n",
    "```\n",
    "\n",
    "## Numpy Arrays\n",
    "\n",
    "### Problem with List\n",
    "\n",
    "Check the results of executing the following code:\n"
   ]
  },
  {
   "cell_type": "code",
   "execution_count": null,
   "id": "dcf6e442",
   "metadata": {},
   "outputs": [],
   "source": [
    "my_list = [1, 2, 3]\n",
    "\n",
    "print(my_list)"
   ]
  },
  {
   "cell_type": "markdown",
   "id": "d5b9df42",
   "metadata": {},
   "source": [
    "```{.output}\n",
    "[1, 2, 3]\n",
    "```"
   ]
  },
  {
   "cell_type": "code",
   "execution_count": null,
   "id": "a9a58860",
   "metadata": {},
   "outputs": [],
   "source": [
    "print(my_list*2)"
   ]
  },
  {
   "cell_type": "markdown",
   "id": "80d63be8",
   "metadata": {},
   "source": [
    "```{.output}\n",
    "[1, 2, 3, 1, 2, 3]\n",
    "```\n",
    "\n",
    "One might expect each item in the list to be squared. Instead, the number of items is doubled.\n",
    "\n",
    "or: \n"
   ]
  },
  {
   "cell_type": "code",
   "execution_count": null,
   "id": "05983051",
   "metadata": {},
   "outputs": [],
   "source": [
    "print(my_list)"
   ]
  },
  {
   "cell_type": "markdown",
   "id": "8bfc08c0",
   "metadata": {},
   "source": [
    "```{.output}\n",
    "[1, 2, 3]\n",
    "```"
   ]
  },
  {
   "cell_type": "code",
   "execution_count": null,
   "id": "2d5d4548",
   "metadata": {},
   "outputs": [],
   "source": [
    "print(my_list + 10)"
   ]
  },
  {
   "cell_type": "markdown",
   "id": "56920c2b",
   "metadata": {},
   "source": [
    "```{.error}\n",
    "Error: TypeError: can only concatenate list (not \"int\") to list\n",
    "```\n",
    "\n",
    "Here, One might expect 10 to be added to each item in the list. Instead, an error is thrown. This, and other features of `list` are not intuitive.\n",
    "\n",
    "In data science and machine learning, we therefore predominantly use `Numpy` arrays.\n",
    "\n",
    "### Convert List to Numpy Array\n",
    "\n",
    "First we import a function from the [Numpy library](https://numpy.org):\n"
   ]
  },
  {
   "cell_type": "code",
   "execution_count": null,
   "id": "a051ce45",
   "metadata": {
    "lines_to_next_cell": 2
   },
   "outputs": [],
   "source": [
    "from numpy import array"
   ]
  },
  {
   "cell_type": "code",
   "execution_count": null,
   "id": "56178689",
   "metadata": {},
   "outputs": [],
   "source": [
    "my_np_array = array(my_list)\n",
    "\n",
    "my_np_array"
   ]
  },
  {
   "cell_type": "markdown",
   "id": "3a6b3199",
   "metadata": {},
   "source": [
    "```{.output}\n",
    "array([1, 2, 3])\n",
    "```\n",
    "\n",
    "This is more intuitive:\n"
   ]
  },
  {
   "cell_type": "code",
   "execution_count": null,
   "id": "e791355c",
   "metadata": {},
   "outputs": [],
   "source": [
    "print(my_np_array)"
   ]
  },
  {
   "cell_type": "markdown",
   "id": "1b822c6c",
   "metadata": {},
   "source": [
    "```{.output}\n",
    "[1 2 3]\n",
    "```"
   ]
  },
  {
   "cell_type": "code",
   "execution_count": null,
   "id": "2ae33955",
   "metadata": {},
   "outputs": [],
   "source": [
    "print(my_np_array*2)"
   ]
  },
  {
   "cell_type": "markdown",
   "id": "5026a936",
   "metadata": {},
   "source": [
    "```{.output}\n",
    "[2 4 6]\n",
    "```\n",
    "\n",
    "Similarly:\n"
   ]
  },
  {
   "cell_type": "code",
   "execution_count": null,
   "id": "08b36e9f",
   "metadata": {},
   "outputs": [],
   "source": [
    "print(my_np_array)"
   ]
  },
  {
   "cell_type": "markdown",
   "id": "2e9cce77",
   "metadata": {},
   "source": [
    "```{.output}\n",
    "[1 2 3]\n",
    "```"
   ]
  },
  {
   "cell_type": "code",
   "execution_count": null,
   "id": "f8698837",
   "metadata": {},
   "outputs": [],
   "source": [
    "print(my_np_array + 10)"
   ]
  },
  {
   "cell_type": "markdown",
   "id": "69eccd72",
   "metadata": {},
   "source": [
    "```{.output}\n",
    "[11 12 13]\n",
    "```\n",
    "\n",
    "To get the maximum and the index of the maximum in the array:\n"
   ]
  },
  {
   "cell_type": "code",
   "execution_count": null,
   "id": "d12f4c79",
   "metadata": {},
   "outputs": [],
   "source": [
    "my_np_array.max()"
   ]
  },
  {
   "cell_type": "markdown",
   "id": "3eb56e1b",
   "metadata": {},
   "source": [
    "```{.output}\n",
    "3\n",
    "```\n"
   ]
  },
  {
   "cell_type": "code",
   "execution_count": null,
   "id": "8cda8ea3",
   "metadata": {},
   "outputs": [],
   "source": [
    "my_np_array.argmax()"
   ]
  },
  {
   "cell_type": "markdown",
   "id": "3036e6f8",
   "metadata": {},
   "source": [
    "```{.output}\n",
    "2\n",
    "```\n",
    "\n",
    "Indexing is with square brackets, as for `list` and `tuple`.\n",
    "\n",
    "Read here about `Numpy` arrays:\n",
    "\n",
    "https://www.nature.com/articles/s41586-020-2649-2\n",
    "\n",
    "## Iterations\n",
    "\n",
    "### Iteration with a For Loop\n",
    "\n",
    "Let us create a `list` first and then iterate through it.\n"
   ]
  },
  {
   "cell_type": "code",
   "execution_count": null,
   "id": "5a8bc2c1",
   "metadata": {},
   "outputs": [],
   "source": [
    "my_list = [1, 22, 333, 4444, 55555]\n",
    "\n",
    "my_list"
   ]
  },
  {
   "cell_type": "markdown",
   "id": "09637fcf",
   "metadata": {},
   "source": [
    "```{.output}\n",
    "[1, 22, 333, 4444, 55555]\n",
    "```\n",
    "\n",
    "Perform a set of operations on each item of the list. As an example, we want the item printed on the screen, using `print`.\n"
   ]
  },
  {
   "cell_type": "code",
   "execution_count": null,
   "id": "9596d921",
   "metadata": {},
   "outputs": [],
   "source": [
    "for number in my_list:\n",
    "    \n",
    "    print(number)"
   ]
  },
  {
   "cell_type": "markdown",
   "id": "c6def157",
   "metadata": {},
   "source": [
    "```{.output}\n",
    "1\n",
    "22\n",
    "333\n",
    "4444\n",
    "55555\n",
    "```\n",
    "\n",
    "To directly get the indices in a For Loop, use enumerate. It provides first the index, then the value of an item.\n"
   ]
  },
  {
   "cell_type": "code",
   "execution_count": null,
   "id": "8535244d",
   "metadata": {},
   "outputs": [],
   "source": [
    "for index, item in enumerate(my_list):\n",
    "    \n",
    "    print('Index:', index, '    Item:', item)"
   ]
  },
  {
   "cell_type": "markdown",
   "id": "38d4c39e",
   "metadata": {},
   "source": [
    "```{.output}\n",
    "Index: 0     Item: 1\n",
    "Index: 1     Item: 22\n",
    "Index: 2     Item: 333\n",
    "Index: 3     Item: 4444\n",
    "Index: 4     Item: 55555\n",
    "```\n",
    "\n",
    "If you want to print the position of items in the list, remember to add `1` in the index and array start from index `0`.\n"
   ]
  },
  {
   "cell_type": "code",
   "execution_count": null,
   "id": "5eea24fe",
   "metadata": {},
   "outputs": [],
   "source": [
    "for index, item in enumerate(my_list):\n",
    "    \n",
    "    print('Position:', index+1, '    Item:', item)"
   ]
  },
  {
   "cell_type": "markdown",
   "id": "38603f96",
   "metadata": {},
   "source": [
    "```{.output}\n",
    "Position: 1     Item: 1\n",
    "Position: 2     Item: 22\n",
    "Position: 3     Item: 333\n",
    "Position: 4     Item: 4444\n",
    "Position: 5     Item: 55555\n",
    "```\n"
   ]
  },
  {
   "cell_type": "markdown",
   "id": "71d61d92",
   "metadata": {},
   "source": [
    "- `list` is one of the type of arrays (`list`, `tuple` and `set`).\n",
    "- `NumPy` is a library for the Python programming language, adding support for large, multi-dimensional arrays and matrices.\n",
    "- Repetitive execution of the same block of code over and over is referred to as `iteration`.\n",
    "\n",
    "[r-markdown]: https://rmarkdown.rstudio.com/"
   ]
  }
 ],
 "metadata": {
  "jupytext": {
   "cell_metadata_filter": "-all",
   "main_language": "python",
   "notebook_metadata_filter": "-all"
  }
 },
 "nbformat": 4,
 "nbformat_minor": 5
}
