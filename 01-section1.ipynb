{
 "cells": [
  {
   "cell_type": "raw",
   "id": "f28c2915",
   "metadata": {},
   "source": [
    "---\n",
    "title: \"Basic Python\"\n",
    "teaching: 10\n",
    "exercises: 2\n",
    "---"
   ]
  },
  {
   "cell_type": "markdown",
   "id": "ff85b32b",
   "metadata": {},
   "source": [
    "[**Download Chapter notebook (ipynb)**](01-section1.ipynb)"
   ]
  },
  {
   "cell_type": "markdown",
   "id": "eea7f998",
   "metadata": {},
   "source": [
    "- How are arrays useful in Python?\n",
    "- Why do we need Numpy arrays?\n",
    "- How can array data be iterated?\n"
   ]
  },
  {
   "cell_type": "markdown",
   "id": "7fab1cd1",
   "metadata": {},
   "source": [
    "- Understanding arrays in Python\n",
    "- Explaining the use of Numpy arrays\n",
    "- Iterations on arrays\n",
    "\n",
    "## Note\n",
    "Due to time restrictions, we will only cover the basic Python concepts required for the rest of this session. However, if you want to learn more about Python programming, please refer to the Software Carpentries full day course on [Programming in Python](https://swcarpentry.github.io/python-novice-gapminder/index.html)."
   ]
  },
  {
   "cell_type": "markdown",
   "id": "42d05f96",
   "metadata": {},
   "source": [
    "## Arrays\n",
    "\n",
    "### List\n",
    "\n",
    "We can use variables to store individual data in Python. However, in data science we often need to access multiple values to perform operations. In such cases, defining a variable for every single value becomes tedious. So instead, we can use arrays.\n",
    "\n",
    "Arrays are variables that hold any number of values. Python provides 3 types of built-in arrays: ```list```, ```tuple```, and ```set```. There are a several shared features among all arrays in Python; however, each type of array enjoys its own range of unique features that each facilitate specific operations. \n",
    "\n",
    "```list``` is the most frequently used type of arrays in Python. The easiest way to explain how a ```list``` works is to think of it as a table that can have any number of rows. This is akin to a spreadsheet with one column.\n",
    "\n",
    "Here is how to create a list using square brackets:\n",
    "\n",
    "\n",
    "\n",
    "\n",
    "```python\n",
    "my_list = [1, 2, 3]\n",
    "```\n",
    "\n",
    "Type the name and execute a cell to see its content.\n"
   ]
  },
  {
   "cell_type": "code",
   "execution_count": null,
   "id": "f027ebfb",
   "metadata": {},
   "outputs": [],
   "source": [
    "my_list"
   ]
  },
  {
   "cell_type": "markdown",
   "id": "b981f14d",
   "metadata": {},
   "source": [
    "```{.output}\n",
    "[1, 2, 3]\n",
    "```\n",
    "\n",
    "To access an item in a list, we use the name of the list, followed by square brackets. Inside the brackets we provide the index of the item requested. In Python, indices start from 0.\n",
    "\n"
   ]
  },
  {
   "cell_type": "code",
   "execution_count": null,
   "id": "08662e03",
   "metadata": {},
   "outputs": [],
   "source": [
    "my_list[2]"
   ]
  },
  {
   "cell_type": "markdown",
   "id": "dcb38468",
   "metadata": {},
   "source": [
    "```{.output}\n",
    "3\n",
    "```\n",
    "\n",
    "The last item in an array is referred to with index `-1`\n"
   ]
  },
  {
   "cell_type": "code",
   "execution_count": null,
   "id": "9246276d",
   "metadata": {},
   "outputs": [],
   "source": [
    "my_list[-1]"
   ]
  },
  {
   "cell_type": "markdown",
   "id": "02262f09",
   "metadata": {},
   "source": [
    "```{.output}\n",
    "3\n",
    "```\n",
    "\n",
    "If the index refers to a non-existing item, an error will be \"thrown\" (in Python speak).\n"
   ]
  },
  {
   "cell_type": "code",
   "execution_count": null,
   "id": "1b26047d",
   "metadata": {},
   "outputs": [],
   "source": [
    "my_list[3]"
   ]
  },
  {
   "cell_type": "markdown",
   "id": "8611a59b",
   "metadata": {},
   "source": [
    "```{.error}\n",
    "Error: IndexError: list index out of range\n",
    "```\n",
    "\n",
    "All items will be shown with the colon `:`"
   ]
  },
  {
   "cell_type": "code",
   "execution_count": null,
   "id": "9e44c9c2",
   "metadata": {},
   "outputs": [],
   "source": [
    "my_list[:]"
   ]
  },
  {
   "cell_type": "markdown",
   "id": "047e6eef",
   "metadata": {},
   "source": [
    "```{.output}\n",
    "[1, 2, 3]\n",
    "```\n",
    "\n",
    "Get segments of slices using index values to the left or right of the colon. Left is inclusive of, right excludes the item with the index specified. \n",
    "\n"
   ]
  },
  {
   "cell_type": "code",
   "execution_count": null,
   "id": "4869e91b",
   "metadata": {},
   "outputs": [],
   "source": [
    "my_list[:2]"
   ]
  },
  {
   "cell_type": "markdown",
   "id": "ede25086",
   "metadata": {},
   "source": [
    "```{.output}\n",
    "[1, 2]\n",
    "```\n"
   ]
  },
  {
   "cell_type": "code",
   "execution_count": null,
   "id": "2f997027",
   "metadata": {},
   "outputs": [],
   "source": [
    "my_list[1:]"
   ]
  },
  {
   "cell_type": "markdown",
   "id": "c5e6f56b",
   "metadata": {},
   "source": [
    "```{.output}\n",
    "[2, 3]\n",
    "```\n",
    "If you want to find index of a particular number: \n"
   ]
  },
  {
   "cell_type": "code",
   "execution_count": null,
   "id": "86375ac7",
   "metadata": {},
   "outputs": [],
   "source": [
    "my_list.index(3)"
   ]
  },
  {
   "cell_type": "markdown",
   "id": "2156678e",
   "metadata": {},
   "source": [
    "```{.output}\n",
    "2\n",
    "```\n",
    "\n",
    "You can obtain the number of items in a list using the function `len`\n",
    "\n",
    "Arguments of functions are provided in round parentheses.\n"
   ]
  },
  {
   "cell_type": "code",
   "execution_count": null,
   "id": "8a763746",
   "metadata": {},
   "outputs": [],
   "source": [
    "no_items = len(my_list)\n",
    "\n",
    "no_items"
   ]
  },
  {
   "cell_type": "markdown",
   "id": "6e8dda33",
   "metadata": {},
   "source": [
    "```{.output}\n",
    "3\n",
    "```\n",
    "\n",
    "## Note\n",
    "\n",
    "A `list` is a so-called mutable type of array. This means that it is possible to change a list's content. In contrast, if you create an array with round parentheses, it is immutable, and is referred to as a `tuple`. This cannot be changed in its current location in memory.\n",
    "\n",
    "More items can also be added in a list using the `append` function.\n"
   ]
  },
  {
   "cell_type": "code",
   "execution_count": null,
   "id": "f630e673",
   "metadata": {},
   "outputs": [],
   "source": [
    "my_list.append(4)\n",
    "\n",
    "my_list"
   ]
  },
  {
   "cell_type": "markdown",
   "id": "27ebfc38",
   "metadata": {},
   "source": [
    "```{.output}\n",
    "[1, 2, 3, 4]\n",
    "```\n",
    "\n"
   ]
  },
  {
   "cell_type": "code",
   "execution_count": null,
   "id": "3f255a60",
   "metadata": {},
   "outputs": [],
   "source": [
    "my_list.append('Something')\n",
    "\n",
    "my_list"
   ]
  },
  {
   "cell_type": "markdown",
   "id": "d8f8fb83",
   "metadata": {},
   "source": [
    "```{.output}\n",
    "[1, 2, 3, 4, 'Something']\n",
    "```\n"
   ]
  },
  {
   "cell_type": "code",
   "execution_count": null,
   "id": "11655559",
   "metadata": {},
   "outputs": [],
   "source": [
    "my_list[-1]"
   ]
  },
  {
   "cell_type": "markdown",
   "id": "4367608f",
   "metadata": {},
   "source": [
    "```{.output}\n",
    "'Something'\n",
    "```\n",
    "\n",
    "Similarly, items can also be deleted from a list using the `remove` function.\n"
   ]
  },
  {
   "cell_type": "code",
   "execution_count": null,
   "id": "5e12dcd6",
   "metadata": {},
   "outputs": [],
   "source": [
    "my_list.remove('Something')\n",
    "\n",
    "my_list"
   ]
  },
  {
   "cell_type": "markdown",
   "id": "2967ffe2",
   "metadata": {},
   "source": [
    "```{.output}\n",
    "[1, 2, 3, 4]\n",
    "```\n",
    "\n",
    "## Numpy Arrays\n",
    "\n",
    "### Problems with Lists\n",
    "\n",
    "Observe the results of executing the following code:\n"
   ]
  },
  {
   "cell_type": "code",
   "execution_count": null,
   "id": "29a527cd",
   "metadata": {},
   "outputs": [],
   "source": [
    "my_list = [1, 2, 3]\n",
    "\n",
    "print(my_list)"
   ]
  },
  {
   "cell_type": "markdown",
   "id": "a41170db",
   "metadata": {},
   "source": [
    "```{.output}\n",
    "[1, 2, 3]\n",
    "```"
   ]
  },
  {
   "cell_type": "code",
   "execution_count": null,
   "id": "1111cf5b",
   "metadata": {},
   "outputs": [],
   "source": [
    "print(my_list*2)"
   ]
  },
  {
   "cell_type": "markdown",
   "id": "31db65f3",
   "metadata": {},
   "source": [
    "```{.output}\n",
    "[1, 2, 3, 1, 2, 3]\n",
    "```\n",
    "\n",
    "One might expect each item in the list to be squared. Instead, the number of items is doubled.\n",
    "\n",
    "Or: \n"
   ]
  },
  {
   "cell_type": "code",
   "execution_count": null,
   "id": "5545a0bd",
   "metadata": {},
   "outputs": [],
   "source": [
    "print(my_list)"
   ]
  },
  {
   "cell_type": "markdown",
   "id": "40a4ed7b",
   "metadata": {},
   "source": [
    "```{.output}\n",
    "[1, 2, 3]\n",
    "```"
   ]
  },
  {
   "cell_type": "code",
   "execution_count": null,
   "id": "465d2461",
   "metadata": {},
   "outputs": [],
   "source": [
    "print(my_list + 10)"
   ]
  },
  {
   "cell_type": "markdown",
   "id": "fa709460",
   "metadata": {},
   "source": [
    "```{.error}\n",
    "Error: TypeError: can only concatenate list (not \"int\") to list\n",
    "```\n",
    "\n",
    "Looking at this, it might be expected that 10 would be added to each item in the list. Instead, an error is thrown. This, and other features of `list` are not that intuitive.\n",
    "\n",
    "In data science and machine learning, we therefore predominantly use `Numpy` arrays.\n",
    "\n",
    "### Converting a List to a Numpy Array\n",
    "\n",
    "First we import a function from the [Numpy library](https://numpy.org):\n"
   ]
  },
  {
   "cell_type": "code",
   "execution_count": null,
   "id": "ad43678e",
   "metadata": {
    "lines_to_next_cell": 2
   },
   "outputs": [],
   "source": [
    "from numpy import array"
   ]
  },
  {
   "cell_type": "code",
   "execution_count": null,
   "id": "fb7ef00c",
   "metadata": {},
   "outputs": [],
   "source": [
    "my_np_array = array(my_list)\n",
    "\n",
    "my_np_array"
   ]
  },
  {
   "cell_type": "markdown",
   "id": "577dcf7e",
   "metadata": {},
   "source": [
    "```{.output}\n",
    "array([1, 2, 3])\n",
    "```\n",
    "\n",
    "This is more intuitive:\n"
   ]
  },
  {
   "cell_type": "code",
   "execution_count": null,
   "id": "79932051",
   "metadata": {},
   "outputs": [],
   "source": [
    "print(my_np_array)"
   ]
  },
  {
   "cell_type": "markdown",
   "id": "dc388574",
   "metadata": {},
   "source": [
    "```{.output}\n",
    "[1 2 3]\n",
    "```"
   ]
  },
  {
   "cell_type": "code",
   "execution_count": null,
   "id": "a6d0446b",
   "metadata": {},
   "outputs": [],
   "source": [
    "print(my_np_array*2)"
   ]
  },
  {
   "cell_type": "markdown",
   "id": "3797b192",
   "metadata": {},
   "source": [
    "```{.output}\n",
    "[2 4 6]\n",
    "```\n",
    "\n",
    "Similarly:\n"
   ]
  },
  {
   "cell_type": "code",
   "execution_count": null,
   "id": "afc79568",
   "metadata": {},
   "outputs": [],
   "source": [
    "print(my_np_array)"
   ]
  },
  {
   "cell_type": "markdown",
   "id": "cfda7f33",
   "metadata": {},
   "source": [
    "```{.output}\n",
    "[1 2 3]\n",
    "```"
   ]
  },
  {
   "cell_type": "code",
   "execution_count": null,
   "id": "80704c66",
   "metadata": {},
   "outputs": [],
   "source": [
    "print(my_np_array + 10)"
   ]
  },
  {
   "cell_type": "markdown",
   "id": "27e720aa",
   "metadata": {},
   "source": [
    "```{.output}\n",
    "[11 12 13]\n",
    "```\n",
    "\n",
    "In order to get the maximum and the index of the maximum in the array:\n"
   ]
  },
  {
   "cell_type": "code",
   "execution_count": null,
   "id": "447660fb",
   "metadata": {},
   "outputs": [],
   "source": [
    "my_np_array.max()"
   ]
  },
  {
   "cell_type": "markdown",
   "id": "72c59001",
   "metadata": {},
   "source": [
    "```{.output}\n",
    "3\n",
    "```\n"
   ]
  },
  {
   "cell_type": "code",
   "execution_count": null,
   "id": "ea1e91d4",
   "metadata": {},
   "outputs": [],
   "source": [
    "my_np_array.argmax()"
   ]
  },
  {
   "cell_type": "markdown",
   "id": "f2b79ddc",
   "metadata": {},
   "source": [
    "```{.output}\n",
    "2\n",
    "```\n",
    "\n",
    "Indexing is with square brackets, as for `list` and `tuple`.\n",
    "\n",
    "Click here to read more about `Numpy` arrays:\n",
    "\n",
    "https://www.nature.com/articles/s41586-020-2649-2\n",
    "\n",
    "## Iterations\n",
    "\n",
    "### Iteration with a For Loop\n",
    "\n",
    "Let us firstly create a `list` first and then iterate through it using a `for` loop.\n"
   ]
  },
  {
   "cell_type": "code",
   "execution_count": null,
   "id": "67a22573",
   "metadata": {},
   "outputs": [],
   "source": [
    "my_list = [1, 22, 333, 4444, 55555]\n",
    "\n",
    "my_list"
   ]
  },
  {
   "cell_type": "markdown",
   "id": "22a0b820",
   "metadata": {},
   "source": [
    "```{.output}\n",
    "[1, 22, 333, 4444, 55555]\n",
    "```\n",
    "\n",
    "Perform a set of operations on each item in the list. Display the item on your screen, using `print`.\n"
   ]
  },
  {
   "cell_type": "code",
   "execution_count": null,
   "id": "af0b1e77",
   "metadata": {},
   "outputs": [],
   "source": [
    "for number in my_list:\n",
    "    \n",
    "    print(number)"
   ]
  },
  {
   "cell_type": "markdown",
   "id": "ee9de63c",
   "metadata": {},
   "source": [
    "```{.output}\n",
    "1\n",
    "22\n",
    "333\n",
    "4444\n",
    "55555\n",
    "```\n",
    "\n",
    "To directly get the indices in a `for` Loop, use `enumerate`. This firstly provides the index, followed by the value of the item.\n"
   ]
  },
  {
   "cell_type": "code",
   "execution_count": null,
   "id": "7df89eb3",
   "metadata": {},
   "outputs": [],
   "source": [
    "for index, item in enumerate(my_list):\n",
    "    \n",
    "    print('Index:', index, '    Item:', item)"
   ]
  },
  {
   "cell_type": "markdown",
   "id": "c81939f3",
   "metadata": {},
   "source": [
    "```{.output}\n",
    "Index: 0     Item: 1\n",
    "Index: 1     Item: 22\n",
    "Index: 2     Item: 333\n",
    "Index: 3     Item: 4444\n",
    "Index: 4     Item: 55555\n",
    "```\n",
    "\n",
    "If you want to print the positions of items in the list, remember to add `1` in the index and array start from index `0`.\n"
   ]
  },
  {
   "cell_type": "code",
   "execution_count": null,
   "id": "c24b2436",
   "metadata": {},
   "outputs": [],
   "source": [
    "for index, item in enumerate(my_list):\n",
    "    \n",
    "    print('Position:', index+1, '    Item:', item)"
   ]
  },
  {
   "cell_type": "markdown",
   "id": "1beba38b",
   "metadata": {},
   "source": [
    "```{.output}\n",
    "Position: 1     Item: 1\n",
    "Position: 2     Item: 22\n",
    "Position: 3     Item: 333\n",
    "Position: 4     Item: 4444\n",
    "Position: 5     Item: 55555\n",
    "```\n"
   ]
  },
  {
   "cell_type": "markdown",
   "id": "5b88eea0",
   "metadata": {},
   "source": [
    "- `list` is a mutable types of arrays.\n",
    "- `NumPy` is a Python library optimised to deal for large, multi-dimensional arrays and matrices.\n",
    "- Repetitive execution of the same block of code over and over is referred to as `iteration`.\n",
    "\n",
    "[r-markdown]: https://rmarkdown.rstudio.com/"
   ]
  }
 ],
 "metadata": {
  "jupytext": {
   "cell_metadata_filter": "-all",
   "main_language": "python",
   "notebook_metadata_filter": "-all"
  }
 },
 "nbformat": 4,
 "nbformat_minor": 5
}
