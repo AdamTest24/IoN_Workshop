{
 "cells": [
  {
   "cell_type": "raw",
   "id": "78d1b69c",
   "metadata": {},
   "source": [
    "---\n",
    "title: \"Basic Python\"\n",
    "teaching: 10\n",
    "exercises: 2\n",
    "---"
   ]
  },
  {
   "cell_type": "markdown",
   "id": "d66c63d6",
   "metadata": {},
   "source": [
    "[**Download Chapter notebook (ipynb)**](01-section1.ipynb)"
   ]
  },
  {
   "cell_type": "markdown",
   "id": "10f160a9",
   "metadata": {},
   "source": [
    "- How are arrays useful in Python?\n",
    "- Why do we need Numpy arrays?\n",
    "- How can array data be iterated?\n"
   ]
  },
  {
   "cell_type": "markdown",
   "id": "983e1410",
   "metadata": {},
   "source": [
    "- Understanding arrays in Python\n",
    "- Explaining the use of Numpy arrays\n",
    "- Iterations on arrays\n",
    "\n",
    "## Note\n",
    "Due to time restrictions, we will only cover the basic Python concepts required for the rest of this session. However, if you want to learn more about Python programming, please refer to the Software Carpentries full day course on [Programming in Python](https://swcarpentry.github.io/python-novice-gapminder/index.html)."
   ]
  },
  {
   "cell_type": "markdown",
   "id": "bd8d41b9",
   "metadata": {},
   "source": [
    "## Arrays\n",
    "\n",
    "### List\n",
    "\n",
    "We can use variables to store individual data in Python. However, in data science we often need to access multiple values to perform operations. In such cases, defining a variable for every single value becomes tedious. So instead, we can use arrays.\n",
    "\n",
    "Arrays are variables that hold any number of values. Python provides 3 types of built-in arrays: ```list```, ```tuple```, and ```set```. There are a several shared features among all arrays in Python; however, each type of array enjoys its own range of unique features that each facilitate specific operations. \n",
    "\n",
    "```list``` is the most frequently used type of arrays in Python. The easiest way to explain how a ```list``` works is to think of it as a table that can have any number of rows. This is akin to a spreadsheet with one column.\n",
    "\n",
    "Here is how to create a list using square brackets:\n",
    "\n",
    "\n",
    "\n",
    "\n",
    "```python\n",
    "my_list = [1, 2, 3]\n",
    "```\n",
    "\n",
    "Type the name and execute a cell to see its content.\n"
   ]
  },
  {
   "cell_type": "code",
   "execution_count": null,
   "id": "d9934258",
   "metadata": {},
   "outputs": [],
   "source": [
    "my_list"
   ]
  },
  {
   "cell_type": "markdown",
   "id": "8108092c",
   "metadata": {},
   "source": [
    "```{.output}\n",
    "[1, 2, 3]\n",
    "```\n",
    "\n",
    "To access an item in a list, we use the name of the list, followed by square brackets. Inside the brackets we provide the index of the item requested. In Python, indices start from 0.\n",
    "\n"
   ]
  },
  {
   "cell_type": "code",
   "execution_count": null,
   "id": "f6db2954",
   "metadata": {},
   "outputs": [],
   "source": [
    "my_list[2]"
   ]
  },
  {
   "cell_type": "markdown",
   "id": "046a2598",
   "metadata": {},
   "source": [
    "```{.output}\n",
    "3\n",
    "```\n",
    "\n",
    "The last item in an array is referred to with index `-1`\n"
   ]
  },
  {
   "cell_type": "code",
   "execution_count": null,
   "id": "f5e822ba",
   "metadata": {},
   "outputs": [],
   "source": [
    "my_list[-1]"
   ]
  },
  {
   "cell_type": "markdown",
   "id": "6208023a",
   "metadata": {},
   "source": [
    "```{.output}\n",
    "3\n",
    "```\n",
    "\n",
    "If the index refers to a non-existing item, an error will be \"thrown\" (in Python speak).\n"
   ]
  },
  {
   "cell_type": "code",
   "execution_count": null,
   "id": "bcfd6e2a",
   "metadata": {},
   "outputs": [],
   "source": [
    "my_list[3]"
   ]
  },
  {
   "cell_type": "markdown",
   "id": "78f4b7dd",
   "metadata": {},
   "source": [
    "```{.error}\n",
    "Error: IndexError: list index out of range\n",
    "```\n",
    "\n",
    "All items will be shown with the colon `:`"
   ]
  },
  {
   "cell_type": "code",
   "execution_count": null,
   "id": "e05a5c26",
   "metadata": {},
   "outputs": [],
   "source": [
    "my_list[:]"
   ]
  },
  {
   "cell_type": "markdown",
   "id": "7a700931",
   "metadata": {},
   "source": [
    "```{.output}\n",
    "[1, 2, 3]\n",
    "```\n",
    "\n",
    "Get segments of slices using index values to the left or right of the colon. Left is inclusive of, right excludes the item with the index specified. \n",
    "\n"
   ]
  },
  {
   "cell_type": "code",
   "execution_count": null,
   "id": "3a67211a",
   "metadata": {},
   "outputs": [],
   "source": [
    "my_list[:2]"
   ]
  },
  {
   "cell_type": "markdown",
   "id": "533f7a22",
   "metadata": {},
   "source": [
    "```{.output}\n",
    "[1, 2]\n",
    "```\n"
   ]
  },
  {
   "cell_type": "code",
   "execution_count": null,
   "id": "62de87c2",
   "metadata": {},
   "outputs": [],
   "source": [
    "my_list[1:]"
   ]
  },
  {
   "cell_type": "markdown",
   "id": "fda11a07",
   "metadata": {},
   "source": [
    "```{.output}\n",
    "[2, 3]\n",
    "```\n",
    "If you want to find index of a particular number: \n"
   ]
  },
  {
   "cell_type": "code",
   "execution_count": null,
   "id": "96ccea0d",
   "metadata": {},
   "outputs": [],
   "source": [
    "my_list.index(3)"
   ]
  },
  {
   "cell_type": "markdown",
   "id": "bde109fa",
   "metadata": {},
   "source": [
    "```{.output}\n",
    "2\n",
    "```\n",
    "\n",
    "You can obtain the number of items in a list using the function `len`\n",
    "\n",
    "Arguments of functions are provided in round parentheses.\n"
   ]
  },
  {
   "cell_type": "code",
   "execution_count": null,
   "id": "f515626c",
   "metadata": {},
   "outputs": [],
   "source": [
    "no_items = len(my_list)\n",
    "\n",
    "no_items"
   ]
  },
  {
   "cell_type": "markdown",
   "id": "a9e7f8bf",
   "metadata": {},
   "source": [
    "```{.output}\n",
    "3\n",
    "```\n",
    "\n",
    "## Note\n",
    "\n",
    "A `list` is a so-called mutable type of array. This means that it is possible to change a list's content. In contrast, if you create an array with round parentheses, it is immutable, and is referred to as a `tuple`. This cannot be changed in its current location in memory.\n",
    "\n",
    "More items can also be added in a list using the `append` function.\n"
   ]
  },
  {
   "cell_type": "code",
   "execution_count": null,
   "id": "86d98d70",
   "metadata": {},
   "outputs": [],
   "source": [
    "my_list.append(4)\n",
    "\n",
    "my_list"
   ]
  },
  {
   "cell_type": "markdown",
   "id": "2898b0b2",
   "metadata": {},
   "source": [
    "```{.output}\n",
    "[1, 2, 3, 4]\n",
    "```\n",
    "\n"
   ]
  },
  {
   "cell_type": "code",
   "execution_count": null,
   "id": "560868f1",
   "metadata": {},
   "outputs": [],
   "source": [
    "my_list.append('Something')\n",
    "\n",
    "my_list"
   ]
  },
  {
   "cell_type": "markdown",
   "id": "0f0f0541",
   "metadata": {},
   "source": [
    "```{.output}\n",
    "[1, 2, 3, 4, 'Something']\n",
    "```\n"
   ]
  },
  {
   "cell_type": "code",
   "execution_count": null,
   "id": "b202adb8",
   "metadata": {},
   "outputs": [],
   "source": [
    "my_list[-1]"
   ]
  },
  {
   "cell_type": "markdown",
   "id": "3ae90b90",
   "metadata": {},
   "source": [
    "```{.output}\n",
    "'Something'\n",
    "```\n",
    "\n",
    "Similarly, items can also be deleted from a list using the `remove` function.\n"
   ]
  },
  {
   "cell_type": "code",
   "execution_count": null,
   "id": "6cf1c10a",
   "metadata": {},
   "outputs": [],
   "source": [
    "my_list.remove('Something')\n",
    "\n",
    "my_list"
   ]
  },
  {
   "cell_type": "markdown",
   "id": "e51b5dc8",
   "metadata": {},
   "source": [
    "```{.output}\n",
    "[1, 2, 3, 4]\n",
    "```\n",
    "\n",
    "## Numpy Arrays\n",
    "\n",
    "### Problems with Lists\n",
    "\n",
    "Observe the results of executing the following code:\n"
   ]
  },
  {
   "cell_type": "code",
   "execution_count": null,
   "id": "b38d5446",
   "metadata": {},
   "outputs": [],
   "source": [
    "my_list = [1, 2, 3]\n",
    "\n",
    "print(my_list)"
   ]
  },
  {
   "cell_type": "markdown",
   "id": "00cfa62c",
   "metadata": {},
   "source": [
    "```{.output}\n",
    "[1, 2, 3]\n",
    "```"
   ]
  },
  {
   "cell_type": "code",
   "execution_count": null,
   "id": "62bf98fb",
   "metadata": {},
   "outputs": [],
   "source": [
    "print(my_list*2)"
   ]
  },
  {
   "cell_type": "markdown",
   "id": "95dc924d",
   "metadata": {},
   "source": [
    "```{.output}\n",
    "[1, 2, 3, 1, 2, 3]\n",
    "```\n",
    "\n",
    "One might expect each item in the list to be squared. Instead, the number of items is doubled.\n",
    "\n",
    "Or: \n"
   ]
  },
  {
   "cell_type": "code",
   "execution_count": null,
   "id": "a7a3630e",
   "metadata": {},
   "outputs": [],
   "source": [
    "print(my_list)"
   ]
  },
  {
   "cell_type": "markdown",
   "id": "30153002",
   "metadata": {},
   "source": [
    "```{.output}\n",
    "[1, 2, 3]\n",
    "```"
   ]
  },
  {
   "cell_type": "code",
   "execution_count": null,
   "id": "90931355",
   "metadata": {},
   "outputs": [],
   "source": [
    "print(my_list + 10)"
   ]
  },
  {
   "cell_type": "markdown",
   "id": "26ed8d35",
   "metadata": {},
   "source": [
    "```{.error}\n",
    "Error: TypeError: can only concatenate list (not \"int\") to list\n",
    "```\n",
    "\n",
    "Looking at this, it might be expected that 10 would be added to each item in the list. Instead, an error is thrown. This, and other features of `list` are not that intuitive.\n",
    "\n",
    "In data science and machine learning, we therefore predominantly use `Numpy` arrays.\n",
    "\n",
    "### Converting a List to a Numpy Array\n",
    "\n",
    "First we import a function from the [Numpy library](https://numpy.org):\n"
   ]
  },
  {
   "cell_type": "code",
   "execution_count": null,
   "id": "61e74332",
   "metadata": {
    "lines_to_next_cell": 2
   },
   "outputs": [],
   "source": [
    "from numpy import array"
   ]
  },
  {
   "cell_type": "code",
   "execution_count": null,
   "id": "9eadcfa0",
   "metadata": {},
   "outputs": [],
   "source": [
    "my_np_array = array(my_list)\n",
    "\n",
    "my_np_array"
   ]
  },
  {
   "cell_type": "markdown",
   "id": "b90f9b88",
   "metadata": {},
   "source": [
    "```{.output}\n",
    "array([1, 2, 3])\n",
    "```\n",
    "\n",
    "This is more intuitive:\n"
   ]
  },
  {
   "cell_type": "code",
   "execution_count": null,
   "id": "9482f26f",
   "metadata": {},
   "outputs": [],
   "source": [
    "print(my_np_array)"
   ]
  },
  {
   "cell_type": "markdown",
   "id": "57413fa0",
   "metadata": {},
   "source": [
    "```{.output}\n",
    "[1 2 3]\n",
    "```"
   ]
  },
  {
   "cell_type": "code",
   "execution_count": null,
   "id": "c82c1191",
   "metadata": {},
   "outputs": [],
   "source": [
    "print(my_np_array*2)"
   ]
  },
  {
   "cell_type": "markdown",
   "id": "4d5cfddd",
   "metadata": {},
   "source": [
    "```{.output}\n",
    "[2 4 6]\n",
    "```\n",
    "\n",
    "Similarly:\n"
   ]
  },
  {
   "cell_type": "code",
   "execution_count": null,
   "id": "1c2a820f",
   "metadata": {},
   "outputs": [],
   "source": [
    "print(my_np_array)"
   ]
  },
  {
   "cell_type": "markdown",
   "id": "7a3e467a",
   "metadata": {},
   "source": [
    "```{.output}\n",
    "[1 2 3]\n",
    "```"
   ]
  },
  {
   "cell_type": "code",
   "execution_count": null,
   "id": "5a19800e",
   "metadata": {},
   "outputs": [],
   "source": [
    "print(my_np_array + 10)"
   ]
  },
  {
   "cell_type": "markdown",
   "id": "9cc6d14a",
   "metadata": {},
   "source": [
    "```{.output}\n",
    "[11 12 13]\n",
    "```\n",
    "\n",
    "In order to get the maximum and the index of the maximum in the array:\n"
   ]
  },
  {
   "cell_type": "code",
   "execution_count": null,
   "id": "10e198e5",
   "metadata": {},
   "outputs": [],
   "source": [
    "my_np_array.max()"
   ]
  },
  {
   "cell_type": "markdown",
   "id": "8df427fb",
   "metadata": {},
   "source": [
    "```{.output}\n",
    "3\n",
    "```\n"
   ]
  },
  {
   "cell_type": "code",
   "execution_count": null,
   "id": "7551d932",
   "metadata": {},
   "outputs": [],
   "source": [
    "my_np_array.argmax()"
   ]
  },
  {
   "cell_type": "markdown",
   "id": "cc90f567",
   "metadata": {},
   "source": [
    "```{.output}\n",
    "2\n",
    "```\n",
    "\n",
    "Indexing is with square brackets, as for `list` and `tuple`.\n",
    "\n",
    "Click here to read more about `Numpy` arrays:\n",
    "\n",
    "https://www.nature.com/articles/s41586-020-2649-2\n",
    "\n",
    "## Iterations\n",
    "\n",
    "### Iteration with a For Loop\n",
    "\n",
    "Let us firstly create a `list` first and then iterate through it using a `for` loop.\n"
   ]
  },
  {
   "cell_type": "code",
   "execution_count": null,
   "id": "1cdd187f",
   "metadata": {},
   "outputs": [],
   "source": [
    "my_list = [1, 22, 333, 4444, 55555]\n",
    "\n",
    "my_list"
   ]
  },
  {
   "cell_type": "markdown",
   "id": "a32946d7",
   "metadata": {},
   "source": [
    "```{.output}\n",
    "[1, 22, 333, 4444, 55555]\n",
    "```\n",
    "\n",
    "Perform a set of operations on each item in the list. Display the item on your screen, using `print`.\n"
   ]
  },
  {
   "cell_type": "code",
   "execution_count": null,
   "id": "46a58f6d",
   "metadata": {},
   "outputs": [],
   "source": [
    "for number in my_list:\n",
    "    \n",
    "    print(number)"
   ]
  },
  {
   "cell_type": "markdown",
   "id": "80b11e9f",
   "metadata": {},
   "source": [
    "```{.output}\n",
    "1\n",
    "22\n",
    "333\n",
    "4444\n",
    "55555\n",
    "```\n",
    "\n",
    "To directly get the indices in a `for` Loop, use `enumerate`. This firstly provides the index, followed by the value of the item.\n"
   ]
  },
  {
   "cell_type": "code",
   "execution_count": null,
   "id": "78019cf4",
   "metadata": {},
   "outputs": [],
   "source": [
    "for index, item in enumerate(my_list):\n",
    "    \n",
    "    print('Index:', index, '    Item:', item)"
   ]
  },
  {
   "cell_type": "markdown",
   "id": "d003d869",
   "metadata": {},
   "source": [
    "```{.output}\n",
    "Index: 0     Item: 1\n",
    "Index: 1     Item: 22\n",
    "Index: 2     Item: 333\n",
    "Index: 3     Item: 4444\n",
    "Index: 4     Item: 55555\n",
    "```\n",
    "\n",
    "If you want to print the positions of items in the list, remember to add `1` in the index and array start from index `0`.\n"
   ]
  },
  {
   "cell_type": "code",
   "execution_count": null,
   "id": "96278e6f",
   "metadata": {},
   "outputs": [],
   "source": [
    "for index, item in enumerate(my_list):\n",
    "    \n",
    "    print('Position:', index+1, '    Item:', item)"
   ]
  },
  {
   "cell_type": "markdown",
   "id": "b0c3a801",
   "metadata": {},
   "source": [
    "```{.output}\n",
    "Position: 1     Item: 1\n",
    "Position: 2     Item: 22\n",
    "Position: 3     Item: 333\n",
    "Position: 4     Item: 4444\n",
    "Position: 5     Item: 55555\n",
    "```\n"
   ]
  },
  {
   "cell_type": "markdown",
   "id": "028d1685",
   "metadata": {},
   "source": [
    "- `list` is a mutable types of arrays.\n",
    "- `NumPy` is a Python library optimised to deal for large, multi-dimensional arrays and matrices.\n",
    "- Repetitive execution of the same block of code over and over is referred to as `iteration`.\n",
    "\n",
    "[r-markdown]: https://rmarkdown.rstudio.com/"
   ]
  }
 ],
 "metadata": {
  "jupytext": {
   "cell_metadata_filter": "-all",
   "main_language": "python",
   "notebook_metadata_filter": "-all"
  }
 },
 "nbformat": 4,
 "nbformat_minor": 5
}
