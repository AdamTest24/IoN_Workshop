{
 "cells": [
  {
   "cell_type": "raw",
   "id": "fecbba5e",
   "metadata": {},
   "source": [
    "---\n",
    "title: 'Reference'\n",
    "---"
   ]
  },
  {
   "cell_type": "markdown",
   "id": "581821fb",
   "metadata": {},
   "source": [
    "## Glossary\n",
    "\n",
    "This is a placeholder file. Please add content here. \n"
   ]
  }
 ],
 "metadata": {
  "jupytext": {
   "cell_metadata_filter": "-all",
   "main_language": "python",
   "notebook_metadata_filter": "-all"
  }
 },
 "nbformat": 4,
 "nbformat_minor": 5
}
