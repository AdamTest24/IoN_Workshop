{
 "cells": [
  {
   "cell_type": "raw",
   "id": "e200922e",
   "metadata": {},
   "source": [
    "---\n",
    "title: 'Reference'\n",
    "---"
   ]
  },
  {
   "cell_type": "markdown",
   "id": "bc7dc6d9",
   "metadata": {},
   "source": [
    "## Glossary\n",
    "\n",
    "This is a placeholder file. Please add content here. \n"
   ]
  }
 ],
 "metadata": {
  "jupytext": {
   "cell_metadata_filter": "-all",
   "main_language": "python",
   "notebook_metadata_filter": "-all"
  }
 },
 "nbformat": 4,
 "nbformat_minor": 5
}
