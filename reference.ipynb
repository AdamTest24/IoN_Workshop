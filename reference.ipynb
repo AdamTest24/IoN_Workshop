{
 "cells": [
  {
   "cell_type": "raw",
   "id": "52ae163d",
   "metadata": {},
   "source": [
    "---\n",
    "title: 'Reference'\n",
    "---"
   ]
  },
  {
   "cell_type": "markdown",
   "id": "790f0afe",
   "metadata": {},
   "source": [
    "## Glossary\n",
    "\n",
    "This is a placeholder file. Please add content here. \n"
   ]
  }
 ],
 "metadata": {
  "jupytext": {
   "cell_metadata_filter": "-all",
   "main_language": "python",
   "notebook_metadata_filter": "-all"
  }
 },
 "nbformat": 4,
 "nbformat_minor": 5
}
