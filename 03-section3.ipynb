{
 "cells": [
  {
   "cell_type": "raw",
   "id": "c8d1cf98",
   "metadata": {},
   "source": [
    "---\n",
    "title: \"Time Series (EEG)\"\n",
    "teaching: 10\n",
    "exercises: 2\n",
    "---"
   ]
  },
  {
   "cell_type": "markdown",
   "id": "07744954",
   "metadata": {},
   "source": [
    "\n",
    "- \n",
    "-\n",
    "-\n"
   ]
  },
  {
   "cell_type": "markdown",
   "id": "6a01e275",
   "metadata": {},
   "source": [
    "-\n",
    "-\n",
    "-\n",
    "\n",
    "## Plotting NumPy series\n"
   ]
  },
  {
   "cell_type": "code",
   "execution_count": null,
   "id": "d47d74ec",
   "metadata": {
    "lines_to_next_cell": 2
   },
   "outputs": [],
   "source": [
    "from pandas import read_csv\n",
    "\n",
    "from matplotlib.pyplot import subplots, show\n",
    "\n",
    "from numpy import arange, linspace, zeros"
   ]
  },
  {
   "cell_type": "code",
   "execution_count": null,
   "id": "d9a83ba2",
   "metadata": {},
   "outputs": [],
   "source": [
    "df = read_csv(\"data/EEG_background.txt\", delim_whitespace=True) \n",
    "\n",
    "df.head()"
   ]
  },
  {
   "cell_type": "markdown",
   "id": "34a4d6e5",
   "metadata": {},
   "source": [
    "```{.output}\n",
    "       FP1      FP2        F3       F4  ...      EO2      EM1      EM2      PHO\n",
    "0  -7.4546  22.8428   6.28159  15.6212  ...  13.7021  12.9109  13.7034  9.37573\n",
    "1 -11.1060  21.4828   6.89088  15.0562  ...  13.7942  13.0194  13.7628  9.44731\n",
    "2 -14.4000  20.0907   7.94856  14.1624  ...  13.8982  13.1116  13.8239  9.51796\n",
    "3 -17.2380  18.7206   9.36857  13.0093  ...  14.0155  13.1927  13.8914  9.58770\n",
    "4 -19.5540  17.4084  11.06040  11.6674  ...  14.1399  13.2692  13.9652  9.65654\n",
    "\n",
    "[5 rows x 28 columns]\n",
    "```\n"
   ]
  },
  {
   "cell_type": "code",
   "execution_count": null,
   "id": "520d7a2c",
   "metadata": {},
   "outputs": [],
   "source": [
    "df.shape"
   ]
  },
  {
   "cell_type": "markdown",
   "id": "bf1983a8",
   "metadata": {},
   "source": [
    "```{.output}\n",
    "(2373, 28)\n",
    "```\n",
    "\n",
    "### Numpy Plot\n",
    "\n",
    "Time in the rows, sensors in the columns"
   ]
  },
  {
   "cell_type": "code",
   "execution_count": null,
   "id": "fd3bf8f6",
   "metadata": {},
   "outputs": [],
   "source": [
    "sr = 256          # Sampling rate: 1 / seconds\n",
    "\n",
    "duration = 5      # seconds\n",
    "\n",
    "df_np = df.to_numpy()\n",
    "\n",
    "data = df_np[:duration*sr, :19]\n",
    "\n",
    "data.shape"
   ]
  },
  {
   "cell_type": "markdown",
   "id": "61d930d2",
   "metadata": {},
   "source": [
    "```{.output}\n",
    "(1280, 19)\n",
    "```\n"
   ]
  },
  {
   "cell_type": "code",
   "execution_count": null,
   "id": "bdac3556",
   "metadata": {
    "lines_to_next_cell": 2
   },
   "outputs": [],
   "source": [
    "def plot_series(data, sr):\n",
    "    '''\n",
    "    Time series plot of multiple time series\n",
    "    Data are normalised to mean=0 and var=1 \n",
    "    \n",
    "    data: nxm numpy array. Rows are time points, columns are channels\n",
    "    sr: sampling rate, same time units as period\n",
    "    '''\n",
    "    from numpy import flip\n",
    "    \n",
    "    samples = data.shape[0]\n",
    "    sensors = data.shape[1]\n",
    "    \n",
    "    period = samples // sr\n",
    "\n",
    "    time = linspace(0, period, period*sr)\n",
    "\n",
    "    offset = 5 # for mean=0 and var=1 normalised data\n",
    "\n",
    "    # Calculate means and standard deviations of all columns\n",
    "    means = data.mean(axis=0)\n",
    "    stds = data.std(axis=0)\n",
    "\n",
    "    # Plot each series with an offset of 2 times the standard deviations\n",
    "    fig, ax = subplots(figsize=(7, 8))\n",
    "\n",
    "    ax.plot(time, (data - means)/stds + offset*arange(sensors-1,-1,-1));\n",
    "\n",
    "    ax.plot(time, zeros((samples, sensors)) + offset*arange(sensors-1,-1,-1),'--',color='gray');\n",
    "    \n",
    "    ax.set(xlabel='Time')\n",
    "    ax.set_yticks(offset*arange(sensors))\n",
    "    ax.set_yticklabels(flip(arange(sensors)+1))"
   ]
  },
  {
   "cell_type": "code",
   "execution_count": null,
   "id": "5445e126",
   "metadata": {},
   "outputs": [],
   "source": [
    "plot_series(data, sr);\n",
    "show()"
   ]
  },
  {
   "cell_type": "markdown",
   "id": "93bb9d3f",
   "metadata": {},
   "source": [
    "<img src=\"fig/03-section3-rendered-unnamed-chunk-6-1.png\" width=\"672\" style=\"display: block; margin: auto;\" />\n",
    "\n",
    "### How to create a function\n"
   ]
  },
  {
   "cell_type": "code",
   "execution_count": null,
   "id": "5971f047",
   "metadata": {
    "lines_to_next_cell": 2
   },
   "outputs": [],
   "source": [
    "def my_plot1(data):\n",
    "    \n",
    "    fig, ax = subplots()\n",
    "        \n",
    "    ax.plot(data)\n",
    "   "
   ]
  },
  {
   "cell_type": "code",
   "execution_count": null,
   "id": "0310a429",
   "metadata": {},
   "outputs": [],
   "source": [
    "my_plot1(data)\n",
    "show()"
   ]
  },
  {
   "cell_type": "markdown",
   "id": "d9f219a7",
   "metadata": {},
   "source": [
    "<img src=\"fig/03-section3-rendered-unnamed-chunk-8-3.png\" width=\"672\" style=\"display: block; margin: auto;\" />\n"
   ]
  },
  {
   "cell_type": "code",
   "execution_count": null,
   "id": "6dc4e40c",
   "metadata": {
    "lines_to_next_cell": 2
   },
   "outputs": [],
   "source": [
    "def my_plot2(data, factor):\n",
    "    '''\n",
    "    this is just a test\n",
    "    '''\n",
    "    \n",
    "    columns = data.shape[1]\n",
    "    \n",
    "    offset = arange(columns)\n",
    "    \n",
    "    fig, ax = subplots()\n",
    "        \n",
    "    ax.plot(data + offset*factor)"
   ]
  },
  {
   "cell_type": "code",
   "execution_count": null,
   "id": "f5126370",
   "metadata": {},
   "outputs": [],
   "source": [
    "my_plot2(data, 100)\n",
    "show()"
   ]
  },
  {
   "cell_type": "markdown",
   "id": "cae02417",
   "metadata": {},
   "source": [
    "<img src=\"fig/03-section3-rendered-unnamed-chunk-10-5.png\" width=\"672\" style=\"display: block; margin: auto;\" />\n",
    "\n",
    "## Fourier\n"
   ]
  },
  {
   "cell_type": "code",
   "execution_count": null,
   "id": "5c982067",
   "metadata": {},
   "outputs": [],
   "source": [
    "from pandas import read_csv\n",
    "from matplotlib.pyplot import subplots, yticks, legend, rcParams, show\n",
    "from numpy import arange, linspace, zeros\n",
    "\n",
    "from scipy.fftpack import fft"
   ]
  },
  {
   "cell_type": "markdown",
   "id": "716e4ad8",
   "metadata": {},
   "source": [
    "```{.error}\n",
    "Error: ModuleNotFoundError: No module named 'scipy'\n",
    "```\n"
   ]
  },
  {
   "cell_type": "code",
   "execution_count": null,
   "id": "3241e3ce",
   "metadata": {},
   "outputs": [],
   "source": [
    "df = read_csv(\"data/EEG_absence.txt\", delim_whitespace=True) \n",
    "\n",
    "sr = 256\n",
    "duration = 5\n",
    "\n",
    "df_np = df.to_numpy()\n",
    "\n",
    "data = df_np[:duration*sr, :2]\n",
    "\n",
    "df.head()"
   ]
  },
  {
   "cell_type": "markdown",
   "id": "e2b4c0e6",
   "metadata": {},
   "source": [
    "```{.output}\n",
    "       FP1       FP2       F3      F4  ...      EO2      EM1      EM2      PHO\n",
    "0  -6.9732  30.00060  60.9815 -23.047  ...  20.8242  20.3583  21.1760  14.5002\n",
    "1 -15.1590  22.85930  62.2845 -24.359  ...  20.8289  20.3292  21.1118  14.5056\n",
    "2 -23.3680  15.85860  63.2742 -25.353  ...  20.8337  20.3120  21.0367  14.5109\n",
    "3 -31.5560   9.05790  63.9646 -26.034  ...  20.8327  20.3002  20.9580  14.5161\n",
    "4 -39.6840   2.45328  64.4026 -26.451  ...  20.8248  20.2862  20.8843  14.5212\n",
    "\n",
    "[5 rows x 28 columns]\n",
    "```\n"
   ]
  },
  {
   "cell_type": "code",
   "execution_count": null,
   "id": "ca529b68",
   "metadata": {},
   "outputs": [],
   "source": [
    "data.shape"
   ]
  },
  {
   "cell_type": "markdown",
   "id": "338a5dea",
   "metadata": {},
   "source": [
    "```{.output}\n",
    "(1280, 2)\n",
    "```\n"
   ]
  },
  {
   "cell_type": "code",
   "execution_count": null,
   "id": "592853f1",
   "metadata": {
    "lines_to_next_cell": 2
   },
   "outputs": [],
   "source": [
    "def plot_series(data, sr):\n",
    "    '''\n",
    "    Time series plot of multiple time series\n",
    "    Data are normalised to mean=0 and var=1 \n",
    "    \n",
    "    data: nxm numpy array. Rows are time points, columns are channels\n",
    "    sr: sampling rate, same time units as period\n",
    "    \n",
    "    leg: Legend of figure, uses column index\n",
    "    '''\n",
    "\n",
    "    samples = data.shape[0]\n",
    "    sensors = data.shape[1]\n",
    "    \n",
    "    period = samples // sr\n",
    "\n",
    "    time = linspace(0, period, period*sr)\n",
    "\n",
    "    offset = 5 # for mean=0 and var=1 normalised data\n",
    "\n",
    "    # Calculate means and standard deviations of all columns\n",
    "    means = data.mean(axis=0)\n",
    "    stds = data.std(axis=0)\n",
    "\n",
    "    # Plot each series with an offset of 2 times the standard deviations\n",
    "    fig, ax = subplots(figsize=(7, 5))\n",
    "\n",
    "    ax.plot(time, (data - means)/stds + offset*arange(sensors-1,-1,-1));\n",
    "\n",
    "    ax.plot(time, zeros((samples, sensors)) + offset*arange(sensors-1,-1,-1),'--',color='gray');\n",
    "    \n",
    "    yticks([]);\n",
    "       \n",
    "    ax.set(xlabel='Time')\n",
    "    "
   ]
  },
  {
   "cell_type": "code",
   "execution_count": null,
   "id": "223274e0",
   "metadata": {},
   "outputs": [],
   "source": [
    "plot_series(data[:, :2], sr)\n",
    "show()"
   ]
  },
  {
   "cell_type": "markdown",
   "id": "b44631c5",
   "metadata": {},
   "source": [
    "<img src=\"fig/03-section3-rendered-unnamed-chunk-15-7.png\" width=\"672\" style=\"display: block; margin: auto;\" />\n"
   ]
  },
  {
   "cell_type": "code",
   "execution_count": null,
   "id": "8c7f5494",
   "metadata": {},
   "outputs": [],
   "source": [
    "data_fft = fft(data, axis=0)"
   ]
  },
  {
   "cell_type": "markdown",
   "id": "7d153197",
   "metadata": {},
   "source": [
    "```{.error}\n",
    "Error: NameError: name 'fft' is not defined\n",
    "```"
   ]
  },
  {
   "cell_type": "code",
   "execution_count": null,
   "id": "6e232478",
   "metadata": {},
   "outputs": [],
   "source": [
    "data_fft.shape"
   ]
  },
  {
   "cell_type": "markdown",
   "id": "0ad201c7",
   "metadata": {},
   "source": [
    "```{.error}\n",
    "Error: NameError: name 'data_fft' is not defined\n",
    "```\n"
   ]
  },
  {
   "cell_type": "code",
   "execution_count": null,
   "id": "c4af7d68",
   "metadata": {},
   "outputs": [],
   "source": [
    "rows = data.shape[0]\n",
    "freqs  = (sr/2)*linspace(0, 1, rows//2)\n",
    "amplitude = (2.0 / rows) * abs(data_fft[:rows//2, :])"
   ]
  },
  {
   "cell_type": "markdown",
   "id": "178d0977",
   "metadata": {},
   "source": [
    "```{.error}\n",
    "Error: NameError: name 'data_fft' is not defined\n",
    "```"
   ]
  },
  {
   "cell_type": "code",
   "execution_count": null,
   "id": "f14090f6",
   "metadata": {},
   "outputs": [],
   "source": [
    "fig, ax = subplots()\n",
    "\n",
    "ax.plot(freqs, amplitude);"
   ]
  },
  {
   "cell_type": "markdown",
   "id": "18cb696d",
   "metadata": {},
   "source": [
    "```{.error}\n",
    "Error: NameError: name 'amplitude' is not defined\n",
    "```"
   ]
  },
  {
   "cell_type": "code",
   "execution_count": null,
   "id": "d155d059",
   "metadata": {},
   "outputs": [],
   "source": [
    "show()"
   ]
  },
  {
   "cell_type": "markdown",
   "id": "7585dfe6",
   "metadata": {},
   "source": [
    "<img src=\"fig/03-section3-rendered-unnamed-chunk-17-9.png\" width=\"672\" style=\"display: block; margin: auto;\" />\n"
   ]
  },
  {
   "cell_type": "code",
   "execution_count": null,
   "id": "a09d28ab",
   "metadata": {},
   "outputs": [],
   "source": [
    "fig, ax = subplots()\n",
    "\n",
    "ax.plot(freqs, amplitude);"
   ]
  },
  {
   "cell_type": "markdown",
   "id": "529ac364",
   "metadata": {},
   "source": [
    "```{.error}\n",
    "Error: NameError: name 'amplitude' is not defined\n",
    "```"
   ]
  },
  {
   "cell_type": "code",
   "execution_count": null,
   "id": "8e2a1b30",
   "metadata": {},
   "outputs": [],
   "source": [
    "ax.set_xlim(0, 10);\n",
    "ax.set_xlabel('Frequency (Hz)', fontsize=20)\n",
    "ax.set_ylabel('Amplitude (abs)', fontsize=20);\n",
    "\n",
    "show()"
   ]
  },
  {
   "cell_type": "markdown",
   "id": "3c1e69a9",
   "metadata": {},
   "source": [
    "<img src=\"fig/03-section3-rendered-unnamed-chunk-18-11.png\" width=\"672\" style=\"display: block; margin: auto;\" />\n"
   ]
  },
  {
   "cell_type": "markdown",
   "id": "9db5bf4b",
   "metadata": {},
   "source": [
    "-\n",
    "-\n",
    "-\n",
    "\n",
    "[r-markdown]: https://rmarkdown.rstudio.com/"
   ]
  }
 ],
 "metadata": {
  "jupytext": {
   "cell_metadata_filter": "-all",
   "main_language": "python",
   "notebook_metadata_filter": "-all"
  }
 },
 "nbformat": 4,
 "nbformat_minor": 5
}
