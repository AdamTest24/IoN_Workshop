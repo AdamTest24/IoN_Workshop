{
 "cells": [
  {
   "cell_type": "raw",
   "id": "f52830ce",
   "metadata": {},
   "source": [
    "---\n",
    "title: \"Time Series (EEG)\"\n",
    "teaching: 10\n",
    "exercises: 2\n",
    "---"
   ]
  },
  {
   "cell_type": "markdown",
   "id": "6559e750",
   "metadata": {},
   "source": [
    "[**Download Chapter notebook (ipynb)**](03-section3.ipynb)"
   ]
  },
  {
   "cell_type": "markdown",
   "id": "4b41130f",
   "metadata": {},
   "source": [
    "- How is time series data visualised?\n",
    "- What information is provided by the Fourier spectrum?\n",
    "- When is the term \"harmonics\" used?\n"
   ]
  },
  {
   "cell_type": "markdown",
   "id": "9660f613",
   "metadata": {},
   "source": [
    "- Use offsets to display multiple time series\n",
    "- Describing EEG data plots\n",
    "- Interpreting Fourier spectra of time series\n",
    "\n",
    "## Time Series\n",
    "### **Import Time Series**\n",
    "\n",
    "In this lesson, we will use the __Pandas__ package to import time series data. The Pandas package for data science is included in the Anaconda distribution of Python. It is also included in our virtual environment. \n",
    "\n",
    "To use a function contained in Pandas, it first needs to be imported. Our time series data is in `.csv` format, and we therefore need to read this data in from a csv file. In order to do this, we will import the function `read_csv`. This function will create a Pandas dataframe.\n",
    "\n",
    "Note that the location of the data file is specified within quotes by the relative path to the subfolder `data` followed by the file name. Use the JupyterLab file browser to check that this `data` subfolder exists within the same folder as this notebook, and that it contains the `EEG_background.txt` file.\n",
    "\n",
    "### **Plotting NumPy series**\n",
    "\n",
    "As an example, let us import a time series data. This represent human electroencephalogram (EEG) as recorded during normal background activity.\n",
    "\n",
    "\n"
   ]
  },
  {
   "cell_type": "code",
   "execution_count": null,
   "id": "1e76bf77",
   "metadata": {
    "lines_to_next_cell": 2
   },
   "outputs": [],
   "source": [
    "from pandas import read_csv"
   ]
  },
  {
   "cell_type": "code",
   "execution_count": null,
   "id": "461751ca",
   "metadata": {},
   "outputs": [],
   "source": [
    "# Please check the path to the file on your machine!\n",
    "\n",
    "df1 = read_csv(\"data/EEG_background.txt\", delim_whitespace=True) \n",
    "\n",
    "df1.head()"
   ]
  },
  {
   "cell_type": "markdown",
   "id": "11bc1286",
   "metadata": {},
   "source": [
    "```{.output}\n",
    "       FP1      FP2        F3       F4  ...      EO2      EM1      EM2      PHO\n",
    "0  -7.4546  22.8428   6.28159  15.6212  ...  13.7021  12.9109  13.7034  9.37573\n",
    "1 -11.1060  21.4828   6.89088  15.0562  ...  13.7942  13.0194  13.7628  9.44731\n",
    "2 -14.4000  20.0907   7.94856  14.1624  ...  13.8982  13.1116  13.8239  9.51796\n",
    "3 -17.2380  18.7206   9.36857  13.0093  ...  14.0155  13.1927  13.8914  9.58770\n",
    "4 -19.5540  17.4084  11.06040  11.6674  ...  14.1399  13.2692  13.9652  9.65654\n",
    "\n",
    "[5 rows x 28 columns]\n",
    "```\n",
    "\n",
    "The specification of `delim_whitespace` is needed because data are not comme-separated but space-separated! \n",
    "\n",
    "The `head()` function gives you an overview of the resulting dataframe. \n",
    "\n",
    "If you want to know how many rows and columns there are, use `shape`.\n"
   ]
  },
  {
   "cell_type": "code",
   "execution_count": null,
   "id": "c59335bb",
   "metadata": {},
   "outputs": [],
   "source": [
    "df1.shape"
   ]
  },
  {
   "cell_type": "markdown",
   "id": "46d0462a",
   "metadata": {},
   "source": [
    "```{.output}\n",
    "(2373, 28)\n",
    "```\n",
    "\n",
    "We can then convert the dataframe into a Numpy array. \n"
   ]
  },
  {
   "cell_type": "code",
   "execution_count": null,
   "id": "4577be1d",
   "metadata": {},
   "outputs": [],
   "source": [
    "data_1 = df1.to_numpy()\n",
    "\n",
    "data_1.shape"
   ]
  },
  {
   "cell_type": "markdown",
   "id": "65d67a70",
   "metadata": {},
   "source": [
    "```{.output}\n",
    "(2373, 28)\n",
    "```\n",
    "\n",
    "### **Time Series Plot**\n",
    "\n",
    "If we directly plot the Numpy array, the result will be a mess, as each data recording is plotted on top of another, and it becomes very difficult to visualise.\n"
   ]
  },
  {
   "cell_type": "code",
   "execution_count": null,
   "id": "788f53e5",
   "metadata": {},
   "outputs": [],
   "source": [
    "from matplotlib.pyplot import subplots, show\n",
    "\n",
    "fig, ax = subplots()\n",
    "\n",
    "ax.plot(data_1);"
   ]
  },
  {
   "cell_type": "markdown",
   "id": "fc192fe2",
   "metadata": {},
   "source": [
    "Below is a block of code that improves the plot. We are defining a **Python function**. To activate it, execute the cell.\n"
   ]
  },
  {
   "cell_type": "code",
   "execution_count": null,
   "id": "56dc9011",
   "metadata": {
    "lines_to_next_cell": 2
   },
   "outputs": [],
   "source": [
    "def plot_series(data, sr):\n",
    "    '''\n",
    "    Time series plot of multiple time series\n",
    "    Data are normalised to mean=0 and var=1 \n",
    "    \n",
    "    data: nxm numpy array. Rows are time points, columns are channels\n",
    "    sr: sampling rate, same time units as period\n",
    "    '''\n",
    "    from numpy import flip\n",
    "    from matplotlib.pyplot import subplots\n",
    "    from numpy import arange, linspace, zeros\n",
    "\n",
    "    \n",
    "    samples = data.shape[0]\n",
    "    sensors = data.shape[1]\n",
    "    \n",
    "    period = samples / sr\n",
    "\n",
    "    time = linspace(0, period, samples)\n",
    "\n",
    "    offset = 5 # for mean=0 and var=1 normalised data\n",
    "\n",
    "    # Calculate means and standard deviations of all columns\n",
    "    means = data.mean(axis=0)\n",
    "    stds = data.std(axis=0)\n",
    "\n",
    "    # Plot each series with an offset of 2 times the standard deviations\n",
    "    fig, ax = subplots(figsize=(7, 8))\n",
    "\n",
    "    ax.plot(time, (data - means)/stds + offset*arange(sensors-1,-1,-1));\n",
    "\n",
    "    ax.plot(time, zeros((samples, sensors)) + offset*arange(sensors-1,-1,-1),'--',color='gray');\n",
    "    \n",
    "    ax.set(xlabel='Time')\n",
    "    ax.set_yticks(offset*arange(sensors))\n",
    "    ax.set_yticklabels(flip(arange(sensors)+1))"
   ]
  },
  {
   "cell_type": "markdown",
   "id": "b21d9215",
   "metadata": {},
   "source": [
    "## Python Function\n",
    "\n",
    "Please execute the above function definition before proceeding. The function code takes data and creates a plot of all columns as time series, one above the other, using a constant offset. When you execute the function code nothing happens. Similar to the import, running a function code will only activate it and make it available for later use."
   ]
  },
  {
   "cell_type": "markdown",
   "id": "8a14081a",
   "metadata": {},
   "source": [
    "The function is now activated. To use it, you simply need to call it by the name that we assigned to it, in the cell above: `plot_series()`. \n",
    "\n",
    "Any keyword arguments have to be provided in parantheses, in the correct order. The first argument is an array containing the data. The second argument is the sampling rate. The sampling rate of the imported EEG is 256.\n"
   ]
  },
  {
   "cell_type": "code",
   "execution_count": null,
   "id": "8ee2dc60",
   "metadata": {},
   "outputs": [],
   "source": [
    "sr = 256\n",
    "\n",
    "plot_series(data_1, sr);\n",
    "\n",
    "# To only see the first 20 channels, use:\n",
    "# plot_series(data_1[:, :20], sr);\n",
    "\n",
    "show()"
   ]
  },
  {
   "cell_type": "markdown",
   "id": "691ed1e4",
   "metadata": {},
   "source": [
    "<img src=\"fig/03-section3-rendered-unnamed-chunk-7-1.png\" width=\"672\" style=\"display: block; margin: auto;\" />\n",
    "\n",
    "Observations: In this display of a non-pathological (background) EEG, you should be able to observe the following:\n",
    "\n",
    "- There are irregular oscillations of all recorded brain potentials.\n",
    "\n",
    "- Oscillations recorded at different locations above the brain differ.\n",
    "\n",
    "- Oscillations are not stable, but modulated over time.\n",
    "\n",
    "- There are different frequency components in each trace."
   ]
  },
  {
   "cell_type": "markdown",
   "id": "4bbaa40c",
   "metadata": {},
   "source": [
    "## Exercise\n",
    "Try to import the data in file `data/EEG_absence.txt` into a new dataframe and convert the to a Numpy array called `data_2`. Then display `data_2` as a time series using the same function. "
   ]
  },
  {
   "cell_type": "markdown",
   "id": "34cd7446",
   "metadata": {},
   "source": [
    "## ANSWER"
   ]
  },
  {
   "cell_type": "code",
   "execution_count": null,
   "id": "16207e3c",
   "metadata": {},
   "outputs": [],
   "source": [
    "df2 = read_csv(\"data/EEG_absence.txt\", delim_whitespace=True) \n",
    "\n",
    "df2_np = df2.to_numpy()\n",
    "\n",
    "data_2 = df2_np[:, :20]\n",
    "\n",
    "data_2.shape"
   ]
  },
  {
   "cell_type": "markdown",
   "id": "41b22684",
   "metadata": {},
   "source": [
    "```{.output}\n",
    "(1721, 20)\n",
    "```"
   ]
  },
  {
   "cell_type": "code",
   "execution_count": null,
   "id": "9d6d7433",
   "metadata": {},
   "outputs": [],
   "source": [
    "plot_series(data_2, sr)\n",
    "\n",
    "show()"
   ]
  },
  {
   "cell_type": "markdown",
   "id": "51c85d7d",
   "metadata": {},
   "source": [
    "<img src=\"fig/03-section3-rendered-unnamed-chunk-8-3.png\" width=\"672\" style=\"display: block; margin: auto;\" />"
   ]
  },
  {
   "cell_type": "markdown",
   "id": "8d542413",
   "metadata": {},
   "source": [
    "This is a recording of the human EEG during an epileptic seizure. Here are some observations regarding this pathological recording:\n",
    "\n",
    "- There are regular oscillations.\n",
    "\n",
    "- Oscillations recorded at different locations are not identical but similar or at least related in shape.\n",
    "\n",
    "- Despite some modulation, oscillations are fairly stable over time.\n",
    "\n",
    "- There are repetitive motifs composed of two major components throughout the recording, a sharp spike and a slow wave.\n",
    "\n",
    "## Fourier Spectrum\n",
    "<p style='text-align: justify;'>\n",
    "The Fourier spectrum decomposes the time series into a sum of sine waves. The spectrum gives the coefficients of each of the sine wave components. The coefficients are directly related to the amplitudes needed to optimally fit the sum of all sine waves to recreate the original data.\n",
    "</p>\n",
    "<p style='text-align: justify;'>\n",
    "However, the assumption behind the Fourier transform is that the data are provided as in infinitely long stationary time series. These assumptions are not fulfilled as the data are finite and stationarity of a biological system can typically not be guaranteed. Thus, interpretation needs to be cautious.\n",
    "</p>\n",
    "We import the Fourier transform function for real data `rfft` from scipy.fft. We can use it to transform all columns of a Nympy array at the same time.\n",
    "\n",
    "We then find out how many rows there are in the data and calculate the (normalised) amplitudes and the corresponding frequencies. The latter uses `rfftfreq` from scipy.fft.\n"
   ]
  },
  {
   "cell_type": "code",
   "execution_count": null,
   "id": "fd0297c9",
   "metadata": {
    "lines_to_next_cell": 2
   },
   "outputs": [],
   "source": [
    "from scipy.fft import rfft, rfftfreq\n",
    "\n",
    "data_2_fft = rfft(data_2, axis=0)\n",
    "\n",
    "rows  = data_2.shape[0]\n",
    "\n",
    "# amplitude\n",
    "amplitudes = (2.0 / rows)*abs(data_2_fft)\n",
    "\n",
    "# frequencies\n",
    "freqs = rfftfreq(rows, 1 / sr)"
   ]
  },
  {
   "cell_type": "code",
   "execution_count": null,
   "id": "4c063c95",
   "metadata": {},
   "outputs": [],
   "source": [
    "amplitudes.shape"
   ]
  },
  {
   "cell_type": "markdown",
   "id": "a86e94c0",
   "metadata": {},
   "source": [
    "```{.output}\n",
    "(861, 20)\n",
    "```\n",
    "\n",
    "To plot the results, we pick a single time series and display its Fourier spectrum. Note how the frequency range is controlled using `set_xlim()`.\n"
   ]
  },
  {
   "cell_type": "code",
   "execution_count": null,
   "id": "9b4c5ea0",
   "metadata": {},
   "outputs": [],
   "source": [
    "from matplotlib.pyplot import subplots\n",
    "\n",
    "chan = 0\n",
    "\n",
    "fig, ax = subplots()\n",
    "\n",
    "ax.plot(freqs, amplitudes[:, chan]);\n",
    "ax.set_xlim(0, 20);\n",
    "ax.set_xlabel('Frequency (Hz)')\n",
    "ax.set_ylabel('Amplitude');\n",
    "# ax.set_yscale('log')"
   ]
  },
  {
   "cell_type": "markdown",
   "id": "c475acdd",
   "metadata": {},
   "source": [
    "<img src=\"fig/03-section3-rendered-unnamed-chunk-11-5.png\" width=\"672\" style=\"display: block; margin: auto;\" />\n",
    "\n",
    "<p style='text-align: justify;'>\n",
    "We can see that in channel with index 0, the main amplitude contributions lie between 2 and 3 Hz, the so-called fundamental frequency. There are also some further local maxima. These are interpreted as \"harmonics\", integer multiples of the fundamental frequency.\n",
    "</p>\n",
    "\n",
    "Clinically, this means that the signal recorded during this epileptic seizure is dominated by an approximately 3Hz rhythm where each cycle lasts about a third of a second. The presence of harmonics points to the nonlinear nature of the rhythm. \n",
    "\n",
    "Here is a cell with code to display the spectrum of all columns in your array:\n"
   ]
  },
  {
   "cell_type": "code",
   "execution_count": null,
   "id": "b9869161",
   "metadata": {},
   "outputs": [],
   "source": [
    "cols = data_2.shape[1]\n",
    "\n",
    "fig, axes = subplots(figsize=(6, 15), nrows=cols, sharex=False)\n",
    "\n",
    "names = df2.columns\n",
    "\n",
    "for index, ax in enumerate(axes.flat):\n",
    "    \n",
    "    axes[index].plot(freqs, amplitudes[:, index])\n",
    "    axes[index].set_xlim(0, 12)\n",
    "    axes[index].set(ylabel=f'{names[index]}')\n",
    "\n",
    "axes[index].set(xlabel='Frequency (Hz)');\n",
    "\n",
    "fig.tight_layout()\n",
    "\n",
    "show()"
   ]
  },
  {
   "cell_type": "markdown",
   "id": "6fc03000",
   "metadata": {},
   "source": [
    "<img src=\"fig/03-section3-rendered-unnamed-chunk-12-7.png\" width=\"576\" style=\"display: block; margin: auto;\" />\n",
    "\n",
    "We find that most channels display the fundamental between 2.5 and 3 Hz. Clinically, this is then referred to as a Generalised Seizure, meaning it can be recorded over a large area of cortex.\n"
   ]
  },
  {
   "cell_type": "markdown",
   "id": "292f2950",
   "metadata": {},
   "source": [
    "- `plot_series` is a self-made/user-defined Python function created to display multiple timeseries plots.\n",
    "- The Fourier spectrum decomposes a time series into a sum of sine waves to find the dominant frequencies.\n",
    "- `rfft` is a SciPy function to calculate the Fourier transform of all columns of a (real-valued) Nympy array.\n",
    "\n",
    "[r-markdown]: https://rmarkdown.rstudio.com/"
   ]
  }
 ],
 "metadata": {
  "jupytext": {
   "cell_metadata_filter": "-all",
   "main_language": "python",
   "notebook_metadata_filter": "-all"
  }
 },
 "nbformat": 4,
 "nbformat_minor": 5
}
