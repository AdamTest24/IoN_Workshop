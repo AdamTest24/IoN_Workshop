{
 "cells": [
  {
   "cell_type": "raw",
   "id": "4543a1fd",
   "metadata": {},
   "source": [
    "---\n",
    "title: \"Neuro Images Clustering\"\n",
    "teaching: 10\n",
    "exercises: 2\n",
    "---"
   ]
  },
  {
   "cell_type": "markdown",
   "id": "bb49d029",
   "metadata": {},
   "source": [
    "\n",
    "- \n",
    "-\n",
    "-\n"
   ]
  },
  {
   "cell_type": "markdown",
   "id": "4d20dd07",
   "metadata": {},
   "source": [
    "-\n",
    "-\n",
    "-\n",
    "\n",
    "## Installing and using Nibabel Python Library\n",
    "\n"
   ]
  },
  {
   "cell_type": "code",
   "execution_count": null,
   "id": "450b589c",
   "metadata": {},
   "outputs": [],
   "source": [
    "from numpy import concatenate, zeros\n",
    "\n",
    "from matplotlib.pyplot import subplots, tight_layout, show\n",
    "\n",
    "import nibabel as nib"
   ]
  },
  {
   "cell_type": "markdown",
   "id": "bfa9ef9d",
   "metadata": {},
   "source": [
    "### Load images and get data\n"
   ]
  },
  {
   "cell_type": "code",
   "execution_count": null,
   "id": "00f692f9",
   "metadata": {},
   "outputs": [],
   "source": [
    "img_nibabel = nib.load(\"data/T1_mask.nii\")\n",
    "\n",
    "type(img_nibabel)"
   ]
  },
  {
   "cell_type": "markdown",
   "id": "3b759607",
   "metadata": {},
   "source": [
    "```{.output}\n",
    "<class 'nibabel.nifti1.Nifti1Image'>\n",
    "```\n"
   ]
  },
  {
   "cell_type": "code",
   "execution_count": null,
   "id": "b8a7cba5",
   "metadata": {},
   "outputs": [],
   "source": [
    "meta_info = img_nibabel.header\n",
    "\n",
    "print(meta_info)"
   ]
  },
  {
   "cell_type": "markdown",
   "id": "9eb287b9",
   "metadata": {},
   "source": [
    "```{.output}\n",
    "<class 'nibabel.nifti1.Nifti1Header'> object, endian='<'\n",
    "sizeof_hdr      : 348\n",
    "data_type       : b''\n",
    "db_name         : b''\n",
    "extents         : 0\n",
    "session_error   : 0\n",
    "regular         : b'r'\n",
    "dim_info        : 0\n",
    "dim             : [  3 128 128  70   1   1   1   1]\n",
    "intent_p1       : 0.0\n",
    "intent_p2       : 0.0\n",
    "intent_p3       : 0.0\n",
    "intent_code     : none\n",
    "datatype        : float32\n",
    "bitpix          : 32\n",
    "slice_start     : 0\n",
    "pixdim          : [-1.   2.   2.   2.2  0.   0.   0.   0. ]\n",
    "vox_offset      : 0.0\n",
    "scl_slope       : nan\n",
    "scl_inter       : nan\n",
    "slice_end       : 0\n",
    "slice_code      : unknown\n",
    "xyzt_units      : 10\n",
    "cal_max         : 0.0\n",
    "cal_min         : 0.0\n",
    "slice_duration  : 0.0\n",
    "toffset         : 0.0\n",
    "glmax           : 0\n",
    "glmin           : 0\n",
    "descrip         : b'5.0.11'\n",
    "aux_file        : b''\n",
    "qform_code      : scanner\n",
    "sform_code      : scanner\n",
    "quatern_b       : 0.0\n",
    "quatern_c       : 1.0\n",
    "quatern_d       : 0.0\n",
    "qoffset_x       : 125.5061\n",
    "qoffset_y       : -109.38977\n",
    "qoffset_z       : -86.742615\n",
    "srow_x          : [ -2.       0.       0.     125.5061]\n",
    "srow_y          : [   0.         2.         0.      -109.38977]\n",
    "srow_z          : [  0.         0.         2.2      -86.742615]\n",
    "intent_name     : b''\n",
    "magic           : b'n+1'\n",
    "```\n"
   ]
  },
  {
   "cell_type": "code",
   "execution_count": null,
   "id": "58cc7470",
   "metadata": {},
   "outputs": [],
   "source": [
    "print(meta_info.get_xyzt_units())"
   ]
  },
  {
   "cell_type": "markdown",
   "id": "6fd9e24d",
   "metadata": {},
   "source": [
    "```{.output}\n",
    "('mm', 'sec')\n",
    "```\n"
   ]
  },
  {
   "cell_type": "code",
   "execution_count": null,
   "id": "eaab8f3d",
   "metadata": {},
   "outputs": [],
   "source": [
    "img1 = img_nibabel.get_fdata()\n",
    "\n",
    "print(type(img1), img1.shape)"
   ]
  },
  {
   "cell_type": "markdown",
   "id": "a2f1c4be",
   "metadata": {},
   "source": [
    "```{.output}\n",
    "<class 'numpy.memmap'> (128, 128, 70)\n",
    "```\n"
   ]
  },
  {
   "cell_type": "code",
   "execution_count": null,
   "id": "f61b1555",
   "metadata": {
    "lines_to_next_cell": 2
   },
   "outputs": [],
   "source": [
    "img_nibabel = nib.load(\"data/b0_mask.nii\")\n",
    "\n",
    "img2 = img_nibabel.get_fdata()"
   ]
  },
  {
   "cell_type": "code",
   "execution_count": null,
   "id": "3242cb30",
   "metadata": {},
   "outputs": [],
   "source": [
    "img1.shape"
   ]
  },
  {
   "cell_type": "markdown",
   "id": "d86c8ca0",
   "metadata": {},
   "source": [
    "```{.output}\n",
    "(128, 128, 70)\n",
    "```\n"
   ]
  },
  {
   "cell_type": "markdown",
   "id": "45ae32ba",
   "metadata": {},
   "source": [
    "### plotting Images\n"
   ]
  },
  {
   "cell_type": "code",
   "execution_count": null,
   "id": "88962b8e",
   "metadata": {
    "lines_to_next_cell": 2
   },
   "outputs": [],
   "source": [
    "img_slice = 30"
   ]
  },
  {
   "cell_type": "code",
   "execution_count": null,
   "id": "aae96ed0",
   "metadata": {},
   "outputs": [],
   "source": [
    "fig, ax = subplots(ncols=2, figsize=(15, 5))\n",
    "\n",
    "f1 = ax[0].imshow(img1[:, :, img_slice], cmap=\"gray\")\n",
    "f2 = ax[1].imshow(img2[:, :, img_slice], cmap=\"gray\")\n",
    "\n",
    "fig.colorbar(f1, ax=ax[0])"
   ]
  },
  {
   "cell_type": "markdown",
   "id": "f95fde15",
   "metadata": {},
   "source": [
    "```{.output}\n",
    "<matplotlib.colorbar.Colorbar object at 0x7f5e28ecb670>\n",
    "```"
   ]
  },
  {
   "cell_type": "code",
   "execution_count": null,
   "id": "c0e423fe",
   "metadata": {},
   "outputs": [],
   "source": [
    "fig.colorbar(f2, ax=ax[1]);\n",
    "\n",
    "ax[0].set_xlabel('T1 Image', fontsize=16);\n",
    "ax[1].set_xlabel('B0 Image', fontsize=16);\n",
    "\n",
    "show()"
   ]
  },
  {
   "cell_type": "markdown",
   "id": "871941cf",
   "metadata": {},
   "source": [
    "<img src=\"fig/05-section5-rendered-unnamed-chunk-9-1.png\" width=\"1440\" style=\"display: block; margin: auto;\" />\n",
    "\n",
    "## Data pre-processing"
   ]
  },
  {
   "cell_type": "code",
   "execution_count": null,
   "id": "4d725c2c",
   "metadata": {
    "lines_to_next_cell": 0
   },
   "outputs": [],
   "source": [
    "img1_slice = img1[:, :, img_slice]\n",
    "img2_slice = img2[:, :, img_slice]"
   ]
  },
  {
   "cell_type": "markdown",
   "id": "1612cf6a",
   "metadata": {},
   "source": [
    "### Remove zeros"
   ]
  },
  {
   "cell_type": "code",
   "execution_count": null,
   "id": "c5a00d20",
   "metadata": {},
   "outputs": [],
   "source": [
    "fig, ax = subplots(ncols=2, figsize=(20, 5))\n",
    "\n",
    "ax[0].hist(img1_slice.flatten(), bins=50)"
   ]
  },
  {
   "cell_type": "markdown",
   "id": "7ca76af6",
   "metadata": {},
   "source": [
    "```{.output}\n",
    "(array([1.2374e+04, 3.0000e+00, 6.0000e+00, 1.0000e+01, 1.1000e+01,\n",
    "       2.4000e+01, 3.2000e+01, 2.5000e+01, 4.3000e+01, 3.5000e+01,\n",
    "       3.8000e+01, 3.3000e+01, 2.9000e+01, 3.0000e+01, 2.6000e+01,\n",
    "       4.7000e+01, 4.6000e+01, 6.6000e+01, 5.3000e+01, 6.6000e+01,\n",
    "       6.8000e+01, 6.4000e+01, 9.7000e+01, 9.5000e+01, 1.2100e+02,\n",
    "       1.2700e+02, 1.3100e+02, 1.2600e+02, 1.5600e+02, 1.3700e+02,\n",
    "       1.4000e+02, 1.2900e+02, 1.1900e+02, 1.1900e+02, 1.3100e+02,\n",
    "       1.4600e+02, 1.5400e+02, 1.4300e+02, 1.7000e+02, 1.2800e+02,\n",
    "       1.1100e+02, 1.1100e+02, 1.0900e+02, 1.0500e+02, 1.0500e+02,\n",
    "       1.2600e+02, 9.9000e+01, 5.5000e+01, 4.2000e+01, 2.3000e+01]), array([  0.        ,   9.6287677 ,  19.2575354 ,  28.8863031 ,\n",
    "        38.5150708 ,  48.1438385 ,  57.7726062 ,  67.4013739 ,\n",
    "        77.0301416 ,  86.6589093 ,  96.287677  , 105.9164447 ,\n",
    "       115.5452124 , 125.1739801 , 134.8027478 , 144.4315155 ,\n",
    "       154.0602832 , 163.6890509 , 173.3178186 , 182.9465863 ,\n",
    "       192.575354  , 202.2041217 , 211.8328894 , 221.4616571 ,\n",
    "       231.0904248 , 240.7191925 , 250.34796021, 259.97672791,\n",
    "       269.60549561, 279.23426331, 288.86303101, 298.49179871,\n",
    "       308.12056641, 317.74933411, 327.37810181, 337.00686951,\n",
    "       346.63563721, 356.26440491, 365.89317261, 375.52194031,\n",
    "       385.15070801, 394.77947571, 404.40824341, 414.03701111,\n",
    "       423.66577881, 433.29454651, 442.92331421, 452.55208191,\n",
    "       462.18084961, 471.80961731, 481.43838501]), <BarContainer object of 50 artists>)\n",
    "```"
   ]
  },
  {
   "cell_type": "code",
   "execution_count": null,
   "id": "5ad0c866",
   "metadata": {},
   "outputs": [],
   "source": [
    "ax[1].hist(img2_slice.flatten(), bins=50);\n",
    "\n",
    "show()"
   ]
  },
  {
   "cell_type": "markdown",
   "id": "3bf9a436",
   "metadata": {},
   "source": [
    "<img src=\"fig/05-section5-rendered-unnamed-chunk-11-3.png\" width=\"1920\" style=\"display: block; margin: auto;\" />\n"
   ]
  },
  {
   "cell_type": "code",
   "execution_count": null,
   "id": "24830c97",
   "metadata": {},
   "outputs": [],
   "source": [
    "mask = (img1_slice>0) & (img2_slice>0) \n",
    "\n",
    "img1_nz = img1_slice[mask]\n",
    "img2_nz = img2_slice[mask]\n",
    "\n",
    "fig, ax = subplots(nrows=1, ncols=2, figsize=(20, 5))\n",
    "\n",
    "ax[0].hist(img1_nz, bins=50)"
   ]
  },
  {
   "cell_type": "markdown",
   "id": "d5424855",
   "metadata": {},
   "source": [
    "```{.output}\n",
    "(array([  7.,   9.,  11.,  18.,  35.,  19.,  39.,  33.,  32.,  41.,  29.,\n",
    "        25.,  27.,  29.,  52.,  58.,  52.,  48.,  66.,  71.,  57.,  96.,\n",
    "        88., 119., 124., 122., 125., 149., 136., 121., 137., 112., 113.,\n",
    "       135., 116., 151., 156., 135., 159., 113., 108., 100., 107., 104.,\n",
    "       109., 114.,  88.,  53.,  38.,  23.]), array([ 17.50374222,  26.78243507,  36.06112793,  45.33982079,\n",
    "        54.61851364,  63.8972065 ,  73.17589935,  82.45459221,\n",
    "        91.73328506, 101.01197792, 110.29067078, 119.56936363,\n",
    "       128.84805649, 138.12674934, 147.4054422 , 156.68413506,\n",
    "       165.96282791, 175.24152077, 184.52021362, 193.79890648,\n",
    "       203.07759933, 212.35629219, 221.63498505, 230.9136779 ,\n",
    "       240.19237076, 249.47106361, 258.74975647, 268.02844933,\n",
    "       277.30714218, 286.58583504, 295.86452789, 305.14322075,\n",
    "       314.4219136 , 323.70060646, 332.97929932, 342.25799217,\n",
    "       351.53668503, 360.81537788, 370.09407074, 379.3727636 ,\n",
    "       388.65145645, 397.93014931, 407.20884216, 416.48753502,\n",
    "       425.76622787, 435.04492073, 444.32361359, 453.60230644,\n",
    "       462.8809993 , 472.15969215, 481.43838501]), <BarContainer object of 50 artists>)\n",
    "```"
   ]
  },
  {
   "cell_type": "code",
   "execution_count": null,
   "id": "e871f48a",
   "metadata": {},
   "outputs": [],
   "source": [
    "ax[1].hist(img2_nz, bins=50);\n",
    "\n",
    "show()"
   ]
  },
  {
   "cell_type": "markdown",
   "id": "b0f0b735",
   "metadata": {},
   "source": [
    "<img src=\"fig/05-section5-rendered-unnamed-chunk-12-5.png\" width=\"1920\" style=\"display: block; margin: auto;\" />\n",
    "\n",
    "### Scaling\n",
    "\n",
    "Standard Scaler: removing the mean and scaling to unit variance\n"
   ]
  },
  {
   "cell_type": "code",
   "execution_count": null,
   "id": "92583b00",
   "metadata": {},
   "outputs": [],
   "source": [
    "from sklearn.preprocessing import StandardScaler"
   ]
  },
  {
   "cell_type": "markdown",
   "id": "f7cddab0",
   "metadata": {},
   "source": [
    "```{.error}\n",
    "Error: ModuleNotFoundError: No module named 'sklearn'\n",
    "```"
   ]
  },
  {
   "cell_type": "code",
   "execution_count": null,
   "id": "c263b670",
   "metadata": {},
   "outputs": [],
   "source": [
    "scaler = StandardScaler()"
   ]
  },
  {
   "cell_type": "markdown",
   "id": "35e5143d",
   "metadata": {},
   "source": [
    "```{.error}\n",
    "Error: NameError: name 'StandardScaler' is not defined\n",
    "```"
   ]
  },
  {
   "cell_type": "code",
   "execution_count": null,
   "id": "24d8b951",
   "metadata": {},
   "outputs": [],
   "source": [
    "img1_scaled = scaler.fit_transform(img1_nz.reshape(-1, 1))"
   ]
  },
  {
   "cell_type": "markdown",
   "id": "ba579755",
   "metadata": {},
   "source": [
    "```{.error}\n",
    "Error: NameError: name 'scaler' is not defined\n",
    "```"
   ]
  },
  {
   "cell_type": "code",
   "execution_count": null,
   "id": "5ad4a833",
   "metadata": {},
   "outputs": [],
   "source": [
    "img2_scaled = scaler.fit_transform(img2_nz.reshape(-1, 1))"
   ]
  },
  {
   "cell_type": "markdown",
   "id": "27f8862c",
   "metadata": {},
   "source": [
    "```{.error}\n",
    "Error: NameError: name 'scaler' is not defined\n",
    "```\n"
   ]
  },
  {
   "cell_type": "code",
   "execution_count": null,
   "id": "0bead21f",
   "metadata": {},
   "outputs": [],
   "source": [
    "img1_scaled.shape"
   ]
  },
  {
   "cell_type": "markdown",
   "id": "f7569a51",
   "metadata": {},
   "source": [
    "```{.error}\n",
    "Error: NameError: name 'img1_scaled' is not defined\n",
    "```\n",
    "\n",
    "### Visualise and Concatenate\n",
    "\n",
    "Seaborn: https://seaborn.pydata.org\n",
    "\n",
    "c.f. pair grid example\n",
    "https://seaborn.pydata.org/examples/pair_grid_with_kde.html\n",
    "\n",
    "kdeplot documentation\n",
    "https://seaborn.pydata.org/generated/seaborn.kdeplot.html\n"
   ]
  },
  {
   "cell_type": "code",
   "execution_count": null,
   "id": "a60017b8",
   "metadata": {},
   "outputs": [],
   "source": [
    "fig, ax = subplots(1, 3, figsize=(20, 6))\n",
    "\n",
    "# Scatter plot\n",
    "ax[0].scatter(img1_nz, img2_nz)\n",
    "\n",
    "# 2D Histogram\n",
    "ax[1].hist2d(img1_nz, img2_nz, bins=50, vmax=10);\n",
    "\n",
    "from seaborn import kdeplot\n",
    "\n",
    "# Density Plot"
   ]
  },
  {
   "cell_type": "markdown",
   "id": "09b00052",
   "metadata": {},
   "source": [
    "```{.error}\n",
    "Error: ModuleNotFoundError: No module named 'seaborn'\n",
    "```"
   ]
  },
  {
   "cell_type": "code",
   "execution_count": null,
   "id": "d3def3fa",
   "metadata": {},
   "outputs": [],
   "source": [
    "kdeplot(x=img1_nz, y=img2_nz, ax=ax[2]);"
   ]
  },
  {
   "cell_type": "markdown",
   "id": "7118f93f",
   "metadata": {},
   "source": [
    "```{.error}\n",
    "Error: NameError: name 'kdeplot' is not defined\n",
    "```"
   ]
  },
  {
   "cell_type": "code",
   "execution_count": null,
   "id": "3db929af",
   "metadata": {},
   "outputs": [],
   "source": [
    "show()"
   ]
  },
  {
   "cell_type": "markdown",
   "id": "507a4220",
   "metadata": {},
   "source": [
    "<img src=\"fig/05-section5-rendered-unnamed-chunk-15-7.png\" width=\"1920\" style=\"display: block; margin: auto;\" />\n",
    "\n",
    "### Scaled Images\n"
   ]
  },
  {
   "cell_type": "code",
   "execution_count": null,
   "id": "d6cc3a98",
   "metadata": {},
   "outputs": [],
   "source": [
    "fig, ax = subplots(1, 3, figsize=(20, 6))\n",
    "\n",
    "# Scatter plot\n",
    "ax[0].scatter(img1_scaled[:,0], img2_scaled[:,0])\n",
    "\n",
    "# 2D Histogram"
   ]
  },
  {
   "cell_type": "markdown",
   "id": "d6b720fe",
   "metadata": {},
   "source": [
    "```{.error}\n",
    "Error: NameError: name 'img1_scaled' is not defined\n",
    "```"
   ]
  },
  {
   "cell_type": "code",
   "execution_count": null,
   "id": "48c015de",
   "metadata": {},
   "outputs": [],
   "source": [
    "ax[1].hist2d(img1_scaled[:,0], img2_scaled[:,0], bins=50, vmax=10);"
   ]
  },
  {
   "cell_type": "markdown",
   "id": "bb6015b6",
   "metadata": {},
   "source": [
    "```{.error}\n",
    "Error: NameError: name 'img1_scaled' is not defined\n",
    "```"
   ]
  },
  {
   "cell_type": "code",
   "execution_count": null,
   "id": "a1bb5711",
   "metadata": {},
   "outputs": [],
   "source": [
    "from seaborn import kdeplot\n",
    "\n",
    "# Density Plot"
   ]
  },
  {
   "cell_type": "markdown",
   "id": "a814cce9",
   "metadata": {},
   "source": [
    "```{.error}\n",
    "Error: ModuleNotFoundError: No module named 'seaborn'\n",
    "```"
   ]
  },
  {
   "cell_type": "code",
   "execution_count": null,
   "id": "2cfbf6fb",
   "metadata": {},
   "outputs": [],
   "source": [
    "kdeplot(x=img1_scaled[:,0], y=img2_scaled[:,0], ax=ax[2]);"
   ]
  },
  {
   "cell_type": "markdown",
   "id": "88209151",
   "metadata": {},
   "source": [
    "```{.error}\n",
    "Error: NameError: name 'kdeplot' is not defined\n",
    "```"
   ]
  },
  {
   "cell_type": "code",
   "execution_count": null,
   "id": "d3c2823a",
   "metadata": {},
   "outputs": [],
   "source": [
    "show()"
   ]
  },
  {
   "cell_type": "markdown",
   "id": "ec4296f9",
   "metadata": {},
   "source": [
    "<img src=\"fig/05-section5-rendered-unnamed-chunk-16-9.png\" width=\"1920\" style=\"display: block; margin: auto;\" />\n"
   ]
  },
  {
   "cell_type": "code",
   "execution_count": null,
   "id": "a57393ec",
   "metadata": {},
   "outputs": [],
   "source": [
    "all_img_scaled = concatenate([img1_scaled, img2_scaled], axis=1)"
   ]
  },
  {
   "cell_type": "markdown",
   "id": "096aab5c",
   "metadata": {},
   "source": [
    "```{.error}\n",
    "Error: NameError: name 'img1_scaled' is not defined\n",
    "```"
   ]
  },
  {
   "cell_type": "code",
   "execution_count": null,
   "id": "5781a817",
   "metadata": {},
   "outputs": [],
   "source": [
    "all_img_scaled.shape"
   ]
  },
  {
   "cell_type": "markdown",
   "id": "920f0ed6",
   "metadata": {},
   "source": [
    "```{.error}\n",
    "Error: NameError: name 'all_img_scaled' is not defined\n",
    "```\n",
    "## Segmenting images with Gaussian Mixtures\n",
    "\n",
    "### GMM clustering\n"
   ]
  },
  {
   "cell_type": "code",
   "execution_count": null,
   "id": "2db2ff95",
   "metadata": {},
   "outputs": [],
   "source": [
    "from sklearn.mixture import GaussianMixture"
   ]
  },
  {
   "cell_type": "markdown",
   "id": "3921b616",
   "metadata": {},
   "source": [
    "```{.error}\n",
    "Error: ModuleNotFoundError: No module named 'sklearn'\n",
    "```\n"
   ]
  },
  {
   "cell_type": "code",
   "execution_count": null,
   "id": "5e48916b",
   "metadata": {},
   "outputs": [],
   "source": [
    "n_components = 3\n",
    "\n",
    "RANDOM_STATE = 12345\n",
    "\n",
    "gmm = GaussianMixture(n_components=n_components, \n",
    "                      random_state=RANDOM_STATE)"
   ]
  },
  {
   "cell_type": "markdown",
   "id": "3fa7a821",
   "metadata": {},
   "source": [
    "```{.error}\n",
    "Error: NameError: name 'GaussianMixture' is not defined\n",
    "```"
   ]
  },
  {
   "cell_type": "code",
   "execution_count": null,
   "id": "aeac2442",
   "metadata": {},
   "outputs": [],
   "source": [
    "all_img_labels = gmm.fit_predict(all_img_scaled)"
   ]
  },
  {
   "cell_type": "markdown",
   "id": "d771efc0",
   "metadata": {},
   "source": [
    "```{.error}\n",
    "Error: NameError: name 'gmm' is not defined\n",
    "```"
   ]
  },
  {
   "cell_type": "code",
   "execution_count": null,
   "id": "d2bcfb6f",
   "metadata": {},
   "outputs": [],
   "source": [
    "all_img_labels[0]"
   ]
  },
  {
   "cell_type": "markdown",
   "id": "4a69d222",
   "metadata": {},
   "source": [
    "```{.error}\n",
    "Error: NameError: name 'all_img_labels' is not defined\n",
    "```\n"
   ]
  },
  {
   "cell_type": "code",
   "execution_count": null,
   "id": "e6d686b8",
   "metadata": {},
   "outputs": [],
   "source": [
    "fig, ax = subplots(figsize=(8, 8))\n",
    "\n",
    "ax.scatter(img1_nz, img2_nz, c=all_img_labels, s=100)"
   ]
  },
  {
   "cell_type": "markdown",
   "id": "9a240a2d",
   "metadata": {},
   "source": [
    "```{.error}\n",
    "Error: NameError: name 'all_img_labels' is not defined\n",
    "```"
   ]
  },
  {
   "cell_type": "code",
   "execution_count": null,
   "id": "9158bb40",
   "metadata": {},
   "outputs": [],
   "source": [
    "ax.set_xlabel('Image 1', fontsize=16)\n",
    "ax.set_ylabel('Image 2', fontsize=16);\n",
    "\n",
    "show()"
   ]
  },
  {
   "cell_type": "markdown",
   "id": "2bfb8086",
   "metadata": {},
   "source": [
    "<img src=\"fig/05-section5-rendered-unnamed-chunk-20-11.png\" width=\"768\" style=\"display: block; margin: auto;\" />\n"
   ]
  },
  {
   "cell_type": "code",
   "execution_count": null,
   "id": "d9569dba",
   "metadata": {},
   "outputs": [],
   "source": [
    "all_img_labels_mapped = zeros(img1_slice.shape)\n",
    "\n",
    "all_img_labels_mapped[mask] = all_img_labels"
   ]
  },
  {
   "cell_type": "markdown",
   "id": "cad74fd5",
   "metadata": {},
   "source": [
    "```{.error}\n",
    "Error: NameError: name 'all_img_labels' is not defined\n",
    "```\n"
   ]
  },
  {
   "cell_type": "code",
   "execution_count": null,
   "id": "d59ba7e3",
   "metadata": {},
   "outputs": [],
   "source": [
    "fig, ax = subplots(figsize=(20, 10))\n",
    "\n",
    "ax.imshow(all_img_labels_mapped);\n",
    "\n",
    "show()"
   ]
  },
  {
   "cell_type": "markdown",
   "id": "098e1233",
   "metadata": {},
   "source": [
    "<img src=\"fig/05-section5-rendered-unnamed-chunk-22-13.png\" width=\"1920\" style=\"display: block; margin: auto;\" />"
   ]
  },
  {
   "cell_type": "markdown",
   "id": "a987ce68",
   "metadata": {},
   "source": [
    "-\n",
    "-\n",
    "-\n",
    "\n",
    "[r-markdown]: https://rmarkdown.rstudio.com/"
   ]
  }
 ],
 "metadata": {
  "jupytext": {
   "cell_metadata_filter": "-all",
   "main_language": "python",
   "notebook_metadata_filter": "-all"
  }
 },
 "nbformat": 4,
 "nbformat_minor": 5
}
