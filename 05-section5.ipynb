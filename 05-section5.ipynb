{
 "cells": [
  {
   "cell_type": "raw",
   "id": "c67cb40a",
   "metadata": {},
   "source": [
    "---\n",
    "title: \"Neuro Images Clustering\"\n",
    "teaching: 10\n",
    "exercises: 2\n",
    "---"
   ]
  },
  {
   "cell_type": "markdown",
   "id": "82cfc8c1",
   "metadata": {},
   "source": [
    "\n",
    "- \n",
    "-\n",
    "-\n"
   ]
  },
  {
   "cell_type": "markdown",
   "id": "a42b4496",
   "metadata": {},
   "source": [
    "-\n",
    "-\n",
    "-\n",
    "\n",
    "## Installing and using Nibabel Python Library\n",
    "\n"
   ]
  },
  {
   "cell_type": "code",
   "execution_count": null,
   "id": "b7874d58",
   "metadata": {},
   "outputs": [],
   "source": [
    "from numpy import concatenate, zeros\n",
    "\n",
    "from matplotlib.pyplot import subplots, tight_layout, show\n",
    "\n",
    "import nibabel as nib"
   ]
  },
  {
   "cell_type": "markdown",
   "id": "5ec05f69",
   "metadata": {},
   "source": [
    "### Load images and get data\n"
   ]
  },
  {
   "cell_type": "code",
   "execution_count": null,
   "id": "f939ec81",
   "metadata": {},
   "outputs": [],
   "source": [
    "img_nibabel = nib.load(\"data/T1_mask.nii\")\n",
    "\n",
    "type(img_nibabel)"
   ]
  },
  {
   "cell_type": "markdown",
   "id": "3a72662a",
   "metadata": {},
   "source": [
    "```{.output}\n",
    "<class 'nibabel.nifti1.Nifti1Image'>\n",
    "```\n"
   ]
  },
  {
   "cell_type": "code",
   "execution_count": null,
   "id": "fce05877",
   "metadata": {},
   "outputs": [],
   "source": [
    "meta_info = img_nibabel.header\n",
    "\n",
    "print(meta_info)"
   ]
  },
  {
   "cell_type": "markdown",
   "id": "d5dc3d0f",
   "metadata": {},
   "source": [
    "```{.output}\n",
    "<class 'nibabel.nifti1.Nifti1Header'> object, endian='<'\n",
    "sizeof_hdr      : 348\n",
    "data_type       : b''\n",
    "db_name         : b''\n",
    "extents         : 0\n",
    "session_error   : 0\n",
    "regular         : b'r'\n",
    "dim_info        : 0\n",
    "dim             : [  3 128 128  70   1   1   1   1]\n",
    "intent_p1       : 0.0\n",
    "intent_p2       : 0.0\n",
    "intent_p3       : 0.0\n",
    "intent_code     : none\n",
    "datatype        : float32\n",
    "bitpix          : 32\n",
    "slice_start     : 0\n",
    "pixdim          : [-1.   2.   2.   2.2  0.   0.   0.   0. ]\n",
    "vox_offset      : 0.0\n",
    "scl_slope       : nan\n",
    "scl_inter       : nan\n",
    "slice_end       : 0\n",
    "slice_code      : unknown\n",
    "xyzt_units      : 10\n",
    "cal_max         : 0.0\n",
    "cal_min         : 0.0\n",
    "slice_duration  : 0.0\n",
    "toffset         : 0.0\n",
    "glmax           : 0\n",
    "glmin           : 0\n",
    "descrip         : b'5.0.11'\n",
    "aux_file        : b''\n",
    "qform_code      : scanner\n",
    "sform_code      : scanner\n",
    "quatern_b       : 0.0\n",
    "quatern_c       : 1.0\n",
    "quatern_d       : 0.0\n",
    "qoffset_x       : 125.5061\n",
    "qoffset_y       : -109.38977\n",
    "qoffset_z       : -86.742615\n",
    "srow_x          : [ -2.       0.       0.     125.5061]\n",
    "srow_y          : [   0.         2.         0.      -109.38977]\n",
    "srow_z          : [  0.         0.         2.2      -86.742615]\n",
    "intent_name     : b''\n",
    "magic           : b'n+1'\n",
    "```\n"
   ]
  },
  {
   "cell_type": "code",
   "execution_count": null,
   "id": "dee660d7",
   "metadata": {},
   "outputs": [],
   "source": [
    "print(meta_info.get_xyzt_units())"
   ]
  },
  {
   "cell_type": "markdown",
   "id": "0515f763",
   "metadata": {},
   "source": [
    "```{.output}\n",
    "('mm', 'sec')\n",
    "```\n"
   ]
  },
  {
   "cell_type": "code",
   "execution_count": null,
   "id": "dd451d29",
   "metadata": {},
   "outputs": [],
   "source": [
    "img1 = img_nibabel.get_fdata()\n",
    "\n",
    "print(type(img1), img1.shape)"
   ]
  },
  {
   "cell_type": "markdown",
   "id": "87ff8c99",
   "metadata": {},
   "source": [
    "```{.output}\n",
    "<class 'numpy.memmap'> (128, 128, 70)\n",
    "```\n"
   ]
  },
  {
   "cell_type": "code",
   "execution_count": null,
   "id": "e4a7493a",
   "metadata": {
    "lines_to_next_cell": 2
   },
   "outputs": [],
   "source": [
    "img_nibabel = nib.load(\"data/b0_mask.nii\")\n",
    "\n",
    "img2 = img_nibabel.get_fdata()"
   ]
  },
  {
   "cell_type": "code",
   "execution_count": null,
   "id": "75b60e36",
   "metadata": {},
   "outputs": [],
   "source": [
    "img1.shape"
   ]
  },
  {
   "cell_type": "markdown",
   "id": "9655a4b1",
   "metadata": {},
   "source": [
    "```{.output}\n",
    "(128, 128, 70)\n",
    "```\n"
   ]
  },
  {
   "cell_type": "markdown",
   "id": "262c39c5",
   "metadata": {},
   "source": [
    "### plotting Images\n"
   ]
  },
  {
   "cell_type": "code",
   "execution_count": null,
   "id": "66f44043",
   "metadata": {
    "lines_to_next_cell": 2
   },
   "outputs": [],
   "source": [
    "img_slice = 30"
   ]
  },
  {
   "cell_type": "code",
   "execution_count": null,
   "id": "23f1d312",
   "metadata": {},
   "outputs": [],
   "source": [
    "fig, ax = subplots(ncols=2, figsize=(15, 5))\n",
    "\n",
    "f1 = ax[0].imshow(img1[:, :, img_slice], cmap=\"gray\")\n",
    "f2 = ax[1].imshow(img2[:, :, img_slice], cmap=\"gray\")\n",
    "\n",
    "fig.colorbar(f1, ax=ax[0])"
   ]
  },
  {
   "cell_type": "markdown",
   "id": "9ccabe47",
   "metadata": {},
   "source": [
    "```{.output}\n",
    "<matplotlib.colorbar.Colorbar object at 0x7f3b5c41f610>\n",
    "```"
   ]
  },
  {
   "cell_type": "code",
   "execution_count": null,
   "id": "a8f43776",
   "metadata": {},
   "outputs": [],
   "source": [
    "fig.colorbar(f2, ax=ax[1]);\n",
    "\n",
    "ax[0].set_xlabel('T1 Image', fontsize=16);\n",
    "ax[1].set_xlabel('B0 Image', fontsize=16);\n",
    "\n",
    "show()"
   ]
  },
  {
   "cell_type": "markdown",
   "id": "2836926e",
   "metadata": {},
   "source": [
    "<img src=\"fig/05-section5-rendered-unnamed-chunk-9-1.png\" width=\"1440\" style=\"display: block; margin: auto;\" />\n",
    "\n",
    "## Data pre-processing"
   ]
  },
  {
   "cell_type": "code",
   "execution_count": null,
   "id": "080cc7b5",
   "metadata": {
    "lines_to_next_cell": 0
   },
   "outputs": [],
   "source": [
    "img1_slice = img1[:, :, img_slice]\n",
    "img2_slice = img2[:, :, img_slice]"
   ]
  },
  {
   "cell_type": "markdown",
   "id": "7fd69866",
   "metadata": {},
   "source": [
    "### Remove zeros"
   ]
  },
  {
   "cell_type": "code",
   "execution_count": null,
   "id": "de3182e8",
   "metadata": {},
   "outputs": [],
   "source": [
    "fig, ax = subplots(ncols=2, figsize=(20, 5))\n",
    "\n",
    "ax[0].hist(img1_slice.flatten(), bins=50)"
   ]
  },
  {
   "cell_type": "markdown",
   "id": "1ce0f143",
   "metadata": {},
   "source": [
    "```{.output}\n",
    "(array([1.2374e+04, 3.0000e+00, 6.0000e+00, 1.0000e+01, 1.1000e+01,\n",
    "       2.4000e+01, 3.2000e+01, 2.5000e+01, 4.3000e+01, 3.5000e+01,\n",
    "       3.8000e+01, 3.3000e+01, 2.9000e+01, 3.0000e+01, 2.6000e+01,\n",
    "       4.7000e+01, 4.6000e+01, 6.6000e+01, 5.3000e+01, 6.6000e+01,\n",
    "       6.8000e+01, 6.4000e+01, 9.7000e+01, 9.5000e+01, 1.2100e+02,\n",
    "       1.2700e+02, 1.3100e+02, 1.2600e+02, 1.5600e+02, 1.3700e+02,\n",
    "       1.4000e+02, 1.2900e+02, 1.1900e+02, 1.1900e+02, 1.3100e+02,\n",
    "       1.4600e+02, 1.5400e+02, 1.4300e+02, 1.7000e+02, 1.2800e+02,\n",
    "       1.1100e+02, 1.1100e+02, 1.0900e+02, 1.0500e+02, 1.0500e+02,\n",
    "       1.2600e+02, 9.9000e+01, 5.5000e+01, 4.2000e+01, 2.3000e+01]), array([  0.        ,   9.6287677 ,  19.2575354 ,  28.8863031 ,\n",
    "        38.5150708 ,  48.1438385 ,  57.7726062 ,  67.4013739 ,\n",
    "        77.0301416 ,  86.6589093 ,  96.287677  , 105.9164447 ,\n",
    "       115.5452124 , 125.1739801 , 134.8027478 , 144.4315155 ,\n",
    "       154.0602832 , 163.6890509 , 173.3178186 , 182.9465863 ,\n",
    "       192.575354  , 202.2041217 , 211.8328894 , 221.4616571 ,\n",
    "       231.0904248 , 240.7191925 , 250.34796021, 259.97672791,\n",
    "       269.60549561, 279.23426331, 288.86303101, 298.49179871,\n",
    "       308.12056641, 317.74933411, 327.37810181, 337.00686951,\n",
    "       346.63563721, 356.26440491, 365.89317261, 375.52194031,\n",
    "       385.15070801, 394.77947571, 404.40824341, 414.03701111,\n",
    "       423.66577881, 433.29454651, 442.92331421, 452.55208191,\n",
    "       462.18084961, 471.80961731, 481.43838501]), <BarContainer object of 50 artists>)\n",
    "```"
   ]
  },
  {
   "cell_type": "code",
   "execution_count": null,
   "id": "aa6d4dd6",
   "metadata": {},
   "outputs": [],
   "source": [
    "ax[1].hist(img2_slice.flatten(), bins=50);\n",
    "\n",
    "show()"
   ]
  },
  {
   "cell_type": "markdown",
   "id": "1b7a1288",
   "metadata": {},
   "source": [
    "<img src=\"fig/05-section5-rendered-unnamed-chunk-11-3.png\" width=\"1920\" style=\"display: block; margin: auto;\" />\n"
   ]
  },
  {
   "cell_type": "code",
   "execution_count": null,
   "id": "1e859fa7",
   "metadata": {},
   "outputs": [],
   "source": [
    "mask = (img1_slice>0) & (img2_slice>0) \n",
    "\n",
    "img1_nz = img1_slice[mask]\n",
    "img2_nz = img2_slice[mask]\n",
    "\n",
    "fig, ax = subplots(nrows=1, ncols=2, figsize=(20, 5))\n",
    "\n",
    "ax[0].hist(img1_nz, bins=50)"
   ]
  },
  {
   "cell_type": "markdown",
   "id": "e4da75eb",
   "metadata": {},
   "source": [
    "```{.output}\n",
    "(array([  7.,   9.,  11.,  18.,  35.,  19.,  39.,  33.,  32.,  41.,  29.,\n",
    "        25.,  27.,  29.,  52.,  58.,  52.,  48.,  66.,  71.,  57.,  96.,\n",
    "        88., 119., 124., 122., 125., 149., 136., 121., 137., 112., 113.,\n",
    "       135., 116., 151., 156., 135., 159., 113., 108., 100., 107., 104.,\n",
    "       109., 114.,  88.,  53.,  38.,  23.]), array([ 17.50374222,  26.78243507,  36.06112793,  45.33982079,\n",
    "        54.61851364,  63.8972065 ,  73.17589935,  82.45459221,\n",
    "        91.73328506, 101.01197792, 110.29067078, 119.56936363,\n",
    "       128.84805649, 138.12674934, 147.4054422 , 156.68413506,\n",
    "       165.96282791, 175.24152077, 184.52021362, 193.79890648,\n",
    "       203.07759933, 212.35629219, 221.63498505, 230.9136779 ,\n",
    "       240.19237076, 249.47106361, 258.74975647, 268.02844933,\n",
    "       277.30714218, 286.58583504, 295.86452789, 305.14322075,\n",
    "       314.4219136 , 323.70060646, 332.97929932, 342.25799217,\n",
    "       351.53668503, 360.81537788, 370.09407074, 379.3727636 ,\n",
    "       388.65145645, 397.93014931, 407.20884216, 416.48753502,\n",
    "       425.76622787, 435.04492073, 444.32361359, 453.60230644,\n",
    "       462.8809993 , 472.15969215, 481.43838501]), <BarContainer object of 50 artists>)\n",
    "```"
   ]
  },
  {
   "cell_type": "code",
   "execution_count": null,
   "id": "2bf6eb40",
   "metadata": {},
   "outputs": [],
   "source": [
    "ax[1].hist(img2_nz, bins=50);\n",
    "\n",
    "show()"
   ]
  },
  {
   "cell_type": "markdown",
   "id": "83ce28c1",
   "metadata": {},
   "source": [
    "<img src=\"fig/05-section5-rendered-unnamed-chunk-12-5.png\" width=\"1920\" style=\"display: block; margin: auto;\" />\n",
    "\n",
    "### Scaling\n",
    "\n",
    "Standard Scaler: removing the mean and scaling to unit variance\n"
   ]
  },
  {
   "cell_type": "code",
   "execution_count": null,
   "id": "d188954f",
   "metadata": {
    "lines_to_next_cell": 2
   },
   "outputs": [],
   "source": [
    "from sklearn.preprocessing import StandardScaler\n",
    "\n",
    "scaler = StandardScaler()\n",
    "\n",
    "img1_scaled = scaler.fit_transform(img1_nz.reshape(-1, 1))\n",
    "img2_scaled = scaler.fit_transform(img2_nz.reshape(-1, 1))"
   ]
  },
  {
   "cell_type": "code",
   "execution_count": null,
   "id": "d703af20",
   "metadata": {},
   "outputs": [],
   "source": [
    "img1_scaled.shape"
   ]
  },
  {
   "cell_type": "markdown",
   "id": "7175d75c",
   "metadata": {},
   "source": [
    "```{.output}\n",
    "(4009, 1)\n",
    "```\n",
    "\n",
    "### Visualise and Concatenate\n",
    "\n",
    "Seaborn: https://seaborn.pydata.org\n",
    "\n",
    "c.f. pair grid example\n",
    "https://seaborn.pydata.org/examples/pair_grid_with_kde.html\n",
    "\n",
    "kdeplot documentation\n",
    "https://seaborn.pydata.org/generated/seaborn.kdeplot.html\n"
   ]
  },
  {
   "cell_type": "code",
   "execution_count": null,
   "id": "1f5b1172",
   "metadata": {},
   "outputs": [],
   "source": [
    "fig, ax = subplots(1, 3, figsize=(20, 6))\n",
    "\n",
    "# Scatter plot\n",
    "ax[0].scatter(img1_nz, img2_nz)\n",
    "\n",
    "# 2D Histogram\n",
    "ax[1].hist2d(img1_nz, img2_nz, bins=50, vmax=10);\n",
    "\n",
    "from seaborn import kdeplot\n",
    "\n",
    "# Density Plot\n",
    "kdeplot(x=img1_nz, y=img2_nz, ax=ax[2]);\n",
    "show()"
   ]
  },
  {
   "cell_type": "markdown",
   "id": "701d83dc",
   "metadata": {},
   "source": [
    "<img src=\"fig/05-section5-rendered-unnamed-chunk-15-7.png\" width=\"1920\" style=\"display: block; margin: auto;\" />\n",
    "\n",
    "### Scaled Images\n"
   ]
  },
  {
   "cell_type": "code",
   "execution_count": null,
   "id": "4b5186fa",
   "metadata": {},
   "outputs": [],
   "source": [
    "fig, ax = subplots(1, 3, figsize=(20, 6))\n",
    "\n",
    "# Scatter plot\n",
    "ax[0].scatter(img1_scaled[:,0], img2_scaled[:,0])\n",
    "\n",
    "# 2D Histogram\n",
    "ax[1].hist2d(img1_scaled[:,0], img2_scaled[:,0], bins=50, vmax=10);\n",
    "\n",
    "from seaborn import kdeplot\n",
    "\n",
    "# Density Plot\n",
    "kdeplot(x=img1_scaled[:,0], y=img2_scaled[:,0], ax=ax[2]);\n",
    "show()"
   ]
  },
  {
   "cell_type": "markdown",
   "id": "d8ed493b",
   "metadata": {},
   "source": [
    "<img src=\"fig/05-section5-rendered-unnamed-chunk-16-9.png\" width=\"1920\" style=\"display: block; margin: auto;\" />\n"
   ]
  },
  {
   "cell_type": "code",
   "execution_count": null,
   "id": "25d6faf6",
   "metadata": {},
   "outputs": [],
   "source": [
    "all_img_scaled = concatenate([img1_scaled, img2_scaled], axis=1)\n",
    "\n",
    "all_img_scaled.shape"
   ]
  },
  {
   "cell_type": "markdown",
   "id": "19e101dc",
   "metadata": {},
   "source": [
    "```{.output}\n",
    "(4009, 2)\n",
    "```\n",
    "## Segmenting images with Gaussian Mixtures\n",
    "\n",
    "### GMM clustering\n"
   ]
  },
  {
   "cell_type": "code",
   "execution_count": null,
   "id": "afd5251f",
   "metadata": {
    "lines_to_next_cell": 2
   },
   "outputs": [],
   "source": [
    "from sklearn.mixture import GaussianMixture"
   ]
  },
  {
   "cell_type": "code",
   "execution_count": null,
   "id": "5ffdee20",
   "metadata": {},
   "outputs": [],
   "source": [
    "n_components = 3\n",
    "\n",
    "RANDOM_STATE = 12345\n",
    "\n",
    "gmm = GaussianMixture(n_components=n_components, \n",
    "                      random_state=RANDOM_STATE)\n",
    "\n",
    "all_img_labels = gmm.fit_predict(all_img_scaled)\n",
    "\n",
    "all_img_labels[0]"
   ]
  },
  {
   "cell_type": "markdown",
   "id": "1b0bbe63",
   "metadata": {},
   "source": [
    "```{.output}\n",
    "2\n",
    "```\n"
   ]
  },
  {
   "cell_type": "code",
   "execution_count": null,
   "id": "be319642",
   "metadata": {},
   "outputs": [],
   "source": [
    "fig, ax = subplots(figsize=(8, 8))\n",
    "\n",
    "ax.scatter(img1_nz, img2_nz, c=all_img_labels, s=100)\n",
    "\n",
    "ax.set_xlabel('Image 1', fontsize=16)\n",
    "ax.set_ylabel('Image 2', fontsize=16);\n",
    "\n",
    "show()"
   ]
  },
  {
   "cell_type": "markdown",
   "id": "d671d93c",
   "metadata": {},
   "source": [
    "<img src=\"fig/05-section5-rendered-unnamed-chunk-20-11.png\" width=\"768\" style=\"display: block; margin: auto;\" />\n"
   ]
  },
  {
   "cell_type": "code",
   "execution_count": null,
   "id": "3c2f6f7b",
   "metadata": {
    "lines_to_next_cell": 2
   },
   "outputs": [],
   "source": [
    "all_img_labels_mapped = zeros(img1_slice.shape)\n",
    "\n",
    "all_img_labels_mapped[mask] = all_img_labels"
   ]
  },
  {
   "cell_type": "code",
   "execution_count": null,
   "id": "9772acad",
   "metadata": {},
   "outputs": [],
   "source": [
    "fig, ax = subplots(figsize=(20, 10))\n",
    "\n",
    "ax.imshow(all_img_labels_mapped);\n",
    "\n",
    "show()"
   ]
  },
  {
   "cell_type": "markdown",
   "id": "6f09ed74",
   "metadata": {},
   "source": [
    "<img src=\"fig/05-section5-rendered-unnamed-chunk-22-13.png\" width=\"1920\" style=\"display: block; margin: auto;\" />"
   ]
  },
  {
   "cell_type": "markdown",
   "id": "38bb8c9c",
   "metadata": {},
   "source": [
    "-\n",
    "-\n",
    "-\n",
    "\n",
    "[r-markdown]: https://rmarkdown.rstudio.com/"
   ]
  }
 ],
 "metadata": {
  "jupytext": {
   "cell_metadata_filter": "-all",
   "main_language": "python",
   "notebook_metadata_filter": "-all"
  }
 },
 "nbformat": 4,
 "nbformat_minor": 5
}
