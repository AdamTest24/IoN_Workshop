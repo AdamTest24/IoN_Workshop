{
 "cells": [
  {
   "cell_type": "raw",
   "id": "bcb8ab5a",
   "metadata": {},
   "source": [
    "---\n",
    "title: \"Neuro Images Clustering\"\n",
    "teaching: 10\n",
    "exercises: 2\n",
    "---"
   ]
  },
  {
   "cell_type": "markdown",
   "id": "7975ec86",
   "metadata": {},
   "source": [
    "\n",
    "- \n",
    "-\n",
    "-\n"
   ]
  },
  {
   "cell_type": "markdown",
   "id": "d73c2fb7",
   "metadata": {},
   "source": [
    "-\n",
    "-\n",
    "-\n",
    "\n",
    "## Installing and using Nibabel Python Library\n",
    "\n"
   ]
  },
  {
   "cell_type": "code",
   "execution_count": null,
   "id": "0003fd66",
   "metadata": {},
   "outputs": [],
   "source": [
    "from numpy import concatenate, zeros\n",
    "\n",
    "from matplotlib.pyplot import subplots, tight_layout, show\n",
    "\n",
    "import nibabel as nib"
   ]
  },
  {
   "cell_type": "markdown",
   "id": "7d818212",
   "metadata": {},
   "source": [
    "```{.error}\n",
    "Error: ModuleNotFoundError: No module named 'nibabel'\n",
    "```\n",
    "\n",
    "### Load images and get data\n"
   ]
  },
  {
   "cell_type": "code",
   "execution_count": null,
   "id": "1f19b2c6",
   "metadata": {},
   "outputs": [],
   "source": [
    "img_nibabel = nib.load(\"data/T1_mask.nii\")"
   ]
  },
  {
   "cell_type": "markdown",
   "id": "874b2a61",
   "metadata": {},
   "source": [
    "```{.error}\n",
    "Error: NameError: name 'nib' is not defined\n",
    "```"
   ]
  },
  {
   "cell_type": "code",
   "execution_count": null,
   "id": "841f2953",
   "metadata": {},
   "outputs": [],
   "source": [
    "type(img_nibabel)"
   ]
  },
  {
   "cell_type": "markdown",
   "id": "d30ef9e1",
   "metadata": {},
   "source": [
    "```{.error}\n",
    "Error: NameError: name 'img_nibabel' is not defined\n",
    "```\n"
   ]
  },
  {
   "cell_type": "code",
   "execution_count": null,
   "id": "a823be9e",
   "metadata": {},
   "outputs": [],
   "source": [
    "meta_info = img_nibabel.header"
   ]
  },
  {
   "cell_type": "markdown",
   "id": "ec1a65f3",
   "metadata": {},
   "source": [
    "```{.error}\n",
    "Error: NameError: name 'img_nibabel' is not defined\n",
    "```"
   ]
  },
  {
   "cell_type": "code",
   "execution_count": null,
   "id": "9db86a74",
   "metadata": {},
   "outputs": [],
   "source": [
    "print(meta_info)"
   ]
  },
  {
   "cell_type": "markdown",
   "id": "1abc9a2d",
   "metadata": {},
   "source": [
    "```{.error}\n",
    "Error: NameError: name 'meta_info' is not defined\n",
    "```\n"
   ]
  },
  {
   "cell_type": "code",
   "execution_count": null,
   "id": "a57360ed",
   "metadata": {},
   "outputs": [],
   "source": [
    "print(meta_info.get_xyzt_units())"
   ]
  },
  {
   "cell_type": "markdown",
   "id": "4b8bf2c5",
   "metadata": {},
   "source": [
    "```{.error}\n",
    "Error: NameError: name 'meta_info' is not defined\n",
    "```\n"
   ]
  },
  {
   "cell_type": "code",
   "execution_count": null,
   "id": "a49e9fce",
   "metadata": {},
   "outputs": [],
   "source": [
    "img1 = img_nibabel.get_fdata()"
   ]
  },
  {
   "cell_type": "markdown",
   "id": "ca180ed9",
   "metadata": {},
   "source": [
    "```{.error}\n",
    "Error: NameError: name 'img_nibabel' is not defined\n",
    "```"
   ]
  },
  {
   "cell_type": "code",
   "execution_count": null,
   "id": "c9603f0c",
   "metadata": {},
   "outputs": [],
   "source": [
    "print(type(img1), img1.shape)"
   ]
  },
  {
   "cell_type": "markdown",
   "id": "71813f53",
   "metadata": {},
   "source": [
    "```{.error}\n",
    "Error: NameError: name 'img1' is not defined\n",
    "```\n"
   ]
  },
  {
   "cell_type": "code",
   "execution_count": null,
   "id": "4e0c570c",
   "metadata": {},
   "outputs": [],
   "source": [
    "img_nibabel = nib.load(\"data/b0_mask.nii\")"
   ]
  },
  {
   "cell_type": "markdown",
   "id": "f305bcc9",
   "metadata": {},
   "source": [
    "```{.error}\n",
    "Error: NameError: name 'nib' is not defined\n",
    "```"
   ]
  },
  {
   "cell_type": "code",
   "execution_count": null,
   "id": "b29341ff",
   "metadata": {},
   "outputs": [],
   "source": [
    "img2 = img_nibabel.get_fdata()"
   ]
  },
  {
   "cell_type": "markdown",
   "id": "1a24ac2c",
   "metadata": {},
   "source": [
    "```{.error}\n",
    "Error: NameError: name 'img_nibabel' is not defined\n",
    "```\n"
   ]
  },
  {
   "cell_type": "code",
   "execution_count": null,
   "id": "8a59bece",
   "metadata": {},
   "outputs": [],
   "source": [
    "img1.shape"
   ]
  },
  {
   "cell_type": "markdown",
   "id": "c9a12d33",
   "metadata": {},
   "source": [
    "```{.error}\n",
    "Error: NameError: name 'img1' is not defined\n",
    "```\n"
   ]
  },
  {
   "cell_type": "markdown",
   "id": "6a18f935",
   "metadata": {},
   "source": [
    "### plotting Images\n"
   ]
  },
  {
   "cell_type": "code",
   "execution_count": null,
   "id": "e368986e",
   "metadata": {
    "lines_to_next_cell": 2
   },
   "outputs": [],
   "source": [
    "img_slice = 30"
   ]
  },
  {
   "cell_type": "code",
   "execution_count": null,
   "id": "8650df30",
   "metadata": {},
   "outputs": [],
   "source": [
    "fig, ax = subplots(ncols=2, figsize=(15, 5))\n",
    "\n",
    "f1 = ax[0].imshow(img1[:, :, img_slice], cmap=\"gray\")"
   ]
  },
  {
   "cell_type": "markdown",
   "id": "6fb225d6",
   "metadata": {},
   "source": [
    "```{.error}\n",
    "Error: NameError: name 'img1' is not defined\n",
    "```"
   ]
  },
  {
   "cell_type": "code",
   "execution_count": null,
   "id": "76308c1d",
   "metadata": {},
   "outputs": [],
   "source": [
    "f2 = ax[1].imshow(img2[:, :, img_slice], cmap=\"gray\")"
   ]
  },
  {
   "cell_type": "markdown",
   "id": "aba7a4e7",
   "metadata": {},
   "source": [
    "```{.error}\n",
    "Error: NameError: name 'img2' is not defined\n",
    "```"
   ]
  },
  {
   "cell_type": "code",
   "execution_count": null,
   "id": "69da8473",
   "metadata": {},
   "outputs": [],
   "source": [
    "fig.colorbar(f1, ax=ax[0])"
   ]
  },
  {
   "cell_type": "markdown",
   "id": "05156f65",
   "metadata": {},
   "source": [
    "```{.error}\n",
    "Error: NameError: name 'f1' is not defined\n",
    "```"
   ]
  },
  {
   "cell_type": "code",
   "execution_count": null,
   "id": "291fcbfa",
   "metadata": {},
   "outputs": [],
   "source": [
    "fig.colorbar(f2, ax=ax[1]);"
   ]
  },
  {
   "cell_type": "markdown",
   "id": "9d224da1",
   "metadata": {},
   "source": [
    "```{.error}\n",
    "Error: NameError: name 'f2' is not defined\n",
    "```"
   ]
  },
  {
   "cell_type": "code",
   "execution_count": null,
   "id": "d17016e7",
   "metadata": {},
   "outputs": [],
   "source": [
    "ax[0].set_xlabel('T1 Image', fontsize=16);\n",
    "ax[1].set_xlabel('B0 Image', fontsize=16);\n",
    "\n",
    "show()"
   ]
  },
  {
   "cell_type": "markdown",
   "id": "fc96f493",
   "metadata": {},
   "source": [
    "<img src=\"fig/05-section5-rendered-unnamed-chunk-9-1.png\" width=\"1440\" style=\"display: block; margin: auto;\" />\n",
    "\n",
    "## Data pre-processing"
   ]
  },
  {
   "cell_type": "code",
   "execution_count": null,
   "id": "a3ae3262",
   "metadata": {},
   "outputs": [],
   "source": [
    "img1_slice = img1[:, :, img_slice]"
   ]
  },
  {
   "cell_type": "markdown",
   "id": "3263ef07",
   "metadata": {},
   "source": [
    "```{.error}\n",
    "Error: NameError: name 'img1' is not defined\n",
    "```"
   ]
  },
  {
   "cell_type": "code",
   "execution_count": null,
   "id": "24e46779",
   "metadata": {},
   "outputs": [],
   "source": [
    "img2_slice = img2[:, :, img_slice]"
   ]
  },
  {
   "cell_type": "markdown",
   "id": "c5e9e6ba",
   "metadata": {},
   "source": [
    "```{.error}\n",
    "Error: NameError: name 'img2' is not defined\n",
    "```\n",
    "### Remove zeros"
   ]
  },
  {
   "cell_type": "code",
   "execution_count": null,
   "id": "47a82d9c",
   "metadata": {},
   "outputs": [],
   "source": [
    "fig, ax = subplots(ncols=2, figsize=(20, 5))\n",
    "\n",
    "ax[0].hist(img1_slice.flatten(), bins=50)"
   ]
  },
  {
   "cell_type": "markdown",
   "id": "43e11fd8",
   "metadata": {},
   "source": [
    "```{.error}\n",
    "Error: NameError: name 'img1_slice' is not defined\n",
    "```"
   ]
  },
  {
   "cell_type": "code",
   "execution_count": null,
   "id": "99ab8dbb",
   "metadata": {},
   "outputs": [],
   "source": [
    "ax[1].hist(img2_slice.flatten(), bins=50);"
   ]
  },
  {
   "cell_type": "markdown",
   "id": "c60506c3",
   "metadata": {},
   "source": [
    "```{.error}\n",
    "Error: NameError: name 'img2_slice' is not defined\n",
    "```"
   ]
  },
  {
   "cell_type": "code",
   "execution_count": null,
   "id": "ba329ee4",
   "metadata": {},
   "outputs": [],
   "source": [
    "show()"
   ]
  },
  {
   "cell_type": "markdown",
   "id": "d8b04770",
   "metadata": {},
   "source": [
    "<img src=\"fig/05-section5-rendered-unnamed-chunk-11-3.png\" width=\"1920\" style=\"display: block; margin: auto;\" />\n"
   ]
  },
  {
   "cell_type": "code",
   "execution_count": null,
   "id": "34eb53d5",
   "metadata": {},
   "outputs": [],
   "source": [
    "mask = (img1_slice>0) & (img2_slice>0) "
   ]
  },
  {
   "cell_type": "markdown",
   "id": "0688debe",
   "metadata": {},
   "source": [
    "```{.error}\n",
    "Error: NameError: name 'img1_slice' is not defined\n",
    "```"
   ]
  },
  {
   "cell_type": "code",
   "execution_count": null,
   "id": "4b8d3e2b",
   "metadata": {},
   "outputs": [],
   "source": [
    "img1_nz = img1_slice[mask]"
   ]
  },
  {
   "cell_type": "markdown",
   "id": "01c9f81d",
   "metadata": {},
   "source": [
    "```{.error}\n",
    "Error: NameError: name 'img1_slice' is not defined\n",
    "```"
   ]
  },
  {
   "cell_type": "code",
   "execution_count": null,
   "id": "b4de38e2",
   "metadata": {},
   "outputs": [],
   "source": [
    "img2_nz = img2_slice[mask]"
   ]
  },
  {
   "cell_type": "markdown",
   "id": "2ef22a19",
   "metadata": {},
   "source": [
    "```{.error}\n",
    "Error: NameError: name 'img2_slice' is not defined\n",
    "```"
   ]
  },
  {
   "cell_type": "code",
   "execution_count": null,
   "id": "d045d012",
   "metadata": {},
   "outputs": [],
   "source": [
    "fig, ax = subplots(nrows=1, ncols=2, figsize=(20, 5))\n",
    "\n",
    "ax[0].hist(img1_nz, bins=50)"
   ]
  },
  {
   "cell_type": "markdown",
   "id": "11931f6f",
   "metadata": {},
   "source": [
    "```{.error}\n",
    "Error: NameError: name 'img1_nz' is not defined\n",
    "```"
   ]
  },
  {
   "cell_type": "code",
   "execution_count": null,
   "id": "58d43110",
   "metadata": {},
   "outputs": [],
   "source": [
    "ax[1].hist(img2_nz, bins=50);"
   ]
  },
  {
   "cell_type": "markdown",
   "id": "29be1e80",
   "metadata": {},
   "source": [
    "```{.error}\n",
    "Error: NameError: name 'img2_nz' is not defined\n",
    "```"
   ]
  },
  {
   "cell_type": "code",
   "execution_count": null,
   "id": "42c4c71f",
   "metadata": {},
   "outputs": [],
   "source": [
    "show()"
   ]
  },
  {
   "cell_type": "markdown",
   "id": "fa67e67f",
   "metadata": {},
   "source": [
    "<img src=\"fig/05-section5-rendered-unnamed-chunk-12-5.png\" width=\"1920\" style=\"display: block; margin: auto;\" />\n",
    "\n",
    "### Scaling\n",
    "\n",
    "Standard Scaler: removing the mean and scaling to unit variance\n"
   ]
  },
  {
   "cell_type": "code",
   "execution_count": null,
   "id": "18530f2a",
   "metadata": {},
   "outputs": [],
   "source": [
    "from sklearn.preprocessing import StandardScaler"
   ]
  },
  {
   "cell_type": "markdown",
   "id": "437b4ff5",
   "metadata": {},
   "source": [
    "```{.error}\n",
    "Error: ModuleNotFoundError: No module named 'sklearn'\n",
    "```"
   ]
  },
  {
   "cell_type": "code",
   "execution_count": null,
   "id": "6a4182f5",
   "metadata": {},
   "outputs": [],
   "source": [
    "scaler = StandardScaler()"
   ]
  },
  {
   "cell_type": "markdown",
   "id": "8070b6b7",
   "metadata": {},
   "source": [
    "```{.error}\n",
    "Error: NameError: name 'StandardScaler' is not defined\n",
    "```"
   ]
  },
  {
   "cell_type": "code",
   "execution_count": null,
   "id": "499a6352",
   "metadata": {},
   "outputs": [],
   "source": [
    "img1_scaled = scaler.fit_transform(img1_nz.reshape(-1, 1))"
   ]
  },
  {
   "cell_type": "markdown",
   "id": "45dafdeb",
   "metadata": {},
   "source": [
    "```{.error}\n",
    "Error: NameError: name 'scaler' is not defined\n",
    "```"
   ]
  },
  {
   "cell_type": "code",
   "execution_count": null,
   "id": "7a61b14e",
   "metadata": {},
   "outputs": [],
   "source": [
    "img2_scaled = scaler.fit_transform(img2_nz.reshape(-1, 1))"
   ]
  },
  {
   "cell_type": "markdown",
   "id": "d239506a",
   "metadata": {},
   "source": [
    "```{.error}\n",
    "Error: NameError: name 'scaler' is not defined\n",
    "```\n"
   ]
  },
  {
   "cell_type": "code",
   "execution_count": null,
   "id": "1a63dcf6",
   "metadata": {},
   "outputs": [],
   "source": [
    "img1_scaled.shape"
   ]
  },
  {
   "cell_type": "markdown",
   "id": "3357f8f6",
   "metadata": {},
   "source": [
    "```{.error}\n",
    "Error: NameError: name 'img1_scaled' is not defined\n",
    "```\n",
    "\n",
    "### Visualise and Concatenate\n",
    "\n",
    "Seaborn: https://seaborn.pydata.org\n",
    "\n",
    "c.f. pair grid example\n",
    "https://seaborn.pydata.org/examples/pair_grid_with_kde.html\n",
    "\n",
    "kdeplot documentation\n",
    "https://seaborn.pydata.org/generated/seaborn.kdeplot.html\n"
   ]
  },
  {
   "cell_type": "code",
   "execution_count": null,
   "id": "9f44e1bb",
   "metadata": {},
   "outputs": [],
   "source": [
    "fig, ax = subplots(1, 3, figsize=(20, 6))\n",
    "\n",
    "# Scatter plot\n",
    "ax[0].scatter(img1_nz, img2_nz)\n",
    "\n",
    "# 2D Histogram"
   ]
  },
  {
   "cell_type": "markdown",
   "id": "e5336031",
   "metadata": {},
   "source": [
    "```{.error}\n",
    "Error: NameError: name 'img1_nz' is not defined\n",
    "```"
   ]
  },
  {
   "cell_type": "code",
   "execution_count": null,
   "id": "7395c7f8",
   "metadata": {},
   "outputs": [],
   "source": [
    "ax[1].hist2d(img1_nz, img2_nz, bins=50, vmax=10);"
   ]
  },
  {
   "cell_type": "markdown",
   "id": "f4468af9",
   "metadata": {},
   "source": [
    "```{.error}\n",
    "Error: NameError: name 'img1_nz' is not defined\n",
    "```"
   ]
  },
  {
   "cell_type": "code",
   "execution_count": null,
   "id": "6ae821f2",
   "metadata": {},
   "outputs": [],
   "source": [
    "from seaborn import kdeplot\n",
    "\n",
    "# Density Plot"
   ]
  },
  {
   "cell_type": "markdown",
   "id": "5d23c017",
   "metadata": {},
   "source": [
    "```{.error}\n",
    "Error: ModuleNotFoundError: No module named 'seaborn'\n",
    "```"
   ]
  },
  {
   "cell_type": "code",
   "execution_count": null,
   "id": "0d454edb",
   "metadata": {},
   "outputs": [],
   "source": [
    "kdeplot(x=img1_nz, y=img2_nz, ax=ax[2]);"
   ]
  },
  {
   "cell_type": "markdown",
   "id": "96bc81e1",
   "metadata": {},
   "source": [
    "```{.error}\n",
    "Error: NameError: name 'kdeplot' is not defined\n",
    "```"
   ]
  },
  {
   "cell_type": "code",
   "execution_count": null,
   "id": "a4078f1b",
   "metadata": {},
   "outputs": [],
   "source": [
    "show()"
   ]
  },
  {
   "cell_type": "markdown",
   "id": "df3cd4e5",
   "metadata": {},
   "source": [
    "<img src=\"fig/05-section5-rendered-unnamed-chunk-15-7.png\" width=\"1920\" style=\"display: block; margin: auto;\" />\n",
    "\n",
    "### Scaled Images\n"
   ]
  },
  {
   "cell_type": "code",
   "execution_count": null,
   "id": "58bc4522",
   "metadata": {},
   "outputs": [],
   "source": [
    "fig, ax = subplots(1, 3, figsize=(20, 6))\n",
    "\n",
    "# Scatter plot\n",
    "ax[0].scatter(img1_scaled[:,0], img2_scaled[:,0])\n",
    "\n",
    "# 2D Histogram"
   ]
  },
  {
   "cell_type": "markdown",
   "id": "66a6f679",
   "metadata": {},
   "source": [
    "```{.error}\n",
    "Error: NameError: name 'img1_scaled' is not defined\n",
    "```"
   ]
  },
  {
   "cell_type": "code",
   "execution_count": null,
   "id": "5115208a",
   "metadata": {},
   "outputs": [],
   "source": [
    "ax[1].hist2d(img1_scaled[:,0], img2_scaled[:,0], bins=50, vmax=10);"
   ]
  },
  {
   "cell_type": "markdown",
   "id": "62fb50e9",
   "metadata": {},
   "source": [
    "```{.error}\n",
    "Error: NameError: name 'img1_scaled' is not defined\n",
    "```"
   ]
  },
  {
   "cell_type": "code",
   "execution_count": null,
   "id": "1ed3d462",
   "metadata": {},
   "outputs": [],
   "source": [
    "from seaborn import kdeplot\n",
    "\n",
    "# Density Plot"
   ]
  },
  {
   "cell_type": "markdown",
   "id": "099872bd",
   "metadata": {},
   "source": [
    "```{.error}\n",
    "Error: ModuleNotFoundError: No module named 'seaborn'\n",
    "```"
   ]
  },
  {
   "cell_type": "code",
   "execution_count": null,
   "id": "5c59c5a4",
   "metadata": {},
   "outputs": [],
   "source": [
    "kdeplot(x=img1_scaled[:,0], y=img2_scaled[:,0], ax=ax[2]);"
   ]
  },
  {
   "cell_type": "markdown",
   "id": "725ab9e4",
   "metadata": {},
   "source": [
    "```{.error}\n",
    "Error: NameError: name 'kdeplot' is not defined\n",
    "```"
   ]
  },
  {
   "cell_type": "code",
   "execution_count": null,
   "id": "459f7553",
   "metadata": {},
   "outputs": [],
   "source": [
    "show()"
   ]
  },
  {
   "cell_type": "markdown",
   "id": "c7a9b4c5",
   "metadata": {},
   "source": [
    "<img src=\"fig/05-section5-rendered-unnamed-chunk-16-9.png\" width=\"1920\" style=\"display: block; margin: auto;\" />\n"
   ]
  },
  {
   "cell_type": "code",
   "execution_count": null,
   "id": "65b49bd5",
   "metadata": {},
   "outputs": [],
   "source": [
    "all_img_scaled = concatenate([img1_scaled, img2_scaled], axis=1)"
   ]
  },
  {
   "cell_type": "markdown",
   "id": "aa2b74a0",
   "metadata": {},
   "source": [
    "```{.error}\n",
    "Error: NameError: name 'img1_scaled' is not defined\n",
    "```"
   ]
  },
  {
   "cell_type": "code",
   "execution_count": null,
   "id": "50d9bf0d",
   "metadata": {},
   "outputs": [],
   "source": [
    "all_img_scaled.shape"
   ]
  },
  {
   "cell_type": "markdown",
   "id": "fb764c1b",
   "metadata": {},
   "source": [
    "```{.error}\n",
    "Error: NameError: name 'all_img_scaled' is not defined\n",
    "```\n",
    "## Segmenting images with Gaussian Mixtures\n",
    "\n",
    "### GMM clustering\n"
   ]
  },
  {
   "cell_type": "code",
   "execution_count": null,
   "id": "3eb55ad9",
   "metadata": {},
   "outputs": [],
   "source": [
    "from sklearn.mixture import GaussianMixture"
   ]
  },
  {
   "cell_type": "markdown",
   "id": "5ed999f6",
   "metadata": {},
   "source": [
    "```{.error}\n",
    "Error: ModuleNotFoundError: No module named 'sklearn'\n",
    "```\n"
   ]
  },
  {
   "cell_type": "code",
   "execution_count": null,
   "id": "d2bad290",
   "metadata": {},
   "outputs": [],
   "source": [
    "n_components = 3\n",
    "\n",
    "RANDOM_STATE = 12345\n",
    "\n",
    "gmm = GaussianMixture(n_components=n_components, \n",
    "                      random_state=RANDOM_STATE)"
   ]
  },
  {
   "cell_type": "markdown",
   "id": "c87a87a8",
   "metadata": {},
   "source": [
    "```{.error}\n",
    "Error: NameError: name 'GaussianMixture' is not defined\n",
    "```"
   ]
  },
  {
   "cell_type": "code",
   "execution_count": null,
   "id": "deb59bdf",
   "metadata": {},
   "outputs": [],
   "source": [
    "all_img_labels = gmm.fit_predict(all_img_scaled)"
   ]
  },
  {
   "cell_type": "markdown",
   "id": "169700ff",
   "metadata": {},
   "source": [
    "```{.error}\n",
    "Error: NameError: name 'gmm' is not defined\n",
    "```"
   ]
  },
  {
   "cell_type": "code",
   "execution_count": null,
   "id": "f95ac4da",
   "metadata": {},
   "outputs": [],
   "source": [
    "all_img_labels[0]"
   ]
  },
  {
   "cell_type": "markdown",
   "id": "79a269bf",
   "metadata": {},
   "source": [
    "```{.error}\n",
    "Error: NameError: name 'all_img_labels' is not defined\n",
    "```\n"
   ]
  },
  {
   "cell_type": "code",
   "execution_count": null,
   "id": "34cb9932",
   "metadata": {},
   "outputs": [],
   "source": [
    "fig, ax = subplots(figsize=(8, 8))\n",
    "\n",
    "ax.scatter(img1_nz, img2_nz, c=all_img_labels, s=100)"
   ]
  },
  {
   "cell_type": "markdown",
   "id": "c2824dd4",
   "metadata": {},
   "source": [
    "```{.error}\n",
    "Error: NameError: name 'img1_nz' is not defined\n",
    "```"
   ]
  },
  {
   "cell_type": "code",
   "execution_count": null,
   "id": "ff5c63e4",
   "metadata": {},
   "outputs": [],
   "source": [
    "ax.set_xlabel('Image 1', fontsize=16)\n",
    "ax.set_ylabel('Image 2', fontsize=16);\n",
    "\n",
    "show()"
   ]
  },
  {
   "cell_type": "markdown",
   "id": "60733d38",
   "metadata": {},
   "source": [
    "<img src=\"fig/05-section5-rendered-unnamed-chunk-20-11.png\" width=\"768\" style=\"display: block; margin: auto;\" />\n"
   ]
  },
  {
   "cell_type": "code",
   "execution_count": null,
   "id": "518acc45",
   "metadata": {},
   "outputs": [],
   "source": [
    "all_img_labels_mapped = zeros(img1_slice.shape)"
   ]
  },
  {
   "cell_type": "markdown",
   "id": "1eda848b",
   "metadata": {},
   "source": [
    "```{.error}\n",
    "Error: NameError: name 'img1_slice' is not defined\n",
    "```"
   ]
  },
  {
   "cell_type": "code",
   "execution_count": null,
   "id": "d5c746f8",
   "metadata": {},
   "outputs": [],
   "source": [
    "all_img_labels_mapped[mask] = all_img_labels"
   ]
  },
  {
   "cell_type": "markdown",
   "id": "d9768a7e",
   "metadata": {},
   "source": [
    "```{.error}\n",
    "Error: NameError: name 'all_img_labels' is not defined\n",
    "```\n"
   ]
  },
  {
   "cell_type": "code",
   "execution_count": null,
   "id": "6ff1597d",
   "metadata": {},
   "outputs": [],
   "source": [
    "fig, ax = subplots(figsize=(20, 10))\n",
    "\n",
    "ax.imshow(all_img_labels_mapped);"
   ]
  },
  {
   "cell_type": "markdown",
   "id": "7f4983c4",
   "metadata": {},
   "source": [
    "```{.error}\n",
    "Error: NameError: name 'all_img_labels_mapped' is not defined\n",
    "```"
   ]
  },
  {
   "cell_type": "code",
   "execution_count": null,
   "id": "ea08cef4",
   "metadata": {},
   "outputs": [],
   "source": [
    "show()"
   ]
  },
  {
   "cell_type": "markdown",
   "id": "92d47629",
   "metadata": {},
   "source": [
    "<img src=\"fig/05-section5-rendered-unnamed-chunk-22-13.png\" width=\"1920\" style=\"display: block; margin: auto;\" />"
   ]
  },
  {
   "cell_type": "markdown",
   "id": "1b0ad4d5",
   "metadata": {},
   "source": [
    "-\n",
    "-\n",
    "-\n",
    "\n",
    "[r-markdown]: https://rmarkdown.rstudio.com/"
   ]
  }
 ],
 "metadata": {
  "jupytext": {
   "cell_metadata_filter": "-all",
   "main_language": "python",
   "notebook_metadata_filter": "-all"
  }
 },
 "nbformat": 4,
 "nbformat_minor": 5
}
