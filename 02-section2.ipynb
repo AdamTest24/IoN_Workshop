{
 "cells": [
  {
   "cell_type": "raw",
   "id": "5900b960",
   "metadata": {},
   "source": [
    "---\n",
    "title: \"Neuro-Image Handling\"\n",
    "teaching: 10\n",
    "exercises: 2\n",
    "---"
   ]
  },
  {
   "cell_type": "markdown",
   "id": "e4cf63b9",
   "metadata": {},
   "source": [
    "\n",
    "- \n",
    "-\n",
    "-\n"
   ]
  },
  {
   "cell_type": "markdown",
   "id": "41642d0c",
   "metadata": {},
   "source": [
    "-\n",
    "-\n",
    "-\n",
    "\n",
    "## Image Handling \n"
   ]
  },
  {
   "cell_type": "code",
   "execution_count": null,
   "id": "98d024ad",
   "metadata": {
    "lines_to_next_cell": 2
   },
   "outputs": [],
   "source": [
    "from matplotlib.pyplot import subplots, show\n",
    "\n",
    "from matplotlib.image import imread"
   ]
  },
  {
   "cell_type": "code",
   "execution_count": null,
   "id": "c7b9e69e",
   "metadata": {},
   "outputs": [],
   "source": [
    "image = imread('fig/Cerebellum.jpg')\n",
    "\n",
    "fig, ax = subplots()\n",
    "\n",
    "ax.imshow(image);\n",
    "\n",
    "show()"
   ]
  },
  {
   "cell_type": "markdown",
   "id": "43338744",
   "metadata": {},
   "source": [
    "<img src=\"fig/02-section2-rendered-unnamed-chunk-2-1.png\" width=\"672\" style=\"display: block; margin: auto;\" />\n"
   ]
  },
  {
   "cell_type": "code",
   "execution_count": null,
   "id": "9983619f",
   "metadata": {},
   "outputs": [],
   "source": [
    "image.shape"
   ]
  },
  {
   "cell_type": "markdown",
   "id": "cfe057d8",
   "metadata": {},
   "source": [
    "```{.output}\n",
    "(154, 327, 3)\n",
    "```\n"
   ]
  },
  {
   "cell_type": "code",
   "execution_count": null,
   "id": "c394b02f",
   "metadata": {},
   "outputs": [],
   "source": [
    "image[0, 0]"
   ]
  },
  {
   "cell_type": "markdown",
   "id": "f944d1ed",
   "metadata": {},
   "source": [
    "```{.output}\n",
    "array([255, 255, 255], dtype=uint8)\n",
    "```\n"
   ]
  },
  {
   "cell_type": "code",
   "execution_count": null,
   "id": "b00c4f1f",
   "metadata": {},
   "outputs": [],
   "source": [
    "fig, ax = subplots()\n",
    "\n",
    "ax.imshow(image[50:70, 60:100]);\n",
    "\n",
    "ax.set_xticklabels(());\n",
    "ax.set_yticklabels(());\n",
    "\n",
    "show()"
   ]
  },
  {
   "cell_type": "markdown",
   "id": "9eccb2fa",
   "metadata": {},
   "source": [
    "<img src=\"fig/02-section2-rendered-unnamed-chunk-5-3.png\" width=\"672\" style=\"display: block; margin: auto;\" />\n"
   ]
  },
  {
   "cell_type": "code",
   "execution_count": null,
   "id": "1896bcae",
   "metadata": {},
   "outputs": [],
   "source": [
    "fig, ax = subplots()\n",
    "\n",
    "ax.imshow(image[:,:, 2], cmap='gray');\n",
    "\n",
    "ax.set_xticklabels(());\n",
    "ax.set_yticklabels(());\n",
    "\n",
    "show()"
   ]
  },
  {
   "cell_type": "markdown",
   "id": "710d15af",
   "metadata": {},
   "source": [
    "<img src=\"fig/02-section2-rendered-unnamed-chunk-6-5.png\" width=\"672\" style=\"display: block; margin: auto;\" />\n"
   ]
  },
  {
   "cell_type": "code",
   "execution_count": null,
   "id": "d515f1e7",
   "metadata": {},
   "outputs": [],
   "source": [
    "layer = 2\n",
    "\n",
    "fig, ax = subplots()\n",
    "\n",
    "ax.hist(image[:, :, layer][image[:, :, layer] < 255].ravel(), bins=500);\n",
    "\n",
    "show()"
   ]
  },
  {
   "cell_type": "markdown",
   "id": "04113a60",
   "metadata": {},
   "source": [
    "<img src=\"fig/02-section2-rendered-unnamed-chunk-7-7.png\" width=\"672\" style=\"display: block; margin: auto;\" />\n"
   ]
  },
  {
   "cell_type": "code",
   "execution_count": null,
   "id": "326ed31b",
   "metadata": {},
   "outputs": [],
   "source": [
    "image.size"
   ]
  },
  {
   "cell_type": "markdown",
   "id": "e0050f58",
   "metadata": {},
   "source": [
    "```{.output}\n",
    "151074\n",
    "```\n"
   ]
  },
  {
   "cell_type": "code",
   "execution_count": null,
   "id": "a03c00ce",
   "metadata": {},
   "outputs": [],
   "source": [
    "from PIL import Image\n",
    "\n",
    "image = Image.open('fig/Cerebellum.jpg')\n",
    "\n",
    "fig, ax = subplots()\n",
    "\n",
    "ax.imshow(image);\n",
    "\n",
    "show()"
   ]
  },
  {
   "cell_type": "markdown",
   "id": "2f722503",
   "metadata": {},
   "source": [
    "<img src=\"fig/02-section2-rendered-unnamed-chunk-9-9.png\" width=\"672\" style=\"display: block; margin: auto;\" />\n"
   ]
  },
  {
   "cell_type": "code",
   "execution_count": null,
   "id": "8746ff81",
   "metadata": {},
   "outputs": [],
   "source": [
    "type(image)"
   ]
  },
  {
   "cell_type": "markdown",
   "id": "566f9b42",
   "metadata": {},
   "source": [
    "```{.output}\n",
    "<class 'PIL.JpegImagePlugin.JpegImageFile'>\n",
    "```\n",
    "\n"
   ]
  },
  {
   "cell_type": "code",
   "execution_count": null,
   "id": "c53389e7",
   "metadata": {
    "lines_to_next_cell": 2
   },
   "outputs": [],
   "source": [
    "image.show()"
   ]
  },
  {
   "cell_type": "code",
   "execution_count": null,
   "id": "b6ed4fe8",
   "metadata": {},
   "outputs": [],
   "source": [
    "image.entropy()"
   ]
  },
  {
   "cell_type": "markdown",
   "id": "8d0891f8",
   "metadata": {},
   "source": [
    "```{.output}\n",
    "5.594248793777234\n",
    "```\n"
   ]
  },
  {
   "cell_type": "code",
   "execution_count": null,
   "id": "b1da2038",
   "metadata": {},
   "outputs": [],
   "source": [
    "image.rotate(-90, expand=True)"
   ]
  },
  {
   "cell_type": "markdown",
   "id": "46cb2b04",
   "metadata": {},
   "source": [
    "```{.output}\n",
    "<PIL.Image.Image image mode=RGB size=154x327 at 0x7FD1CFE09090>\n",
    "```\n",
    "\n",
    "## Image Masking\n"
   ]
  },
  {
   "cell_type": "code",
   "execution_count": null,
   "id": "e6c2f644",
   "metadata": {
    "lines_to_next_cell": 2
   },
   "outputs": [],
   "source": [
    "from matplotlib.image import imread\n",
    "from matplotlib.pyplot import subplots, show"
   ]
  },
  {
   "cell_type": "code",
   "execution_count": null,
   "id": "036bf16e",
   "metadata": {},
   "outputs": [],
   "source": [
    "image = imread('fig/rose.jpg')\n",
    "\n",
    "fig, ax = subplots()\n",
    "\n",
    "ax.imshow(image);\n",
    "\n",
    "show()"
   ]
  },
  {
   "cell_type": "markdown",
   "id": "be26cc35",
   "metadata": {},
   "source": [
    "<img src=\"fig/02-section2-rendered-unnamed-chunk-15-11.png\" width=\"672\" style=\"display: block; margin: auto;\" />\n",
    "\n",
    "### Transpose Image"
   ]
  },
  {
   "cell_type": "code",
   "execution_count": null,
   "id": "5946d39e",
   "metadata": {},
   "outputs": [],
   "source": [
    "image.shape"
   ]
  },
  {
   "cell_type": "markdown",
   "id": "bfd4c86f",
   "metadata": {},
   "source": [
    "```{.output}\n",
    "(3648, 2736, 3)\n",
    "```\n"
   ]
  },
  {
   "cell_type": "code",
   "execution_count": null,
   "id": "a01065c1",
   "metadata": {},
   "outputs": [],
   "source": [
    "image_t = image.transpose((1, 0, 2))\n",
    "\n",
    "fig, ax = subplots()\n",
    "\n",
    "ax.imshow(image_t)\n",
    "\n",
    "show()"
   ]
  },
  {
   "cell_type": "markdown",
   "id": "5a9596e6",
   "metadata": {},
   "source": [
    "<img src=\"fig/02-section2-rendered-unnamed-chunk-17-13.png\" width=\"672\" style=\"display: block; margin: auto;\" />\n",
    "\n",
    "### Only red Component\n"
   ]
  },
  {
   "cell_type": "code",
   "execution_count": null,
   "id": "a206c29c",
   "metadata": {},
   "outputs": [],
   "source": [
    "fig, ax = subplots()\n",
    "\n",
    "ax.imshow(image_t[:, :, 0]);\n",
    "\n",
    "show()"
   ]
  },
  {
   "cell_type": "markdown",
   "id": "6f1af71c",
   "metadata": {},
   "source": [
    "<img src=\"fig/02-section2-rendered-unnamed-chunk-18-15.png\" width=\"672\" style=\"display: block; margin: auto;\" />\n",
    "\n",
    "### Histogram of Red Component\n"
   ]
  },
  {
   "cell_type": "code",
   "execution_count": null,
   "id": "124e4521",
   "metadata": {},
   "outputs": [],
   "source": [
    "fig, ax, = subplots()\n",
    "\n",
    "ax.hist(image_t[:, :, 0].ravel(), bins=500);\n",
    "\n",
    "show()"
   ]
  },
  {
   "cell_type": "markdown",
   "id": "8693e8d6",
   "metadata": {},
   "source": [
    "<img src=\"fig/02-section2-rendered-unnamed-chunk-19-17.png\" width=\"672\" style=\"display: block; margin: auto;\" />\n",
    "\n",
    "### Masking the Red Component"
   ]
  },
  {
   "cell_type": "code",
   "execution_count": null,
   "id": "81459ad6",
   "metadata": {},
   "outputs": [],
   "source": [
    "threshold = 90\n",
    "\n",
    "mask = image_t[:, :, 0] < threshold\n",
    "\n",
    "image_masked = image_t[:, :, 0] * mask\n",
    "\n",
    "fig, ax = subplots(ncols=3)\n",
    "\n",
    "ax[0].imshow(image_t[:, :, 0], cmap='gray')\n",
    "ax[1].imshow(mask, cmap='gray')\n",
    "ax[2].imshow(image_masked, cmap='gray');\n",
    "\n",
    "fig.tight_layout()\n",
    "\n",
    "show()"
   ]
  },
  {
   "cell_type": "markdown",
   "id": "3af1c630",
   "metadata": {},
   "source": [
    "<img src=\"fig/02-section2-rendered-unnamed-chunk-20-19.png\" width=\"672\" style=\"display: block; margin: auto;\" />\n",
    "\n",
    "### False Colour"
   ]
  },
  {
   "cell_type": "code",
   "execution_count": null,
   "id": "1b4ca61b",
   "metadata": {},
   "outputs": [],
   "source": [
    "fig, ax = subplots()\n",
    "\n",
    "ax.imshow(image_masked);\n",
    "\n",
    "show()"
   ]
  },
  {
   "cell_type": "markdown",
   "id": "5f0d764c",
   "metadata": {},
   "source": [
    "<img src=\"fig/02-section2-rendered-unnamed-chunk-21-21.png\" width=\"672\" style=\"display: block; margin: auto;\" />\n",
    "\n",
    "### Apply mask to all layers\n",
    "Choose grey value for background\n"
   ]
  },
  {
   "cell_type": "code",
   "execution_count": null,
   "id": "cfa6b871",
   "metadata": {},
   "outputs": [],
   "source": [
    "image_new = image_t.copy()\n",
    "\n",
    "grey_value = 100\n",
    "\n",
    "image_new[mask, :] = grey_value\n",
    "\n",
    "\n",
    "fig, ax = subplots()\n",
    "\n",
    "ax.imshow(image_new);\n",
    "\n",
    "show()"
   ]
  },
  {
   "cell_type": "markdown",
   "id": "60681188",
   "metadata": {},
   "source": [
    "<img src=\"fig/02-section2-rendered-unnamed-chunk-22-23.png\" width=\"672\" style=\"display: block; margin: auto;\" />\n"
   ]
  },
  {
   "cell_type": "code",
   "execution_count": null,
   "id": "d74b5681",
   "metadata": {
    "lines_to_next_cell": 0
   },
   "outputs": [],
   "source": [
    "fig.savefig('fig/rose_masked.png', format='png')"
   ]
  },
  {
   "cell_type": "markdown",
   "id": "8dd244c1",
   "metadata": {},
   "source": []
  },
  {
   "cell_type": "markdown",
   "id": "46503a97",
   "metadata": {},
   "source": [
    "-\n",
    "-\n",
    "-\n",
    "\n",
    "[r-markdown]: https://rmarkdown.rstudio.com/"
   ]
  }
 ],
 "metadata": {
  "jupytext": {
   "cell_metadata_filter": "-all",
   "main_language": "python",
   "notebook_metadata_filter": "-all"
  }
 },
 "nbformat": 4,
 "nbformat_minor": 5
}
