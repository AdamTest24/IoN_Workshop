{
 "cells": [
  {
   "cell_type": "raw",
   "id": "8917c474",
   "metadata": {},
   "source": [
    "---\n",
    "title: \"Neuro-Image Handling\"\n",
    "teaching: 10\n",
    "exercises: 2\n",
    "---"
   ]
  },
  {
   "cell_type": "markdown",
   "id": "df3546db",
   "metadata": {},
   "source": [
    "\n",
    "- How an image is read in Python?\n",
    "- What does masking do?\n"
   ]
  },
  {
   "cell_type": "markdown",
   "id": "f7a4c932",
   "metadata": {},
   "source": [
    "- Explaining data in images\n",
    "- Understanding image masking "
   ]
  },
  {
   "cell_type": "markdown",
   "id": "fc1951ee",
   "metadata": {},
   "source": [
    "## Image Handling \n",
    "\n",
    "### Reading and Processing Images\n",
    "In biology, we often deal with images, for example from microscopy and different medical imaging modalities. In many cases, we wish to extract some quantitative information from these images. The focus of this session is to read and process images in Python. This includes:\n",
    "\n",
    "- Working with 2-dimensional images\n",
    "- Creating and applying binary image masks\n",
    "- Working with 2-dimensional colour images, and interpreting colour channels\n",
    "\n",
    "First, we want to read in an image. For this part of the lesson, we use a 2D image of brain part,Cerebellum, as an example. We use Matplotlib’s `image` module, from which we import `imread` to store the image in a variable called image. The function `imread` can interpret many different image formats, including jpg, png and tif images.\n",
    "\n",
    "\n"
   ]
  },
  {
   "cell_type": "code",
   "execution_count": null,
   "id": "c4053f88",
   "metadata": {
    "lines_to_next_cell": 2
   },
   "outputs": [],
   "source": [
    "from matplotlib.pyplot import subplots, show\n",
    "\n",
    "from matplotlib.image import imread"
   ]
  },
  {
   "cell_type": "code",
   "execution_count": null,
   "id": "68955d1b",
   "metadata": {},
   "outputs": [],
   "source": [
    "image = imread('fig/Cerebellum.jpg')\n",
    "\n",
    "fig, ax = subplots()\n",
    "\n",
    "ax.imshow(image);\n",
    "\n",
    "show()"
   ]
  },
  {
   "cell_type": "markdown",
   "id": "163a0018",
   "metadata": {},
   "source": [
    "<img src=\"fig/02-section2-rendered-unnamed-chunk-2-1.png\" width=\"672\" style=\"display: block; margin: auto;\" />\n"
   ]
  },
  {
   "cell_type": "code",
   "execution_count": null,
   "id": "2b59ec9a",
   "metadata": {},
   "outputs": [],
   "source": [
    "image.shape"
   ]
  },
  {
   "cell_type": "markdown",
   "id": "9eb4e946",
   "metadata": {},
   "source": [
    "```{.output}\n",
    "(154, 327, 3)\n",
    "```\n",
    "\n",
    "This tells us that our image is composed of 154 by 327 data units, or pixels as we are dealing with an image. It is equivalent to the image resolution. The array has three dimensions.  \n"
   ]
  },
  {
   "cell_type": "code",
   "execution_count": null,
   "id": "d4199264",
   "metadata": {},
   "outputs": [],
   "source": [
    "image[0, 0]"
   ]
  },
  {
   "cell_type": "markdown",
   "id": "60d7d0c5",
   "metadata": {},
   "source": [
    "```{.output}\n",
    "array([255, 255, 255], dtype=uint8)\n",
    "```\n",
    "\n",
    "The color intensities go up to 255. This is because RGB (red, green and blue) colours are defined within the range 0-255. \n",
    "\n",
    "Let us now use matplotlib.pyplot’s imshow function to plot the section of image to see what it looks like. The x and y coordinates are chosen to specify section of the image. \n"
   ]
  },
  {
   "cell_type": "code",
   "execution_count": null,
   "id": "f7c8a22d",
   "metadata": {},
   "outputs": [],
   "source": [
    "fig, ax = subplots()\n",
    "\n",
    "ax.imshow(image[50:70, 60:100]);\n",
    "\n",
    "ax.set_xticklabels(());\n",
    "ax.set_yticklabels(());\n",
    "\n",
    "show()"
   ]
  },
  {
   "cell_type": "markdown",
   "id": "d28b91c2",
   "metadata": {},
   "source": [
    "<img src=\"fig/02-section2-rendered-unnamed-chunk-5-3.png\" width=\"672\" style=\"display: block; margin: auto;\" />\n",
    "\n",
    "Each square is a pixel and it has one value. So how exactly are the pixel values assigned? By the numbers stored in the Numpy array, image.\n"
   ]
  },
  {
   "cell_type": "code",
   "execution_count": null,
   "id": "0c4a1033",
   "metadata": {},
   "outputs": [],
   "source": [
    "fig, ax = subplots()\n",
    "\n",
    "ax.imshow(image[:,:, 2], cmap='gray');\n",
    "\n",
    "ax.set_xticklabels(());\n",
    "ax.set_yticklabels(());\n",
    "\n",
    "show()"
   ]
  },
  {
   "cell_type": "markdown",
   "id": "a5e9f63a",
   "metadata": {},
   "source": [
    "<img src=\"fig/02-section2-rendered-unnamed-chunk-6-5.png\" width=\"672\" style=\"display: block; margin: auto;\" />\n",
    "\n",
    "Here we assigned a grey colour map."
   ]
  },
  {
   "cell_type": "markdown",
   "id": "dc83293a",
   "metadata": {},
   "source": [
    "Now that we know that the images are composed of a set of intensities that are just numbers in a Numpy array, we can start using these numbers to process our image.\n",
    "\n",
    "As a first approach, we can plot a histogram of the original image intensities. We use the `.ravel()` method to turn the original 154 x 327 array into a one-dimensional array with 503,58 values. This rearrangement allows the inclusion of an image as a single column in a matrix or dataframe!\n",
    "\n",
    "The histogram plot shows how many of the intensities are found in one layer of this image:\n"
   ]
  },
  {
   "cell_type": "code",
   "execution_count": null,
   "id": "edefc4a8",
   "metadata": {},
   "outputs": [],
   "source": [
    "layer = 2\n",
    "\n",
    "fig, ax = subplots()\n",
    "\n",
    "ax.hist(image[:, :, layer][image[:, :, layer] < 255].ravel(), bins=500);\n",
    "\n",
    "show()"
   ]
  },
  {
   "cell_type": "markdown",
   "id": "5c0a5293",
   "metadata": {},
   "source": [
    "<img src=\"fig/02-section2-rendered-unnamed-chunk-7-7.png\" width=\"672\" style=\"display: block; margin: auto;\" />\n"
   ]
  },
  {
   "cell_type": "code",
   "execution_count": null,
   "id": "4ee8fef9",
   "metadata": {},
   "outputs": [],
   "source": [
    "image.size"
   ]
  },
  {
   "cell_type": "markdown",
   "id": "7511e9ca",
   "metadata": {},
   "source": [
    "```{.output}\n",
    "151074\n",
    "```\n"
   ]
  },
  {
   "cell_type": "code",
   "execution_count": null,
   "id": "9d69f911",
   "metadata": {},
   "outputs": [],
   "source": [
    "from PIL import Image\n",
    "\n",
    "image = Image.open('fig/Cerebellum.jpg')\n",
    "\n",
    "fig, ax = subplots()\n",
    "\n",
    "ax.imshow(image);\n",
    "\n",
    "show()"
   ]
  },
  {
   "cell_type": "markdown",
   "id": "0c19bafa",
   "metadata": {},
   "source": [
    "<img src=\"fig/02-section2-rendered-unnamed-chunk-9-9.png\" width=\"672\" style=\"display: block; margin: auto;\" />\n"
   ]
  },
  {
   "cell_type": "code",
   "execution_count": null,
   "id": "89cbe37a",
   "metadata": {},
   "outputs": [],
   "source": [
    "type(image)"
   ]
  },
  {
   "cell_type": "markdown",
   "id": "72648148",
   "metadata": {},
   "source": [
    "```{.output}\n",
    "<class 'PIL.JpegImagePlugin.JpegImageFile'>\n",
    "```\n",
    "\n"
   ]
  },
  {
   "cell_type": "code",
   "execution_count": null,
   "id": "24123e8b",
   "metadata": {
    "lines_to_next_cell": 2
   },
   "outputs": [],
   "source": [
    "image.show()"
   ]
  },
  {
   "cell_type": "code",
   "execution_count": null,
   "id": "a9ccd8c6",
   "metadata": {},
   "outputs": [],
   "source": [
    "image.entropy()"
   ]
  },
  {
   "cell_type": "markdown",
   "id": "b488b3ea",
   "metadata": {},
   "source": [
    "```{.output}\n",
    "5.594248793777234\n",
    "```\n"
   ]
  },
  {
   "cell_type": "code",
   "execution_count": null,
   "id": "bdf89ed4",
   "metadata": {},
   "outputs": [],
   "source": [
    "image.rotate(-90, expand=True)"
   ]
  },
  {
   "cell_type": "markdown",
   "id": "4da7c7a7",
   "metadata": {},
   "source": [
    "```{.output}\n",
    "<PIL.Image.Image image mode=RGB size=154x327 at 0x7F9E5FF36200>\n",
    "```\n",
    "\n",
    "## Image Masking\n",
    "\n"
   ]
  },
  {
   "cell_type": "code",
   "execution_count": null,
   "id": "3c73a790",
   "metadata": {
    "lines_to_next_cell": 2
   },
   "outputs": [],
   "source": [
    "from matplotlib.image import imread\n",
    "from matplotlib.pyplot import subplots, show"
   ]
  },
  {
   "cell_type": "code",
   "execution_count": null,
   "id": "b651a43c",
   "metadata": {},
   "outputs": [],
   "source": [
    "image = imread('fig/rose.jpg')\n",
    "\n",
    "fig, ax = subplots()\n",
    "\n",
    "ax.imshow(image);\n",
    "\n",
    "show()"
   ]
  },
  {
   "cell_type": "markdown",
   "id": "9c123962",
   "metadata": {},
   "source": [
    "<img src=\"fig/02-section2-rendered-unnamed-chunk-15-11.png\" width=\"672\" style=\"display: block; margin: auto;\" />\n",
    "\n",
    "### Transpose Image"
   ]
  },
  {
   "cell_type": "code",
   "execution_count": null,
   "id": "1a1b8848",
   "metadata": {},
   "outputs": [],
   "source": [
    "image.shape"
   ]
  },
  {
   "cell_type": "markdown",
   "id": "bd00cf12",
   "metadata": {},
   "source": [
    "```{.output}\n",
    "(3648, 2736, 3)\n",
    "```\n"
   ]
  },
  {
   "cell_type": "code",
   "execution_count": null,
   "id": "9ffed84a",
   "metadata": {},
   "outputs": [],
   "source": [
    "image_t = image.transpose((1, 0, 2))\n",
    "\n",
    "fig, ax = subplots()\n",
    "\n",
    "ax.imshow(image_t)\n",
    "\n",
    "show()"
   ]
  },
  {
   "cell_type": "markdown",
   "id": "f714fc6a",
   "metadata": {},
   "source": [
    "<img src=\"fig/02-section2-rendered-unnamed-chunk-17-13.png\" width=\"672\" style=\"display: block; margin: auto;\" />\n",
    "\n",
    "### Only red Component\n"
   ]
  },
  {
   "cell_type": "code",
   "execution_count": null,
   "id": "c807786d",
   "metadata": {},
   "outputs": [],
   "source": [
    "fig, ax = subplots()\n",
    "\n",
    "ax.imshow(image_t[:, :, 0]);\n",
    "\n",
    "show()"
   ]
  },
  {
   "cell_type": "markdown",
   "id": "d6453ae6",
   "metadata": {},
   "source": [
    "<img src=\"fig/02-section2-rendered-unnamed-chunk-18-15.png\" width=\"672\" style=\"display: block; margin: auto;\" />\n",
    "\n",
    "### Histogram of Red Component\n"
   ]
  },
  {
   "cell_type": "code",
   "execution_count": null,
   "id": "9c16de63",
   "metadata": {},
   "outputs": [],
   "source": [
    "fig, ax, = subplots()\n",
    "\n",
    "ax.hist(image_t[:, :, 0].ravel(), bins=500);\n",
    "\n",
    "show()"
   ]
  },
  {
   "cell_type": "markdown",
   "id": "a55d61d1",
   "metadata": {},
   "source": [
    "<img src=\"fig/02-section2-rendered-unnamed-chunk-19-17.png\" width=\"672\" style=\"display: block; margin: auto;\" />\n",
    "\n",
    "### Masking the Red Component"
   ]
  },
  {
   "cell_type": "code",
   "execution_count": null,
   "id": "1a031a11",
   "metadata": {},
   "outputs": [],
   "source": [
    "threshold = 90\n",
    "\n",
    "mask = image_t[:, :, 0] < threshold\n",
    "\n",
    "image_masked = image_t[:, :, 0] * mask\n",
    "\n",
    "fig, ax = subplots(ncols=3)\n",
    "\n",
    "ax[0].imshow(image_t[:, :, 0], cmap='gray')\n",
    "ax[1].imshow(mask, cmap='gray')\n",
    "ax[2].imshow(image_masked, cmap='gray');\n",
    "\n",
    "fig.tight_layout()\n",
    "\n",
    "show()"
   ]
  },
  {
   "cell_type": "markdown",
   "id": "16d7247b",
   "metadata": {},
   "source": [
    "<img src=\"fig/02-section2-rendered-unnamed-chunk-20-19.png\" width=\"672\" style=\"display: block; margin: auto;\" />\n",
    "\n",
    "### False Colour"
   ]
  },
  {
   "cell_type": "code",
   "execution_count": null,
   "id": "c442142c",
   "metadata": {},
   "outputs": [],
   "source": [
    "fig, ax = subplots()\n",
    "\n",
    "ax.imshow(image_masked);\n",
    "\n",
    "show()"
   ]
  },
  {
   "cell_type": "markdown",
   "id": "501e807e",
   "metadata": {},
   "source": [
    "<img src=\"fig/02-section2-rendered-unnamed-chunk-21-21.png\" width=\"672\" style=\"display: block; margin: auto;\" />\n",
    "\n",
    "### Apply mask to all layers\n",
    "Choose grey value for background\n"
   ]
  },
  {
   "cell_type": "code",
   "execution_count": null,
   "id": "bd17e896",
   "metadata": {},
   "outputs": [],
   "source": [
    "image_new = image_t.copy()\n",
    "\n",
    "grey_value = 100\n",
    "\n",
    "image_new[mask, :] = grey_value\n",
    "\n",
    "\n",
    "fig, ax = subplots()\n",
    "\n",
    "ax.imshow(image_new);\n",
    "\n",
    "show()"
   ]
  },
  {
   "cell_type": "markdown",
   "id": "ed69d6ed",
   "metadata": {},
   "source": [
    "<img src=\"fig/02-section2-rendered-unnamed-chunk-22-23.png\" width=\"672\" style=\"display: block; margin: auto;\" />\n"
   ]
  },
  {
   "cell_type": "code",
   "execution_count": null,
   "id": "0a3f4bc5",
   "metadata": {
    "lines_to_next_cell": 0
   },
   "outputs": [],
   "source": [
    "fig.savefig('fig/rose_masked.png', format='png')"
   ]
  },
  {
   "cell_type": "markdown",
   "id": "01ed2d22",
   "metadata": {},
   "source": []
  },
  {
   "cell_type": "markdown",
   "id": "a0596a88",
   "metadata": {},
   "source": [
    "- `imread` function is used to read images.\n",
    "- `ravel` function flattens a multi-dimentional array into a single array.\n",
    "- Image masking help in identifying objects based on colur intensities.\n",
    "\n",
    "[r-markdown]: https://rmarkdown.rstudio.com/"
   ]
  }
 ],
 "metadata": {
  "jupytext": {
   "cell_metadata_filter": "-all",
   "main_language": "python",
   "notebook_metadata_filter": "-all"
  }
 },
 "nbformat": 4,
 "nbformat_minor": 5
}
