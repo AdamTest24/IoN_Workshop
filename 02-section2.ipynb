{
 "cells": [
  {
   "cell_type": "raw",
   "id": "08738ee0",
   "metadata": {},
   "source": [
    "---\n",
    "title: \"Neuro-Image Handling\"\n",
    "teaching: 10\n",
    "exercises: 2\n",
    "---"
   ]
  },
  {
   "cell_type": "markdown",
   "id": "71133d88",
   "metadata": {},
   "source": [
    "[**Download Chapter notebook (ipynb)**](02-section2.ipynb)"
   ]
  },
  {
   "cell_type": "markdown",
   "id": "89bb5f4a",
   "metadata": {},
   "source": [
    "- How an image is read in Python?\n",
    "- What does masking work?\n"
   ]
  },
  {
   "cell_type": "markdown",
   "id": "d2482c86",
   "metadata": {},
   "source": [
    "- Explaining data in images\n",
    "- Understanding image masking "
   ]
  },
  {
   "cell_type": "markdown",
   "id": "5d51827a",
   "metadata": {},
   "source": [
    "## Image Handling \n",
    "\n",
    "### **Reading and Processing Images**\n",
    "In biology, we often deal with images, for example from microscopy and different medical imaging modalities. In many cases, we wish to extract some quantitative information from these images. The focus of this session is to read and process images in Python. This includes:\n",
    "\n",
    "- Working with 2-dimensional images\n",
    "- Creating and applying binary image masks\n",
    "- Working with 2-dimensional colour images, and interpreting colour channels\n",
    "\n",
    "In this notebook, we want to be able to read an image into our Python enviroment, from our computer. \n",
    "\n",
    "In order to this, we will use Matplotlib’s image module, from which we will import the function `imread`. This allows us to store the image in a variable, which we will call image. The function `imread` can interpret many different image formats, including jpg, png and tif images.\n",
    "\n",
    "In order for this notebook to run smoothly, please make sure that \"Cerebellum.jpg\" is in a subfolder called `figs` in your current folder.  \n",
    "\n",
    "\n"
   ]
  },
  {
   "cell_type": "code",
   "execution_count": null,
   "id": "31f573c7",
   "metadata": {
    "lines_to_next_cell": 2
   },
   "outputs": [],
   "source": [
    "from matplotlib.image import imread"
   ]
  },
  {
   "cell_type": "code",
   "execution_count": null,
   "id": "2707f0a0",
   "metadata": {},
   "outputs": [],
   "source": [
    "image = imread('fig/Cerebellum.jpg')"
   ]
  },
  {
   "cell_type": "markdown",
   "id": "a99bd041",
   "metadata": {},
   "source": [
    "Next, we can display the image within the editor. To do this, we import a function called subplots und use `imshow()` to display the image. \n",
    "\n",
    "## Note\n",
    "Note the semicolon at the end of the call of `ax.imshow(image);` - this suppresses the output, and ensures that only the image is displayed.\n",
    "\n",
    "### **Display Image**\n"
   ]
  },
  {
   "cell_type": "code",
   "execution_count": null,
   "id": "0fdaaffb",
   "metadata": {},
   "outputs": [],
   "source": [
    "from matplotlib.pyplot import subplots, show\n",
    "\n",
    "fig, ax = subplots()\n",
    "\n",
    "ax.imshow(image);\n",
    "\n",
    "show()"
   ]
  },
  {
   "cell_type": "markdown",
   "id": "7c08aee7",
   "metadata": {},
   "source": [
    "<img src=\"fig/02-section2-rendered-unnamed-chunk-3-1.png\" width=\"672\" style=\"display: block; margin: auto;\" />\n",
    "\n",
    "Our image is a colour image. A gray image only needs a single intensity value for each pixel. Typical RGB colour images contain three channels which correspond to red, green and blue (RGB) intensities. The resulting colour is conferred as a result of compositing the intensities of these three channels over the area of a single pixel.\n",
    "\n",
    "### **Pixels and Pixel Intensities**\n",
    "\n",
    "To check the number of pixels in our image we use the `shape` function (without any parentheses).\n"
   ]
  },
  {
   "cell_type": "code",
   "execution_count": null,
   "id": "30058392",
   "metadata": {},
   "outputs": [],
   "source": [
    "image.shape"
   ]
  },
  {
   "cell_type": "markdown",
   "id": "3dda39e6",
   "metadata": {},
   "source": [
    "```{.output}\n",
    "(154, 327, 3)\n",
    "```\n",
    "\n",
    "This shows that the image contains 156 x 327 pixels (horizontal by vertical) organised in three layers. \n",
    "\n",
    "The intensities are stored as integers that range between 0 (black or no intensity) to 255 (white or full intensity).\n",
    "\n",
    "To access the information in a single pixel, we use square brackets containing two values corresponding to the pixel's horizontal and vertical coordinates.\n",
    "\n",
    "For example, the pixel in the top left corner would be accessed, as follows:\n"
   ]
  },
  {
   "cell_type": "code",
   "execution_count": null,
   "id": "7c1eb180",
   "metadata": {},
   "outputs": [],
   "source": [
    "image[0, 0]"
   ]
  },
  {
   "cell_type": "markdown",
   "id": "fc78498d",
   "metadata": {},
   "source": [
    "```{.output}\n",
    "array([255, 255, 255], dtype=uint8)\n",
    "```\n",
    "\n",
    "All three values are maximal: i.e. the pixel will appear white.\n",
    "\n",
    "Experiment by plotting a section of the image. This is done by specifying pixel values over a range of positions. For example, in order to see the rectangle defined by pixels 50 to 70 (horizontally) and 60 to 100 (vertically), we can use:\n",
    "\n"
   ]
  },
  {
   "cell_type": "code",
   "execution_count": null,
   "id": "f5d9817d",
   "metadata": {},
   "outputs": [],
   "source": [
    "fig, ax = subplots()\n",
    "\n",
    "ax.imshow(image[50:70, 60:100]);\n",
    "\n",
    "ax.set_xticklabels(());\n",
    "ax.set_yticklabels(());\n",
    "\n",
    "show()"
   ]
  },
  {
   "cell_type": "markdown",
   "id": "ecd13296",
   "metadata": {},
   "source": [
    "<img src=\"fig/02-section2-rendered-unnamed-chunk-6-3.png\" width=\"672\" style=\"display: block; margin: auto;\" />\n",
    "\n",
    "Note that this preserves the original colours of the image. \n",
    "\n",
    "A peculiarity of the Matplotlib graphic library is that `imshow` typically uses a default colour map, if none is specified. Thus, we use the keyword `cmap` to specify what colour map to use, if we want to change this. \n",
    "\n",
    "Here is how we can see the intensities of a single channel. The colon indicates that all numbers in the range are displayed for x and y coordinates (i.e. the full horizontal and vertical dimensions of the image), and the third value is the channel (out of RGB) that we wish to display. \n",
    "\n",
    "In the below example, we will specify the third value in the square brackets. Out of indices 0 (red), 1 (green) and 2 (blue), we will display just the blue channel, as follows:\n"
   ]
  },
  {
   "cell_type": "code",
   "execution_count": null,
   "id": "d7033233",
   "metadata": {},
   "outputs": [],
   "source": [
    "blue = 2\n",
    "\n",
    "fig, ax = subplots()\n",
    "\n",
    "ax.imshow(image[:,:, blue], cmap='gray');\n",
    "\n",
    "show()"
   ]
  },
  {
   "cell_type": "markdown",
   "id": "9bf4b8b8",
   "metadata": {},
   "source": [
    "<img src=\"fig/02-section2-rendered-unnamed-chunk-7-5.png\" width=\"672\" style=\"display: block; margin: auto;\" />\n",
    "\n",
    "This gray image now shows the intensities of the 'blue' channel. Dark pixels correspond to a low intensity, where brighter ones correspond to a higher intensity value.\n",
    "\n",
    "### **Treating Intensities as Data**\n",
    "\n",
    "As pixel intensities are simply numerical values, we can deal with them using Python as we would with any numbers. \n",
    "\n",
    "For example, we can infer means and standard deviations, and use these to perform statistical analyses of the pixel intensities:\n"
   ]
  },
  {
   "cell_type": "code",
   "execution_count": null,
   "id": "bde16859",
   "metadata": {},
   "outputs": [],
   "source": [
    "from numpy import mean, std\n",
    "\n",
    "image_mean = mean(image)\n",
    "image_std  = std(image)\n",
    "\n",
    "print('Mean of Intensities:              ', round(image_mean, 2))\n",
    "print('Standard deviation of Intensities: ', round(image_std, 2))"
   ]
  },
  {
   "cell_type": "markdown",
   "id": "110da905",
   "metadata": {},
   "source": [
    "```{.output}\n",
    "Mean of Intensities:               220.0\n",
    "Standard deviation of Intensities:  61.46\n",
    "```\n",
    "\n",
    "You could also plot the distribution of these intensities as a histogram. Here we plot the distribution of the blue layer. \n",
    "\n",
    "In order to specify to Matplotlib that it must look at all values (not just a single row of pixels in the image), we use a function called `ravel()`, which flattens the image:\n"
   ]
  },
  {
   "cell_type": "code",
   "execution_count": null,
   "id": "b172b3c6",
   "metadata": {},
   "outputs": [],
   "source": [
    "fig, ax = subplots()\n",
    "\n",
    "ax.hist(image[:, :, blue].ravel(), bins=256);\n",
    "\n",
    "show()"
   ]
  },
  {
   "cell_type": "markdown",
   "id": "876d52bf",
   "metadata": {},
   "source": [
    "<img src=\"fig/02-section2-rendered-unnamed-chunk-9-7.png\" width=\"672\" style=\"display: block; margin: auto;\" />\n",
    "\n",
    "This is not too informative: the distribution is distorted by the fact that most intensities are 255 (white). \n",
    "\n",
    "We can adjust this by telling Matplotlib to only take values that are smaller than 255:\n"
   ]
  },
  {
   "cell_type": "code",
   "execution_count": null,
   "id": "01bde12e",
   "metadata": {},
   "outputs": [],
   "source": [
    "fig, ax = subplots()\n",
    "\n",
    "ax.hist(image[:, :, blue][image[:, :, blue] < 255].ravel(), bins=256);\n",
    "\n",
    "show()"
   ]
  },
  {
   "cell_type": "markdown",
   "id": "76192a5b",
   "metadata": {},
   "source": [
    "<img src=\"fig/02-section2-rendered-unnamed-chunk-10-9.png\" width=\"672\" style=\"display: block; margin: auto;\" />\n",
    "\n",
    "## Exercise: \n",
    "\n",
    "Import another picture and check its \n",
    "\n",
    "- type (gray or color)\n",
    "\n",
    "- range of intensities (either 0 to 255, or 0 to 1)\n",
    "\n",
    "- histogram\n",
    "\n",
    "## Masking\n",
    "\n",
    "The technique of specifying a condition to select or filter the intensities in zn image - as we did when displaying the histogram - is termed **masking**. \n",
    "\n",
    "We can use masking as a simple way to detect objects in an image, based on pixel intensity data: \n"
   ]
  },
  {
   "cell_type": "code",
   "execution_count": null,
   "id": "2458bb31",
   "metadata": {},
   "outputs": [],
   "source": [
    "photo = imread('fig/rose.jpg')\n",
    "\n",
    "fig, ax = subplots()\n",
    "\n",
    "ax.imshow(photo);\n",
    "\n",
    "show()"
   ]
  },
  {
   "cell_type": "markdown",
   "id": "6ca52a01",
   "metadata": {},
   "source": [
    "<img src=\"fig/02-section2-rendered-unnamed-chunk-11-11.png\" width=\"672\" style=\"display: block; margin: auto;\" />\n",
    "\n",
    "We will assume that the 'rose' in the picture contains the strongest red intensities. Let us therefore take a look at the histogram of the red channel.\n"
   ]
  },
  {
   "cell_type": "code",
   "execution_count": null,
   "id": "73df996f",
   "metadata": {},
   "outputs": [],
   "source": [
    "red = 0\n",
    "\n",
    "fig, ax, = subplots()\n",
    "\n",
    "ax.hist(photo[:, :, red].ravel(), bins=500);\n",
    "\n",
    "show()"
   ]
  },
  {
   "cell_type": "markdown",
   "id": "e597cb1f",
   "metadata": {},
   "source": [
    "<img src=\"fig/02-section2-rendered-unnamed-chunk-12-13.png\" width=\"672\" style=\"display: block; margin: auto;\" />\n",
    "\n",
    "Observing this histogram, we might suspect that intensities below 100 correspond to the background, and that the intensities above, for example, a value of 150 correspond to the rose. We can check this by filtering the intensities, accordingly.\n",
    "\n",
    "First, we must define a threshold and display the filtered histogram. It is easier if we assign the filter to a variable. We can call this variable `mask`.\n"
   ]
  },
  {
   "cell_type": "code",
   "execution_count": null,
   "id": "d6e3331e",
   "metadata": {},
   "outputs": [],
   "source": [
    "threshold = 100\n",
    "\n",
    "mask = photo[:, :, red] > threshold\n",
    "\n",
    "fig, ax, = subplots()\n",
    "\n",
    "ax.hist(photo[:, :, red][mask].ravel(), bins=500);\n",
    "\n",
    "show()"
   ]
  },
  {
   "cell_type": "markdown",
   "id": "ef18fea6",
   "metadata": {},
   "source": [
    "<img src=\"fig/02-section2-rendered-unnamed-chunk-13-15.png\" width=\"672\" style=\"display: block; margin: auto;\" />\n",
    "\n",
    "The mask gives us the values where red (and also yellow) parts of the photo are intense. We can thus use this information to turn the rest of the photograph to black. It is done with a function called `invert` which turns \"True\" to \"False\", and vice versa. \n",
    "\n",
    "Before we do that, let us create a copy such that the original remains intact, and we do not overwrite it.\n"
   ]
  },
  {
   "cell_type": "code",
   "execution_count": null,
   "id": "72b5e5c5",
   "metadata": {},
   "outputs": [],
   "source": [
    "from numpy import invert\n",
    "\n",
    "photo_copy = photo.copy()\n",
    "\n",
    "photo_copy[invert(mask), :] = 0\n",
    "\n",
    "\n",
    "fig, ax = subplots()\n",
    "\n",
    "ax.imshow(photo_copy);\n",
    "\n",
    "show()"
   ]
  },
  {
   "cell_type": "markdown",
   "id": "7fa7d53f",
   "metadata": {},
   "source": [
    "<img src=\"fig/02-section2-rendered-unnamed-chunk-14-17.png\" width=\"672\" style=\"display: block; margin: auto;\" />\n",
    "\n"
   ]
  },
  {
   "cell_type": "code",
   "execution_count": null,
   "id": "a64e0927",
   "metadata": {
    "lines_to_next_cell": 0
   },
   "outputs": [],
   "source": [
    "fig.savefig('fig/photo_copy.png', format='png')"
   ]
  },
  {
   "cell_type": "markdown",
   "id": "cc9c77f0",
   "metadata": {},
   "source": []
  },
  {
   "cell_type": "markdown",
   "id": "be404e3d",
   "metadata": {},
   "source": [
    "- `imread()` is a Matplotlib function to import images.\n",
    "- `ravel()` is a Numpy function to flatten multi-dimensional arrays to a one-dimensional array.\n",
    "- Masking refers to the selection or filtering of specified parts of an array by logical expression.\n",
    "\n",
    "[r-markdown]: https://rmarkdown.rstudio.com/"
   ]
  }
 ],
 "metadata": {
  "jupytext": {
   "cell_metadata_filter": "-all",
   "main_language": "python",
   "notebook_metadata_filter": "-all"
  }
 },
 "nbformat": 4,
 "nbformat_minor": 5
}
