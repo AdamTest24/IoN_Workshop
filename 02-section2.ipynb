{
 "cells": [
  {
   "cell_type": "raw",
   "id": "a4e32541",
   "metadata": {},
   "source": [
    "---\n",
    "title: \"Neuro-Image Handling\"\n",
    "teaching: 10\n",
    "exercises: 2\n",
    "---"
   ]
  },
  {
   "cell_type": "markdown",
   "id": "34f4bc48",
   "metadata": {},
   "source": [
    "\n",
    "- How an image is read in Python?\n",
    "- What does masking do?\n"
   ]
  },
  {
   "cell_type": "markdown",
   "id": "cecf3d37",
   "metadata": {},
   "source": [
    "- Explaining data in images\n",
    "- Understanding image masking "
   ]
  },
  {
   "cell_type": "markdown",
   "id": "0ec8c901",
   "metadata": {},
   "source": [
    "## Image Handling \n",
    "\n",
    "### Reading and Processing Images\n",
    "In biology, we often deal with images, for example from microscopy and different medical imaging modalities. In many cases, we wish to extract some quantitative information from these images. The focus of this session is to read and process images in Python. This includes:\n",
    "\n",
    "- Working with 2-dimensional images\n",
    "- Creating and applying binary image masks\n",
    "- Working with 2-dimensional colour images, and interpreting colour channels\n",
    "\n",
    "First, we want to read in an image. For this part of the lesson, we use a 2D image of brain part,Cerebellum, as an example. We use Matplotlib’s `image` module, from which we import `imread` to store the image in a variable called image. The function `imread` can interpret many different image formats, including jpg, png and tif images.\n",
    "\n",
    "\n"
   ]
  },
  {
   "cell_type": "code",
   "execution_count": null,
   "id": "9d593910",
   "metadata": {},
   "outputs": [],
   "source": [
    "from matplotlib.pyplot import subplots, show"
   ]
  },
  {
   "cell_type": "markdown",
   "id": "bccac595",
   "metadata": {},
   "source": [
    "```{.output}\n",
    "Matplotlib is building the font cache; this may take a moment.\n",
    "```"
   ]
  },
  {
   "cell_type": "code",
   "execution_count": null,
   "id": "6cb3ea8d",
   "metadata": {
    "lines_to_next_cell": 2
   },
   "outputs": [],
   "source": [
    "from matplotlib.image import imread"
   ]
  },
  {
   "cell_type": "code",
   "execution_count": null,
   "id": "5bce9d03",
   "metadata": {},
   "outputs": [],
   "source": [
    "image = imread('fig/Cerebellum.jpg')\n",
    "\n",
    "fig, ax = subplots()\n",
    "\n",
    "ax.imshow(image);\n",
    "\n",
    "show()"
   ]
  },
  {
   "cell_type": "markdown",
   "id": "b4c332e6",
   "metadata": {},
   "source": [
    "<img src=\"fig/02-section2-rendered-unnamed-chunk-2-1.png\" width=\"672\" style=\"display: block; margin: auto;\" />\n"
   ]
  },
  {
   "cell_type": "code",
   "execution_count": null,
   "id": "da575d48",
   "metadata": {},
   "outputs": [],
   "source": [
    "image.shape"
   ]
  },
  {
   "cell_type": "markdown",
   "id": "5f7d3b44",
   "metadata": {},
   "source": [
    "```{.output}\n",
    "(154, 327, 3)\n",
    "```\n",
    "\n",
    "This tells us that our image is composed of 154 by 327 data units, or pixels as we are dealing with an image. It is equivalent to the image resolution. The array has three dimensions.  \n"
   ]
  },
  {
   "cell_type": "code",
   "execution_count": null,
   "id": "55e6c61a",
   "metadata": {},
   "outputs": [],
   "source": [
    "image[0, 0]"
   ]
  },
  {
   "cell_type": "markdown",
   "id": "3a854f3f",
   "metadata": {},
   "source": [
    "```{.output}\n",
    "array([255, 255, 255], dtype=uint8)\n",
    "```\n",
    "\n",
    "The color intensities go up to 255. This is because RGB (red, green and blue) colours are defined within the range 0-255. \n",
    "\n",
    "Let us now use matplotlib.pyplot’s imshow function to plot the section of image to see what it looks like. The x and y coordinates are chosen to specify section of the image. \n"
   ]
  },
  {
   "cell_type": "code",
   "execution_count": null,
   "id": "2ee06a26",
   "metadata": {},
   "outputs": [],
   "source": [
    "fig, ax = subplots()\n",
    "\n",
    "ax.imshow(image[50:70, 60:100]);\n",
    "\n",
    "ax.set_xticklabels(());\n",
    "ax.set_yticklabels(());\n",
    "\n",
    "show()"
   ]
  },
  {
   "cell_type": "markdown",
   "id": "7e76beec",
   "metadata": {},
   "source": [
    "<img src=\"fig/02-section2-rendered-unnamed-chunk-5-3.png\" width=\"672\" style=\"display: block; margin: auto;\" />\n",
    "\n",
    "Each square is a pixel and it has one value. So how exactly are the pixel values assigned? By the numbers stored in the Numpy array, image.\n"
   ]
  },
  {
   "cell_type": "code",
   "execution_count": null,
   "id": "98393c25",
   "metadata": {},
   "outputs": [],
   "source": [
    "fig, ax = subplots()\n",
    "\n",
    "ax.imshow(image[:,:, 2], cmap='gray');\n",
    "\n",
    "ax.set_xticklabels(());\n",
    "ax.set_yticklabels(());\n",
    "\n",
    "show()"
   ]
  },
  {
   "cell_type": "markdown",
   "id": "afbbfb9f",
   "metadata": {},
   "source": [
    "<img src=\"fig/02-section2-rendered-unnamed-chunk-6-5.png\" width=\"672\" style=\"display: block; margin: auto;\" />\n",
    "\n",
    "Here we assigned a grey colour map."
   ]
  },
  {
   "cell_type": "markdown",
   "id": "6f5817b8",
   "metadata": {},
   "source": [
    "Now that we know that the images are composed of a set of intensities that are just numbers in a Numpy array, we can start using these numbers to process our image.\n",
    "\n",
    "As a first approach, we can plot a histogram of the original image intensities. We use the `.ravel()` method to turn the original 154 x 327 array into a one-dimensional array with 503,58 values. This rearrangement allows the inclusion of an image as a single column in a matrix or dataframe!\n",
    "\n",
    "The histogram plot shows how many of the intensities are found in one layer of this image:\n"
   ]
  },
  {
   "cell_type": "code",
   "execution_count": null,
   "id": "0619c946",
   "metadata": {},
   "outputs": [],
   "source": [
    "layer = 2\n",
    "\n",
    "fig, ax = subplots()\n",
    "\n",
    "ax.hist(image[:, :, layer][image[:, :, layer] < 255].ravel(), bins=500);\n",
    "\n",
    "show()"
   ]
  },
  {
   "cell_type": "markdown",
   "id": "96bd7583",
   "metadata": {},
   "source": [
    "<img src=\"fig/02-section2-rendered-unnamed-chunk-7-7.png\" width=\"672\" style=\"display: block; margin: auto;\" />\n"
   ]
  },
  {
   "cell_type": "code",
   "execution_count": null,
   "id": "36c1e0d4",
   "metadata": {},
   "outputs": [],
   "source": [
    "image.size"
   ]
  },
  {
   "cell_type": "markdown",
   "id": "8c0d322b",
   "metadata": {},
   "source": [
    "```{.output}\n",
    "151074\n",
    "```\n"
   ]
  },
  {
   "cell_type": "code",
   "execution_count": null,
   "id": "6dbcb443",
   "metadata": {},
   "outputs": [],
   "source": [
    "from PIL import Image\n",
    "\n",
    "image = Image.open('fig/Cerebellum.jpg')\n",
    "\n",
    "fig, ax = subplots()\n",
    "\n",
    "ax.imshow(image);\n",
    "\n",
    "show()"
   ]
  },
  {
   "cell_type": "markdown",
   "id": "74a55053",
   "metadata": {},
   "source": [
    "<img src=\"fig/02-section2-rendered-unnamed-chunk-9-9.png\" width=\"672\" style=\"display: block; margin: auto;\" />\n"
   ]
  },
  {
   "cell_type": "code",
   "execution_count": null,
   "id": "652d21c0",
   "metadata": {},
   "outputs": [],
   "source": [
    "type(image)"
   ]
  },
  {
   "cell_type": "markdown",
   "id": "5de936b4",
   "metadata": {},
   "source": [
    "```{.output}\n",
    "<class 'PIL.JpegImagePlugin.JpegImageFile'>\n",
    "```\n",
    "\n"
   ]
  },
  {
   "cell_type": "code",
   "execution_count": null,
   "id": "f7ca13fa",
   "metadata": {
    "lines_to_next_cell": 2
   },
   "outputs": [],
   "source": [
    "image.show()"
   ]
  },
  {
   "cell_type": "code",
   "execution_count": null,
   "id": "07835fbc",
   "metadata": {},
   "outputs": [],
   "source": [
    "image.entropy()"
   ]
  },
  {
   "cell_type": "markdown",
   "id": "bbbe4922",
   "metadata": {},
   "source": [
    "```{.output}\n",
    "5.594248793777234\n",
    "```\n"
   ]
  },
  {
   "cell_type": "code",
   "execution_count": null,
   "id": "401e89d7",
   "metadata": {},
   "outputs": [],
   "source": [
    "image.rotate(-90, expand=True)"
   ]
  },
  {
   "cell_type": "markdown",
   "id": "d7666dd6",
   "metadata": {},
   "source": [
    "```{.output}\n",
    "<PIL.Image.Image image mode=RGB size=154x327 at 0x7EFE0442FAC0>\n",
    "```\n",
    "\n",
    "## Image Masking\n",
    "\n"
   ]
  },
  {
   "cell_type": "code",
   "execution_count": null,
   "id": "f2c2a702",
   "metadata": {
    "lines_to_next_cell": 2
   },
   "outputs": [],
   "source": [
    "from matplotlib.image import imread\n",
    "from matplotlib.pyplot import subplots, show"
   ]
  },
  {
   "cell_type": "code",
   "execution_count": null,
   "id": "f82f3784",
   "metadata": {},
   "outputs": [],
   "source": [
    "image = imread('fig/rose.jpg')\n",
    "\n",
    "fig, ax = subplots()\n",
    "\n",
    "ax.imshow(image);\n",
    "\n",
    "show()"
   ]
  },
  {
   "cell_type": "markdown",
   "id": "d93218f7",
   "metadata": {},
   "source": [
    "<img src=\"fig/02-section2-rendered-unnamed-chunk-15-11.png\" width=\"672\" style=\"display: block; margin: auto;\" />\n",
    "\n",
    "### Transpose Image"
   ]
  },
  {
   "cell_type": "code",
   "execution_count": null,
   "id": "0a4f40bc",
   "metadata": {},
   "outputs": [],
   "source": [
    "image.shape"
   ]
  },
  {
   "cell_type": "markdown",
   "id": "0d77d366",
   "metadata": {},
   "source": [
    "```{.output}\n",
    "(3648, 2736, 3)\n",
    "```\n"
   ]
  },
  {
   "cell_type": "code",
   "execution_count": null,
   "id": "ce95984f",
   "metadata": {},
   "outputs": [],
   "source": [
    "image_t = image.transpose((1, 0, 2))\n",
    "\n",
    "fig, ax = subplots()\n",
    "\n",
    "ax.imshow(image_t)\n",
    "\n",
    "show()"
   ]
  },
  {
   "cell_type": "markdown",
   "id": "228f3e1b",
   "metadata": {},
   "source": [
    "<img src=\"fig/02-section2-rendered-unnamed-chunk-17-13.png\" width=\"672\" style=\"display: block; margin: auto;\" />\n",
    "\n",
    "### Only red Component\n"
   ]
  },
  {
   "cell_type": "code",
   "execution_count": null,
   "id": "992a30bd",
   "metadata": {},
   "outputs": [],
   "source": [
    "fig, ax = subplots()\n",
    "\n",
    "ax.imshow(image_t[:, :, 0]);\n",
    "\n",
    "show()"
   ]
  },
  {
   "cell_type": "markdown",
   "id": "afe9ff5c",
   "metadata": {},
   "source": [
    "<img src=\"fig/02-section2-rendered-unnamed-chunk-18-15.png\" width=\"672\" style=\"display: block; margin: auto;\" />\n",
    "\n",
    "### Histogram of Red Component\n"
   ]
  },
  {
   "cell_type": "code",
   "execution_count": null,
   "id": "f80a1563",
   "metadata": {},
   "outputs": [],
   "source": [
    "fig, ax, = subplots()\n",
    "\n",
    "ax.hist(image_t[:, :, 0].ravel(), bins=500);\n",
    "\n",
    "show()"
   ]
  },
  {
   "cell_type": "markdown",
   "id": "b128651c",
   "metadata": {},
   "source": [
    "<img src=\"fig/02-section2-rendered-unnamed-chunk-19-17.png\" width=\"672\" style=\"display: block; margin: auto;\" />\n",
    "\n",
    "### Masking the Red Component"
   ]
  },
  {
   "cell_type": "code",
   "execution_count": null,
   "id": "e6aa48c2",
   "metadata": {},
   "outputs": [],
   "source": [
    "threshold = 90\n",
    "\n",
    "mask = image_t[:, :, 0] < threshold\n",
    "\n",
    "image_masked = image_t[:, :, 0] * mask\n",
    "\n",
    "fig, ax = subplots(ncols=3)\n",
    "\n",
    "ax[0].imshow(image_t[:, :, 0], cmap='gray')\n",
    "ax[1].imshow(mask, cmap='gray')\n",
    "ax[2].imshow(image_masked, cmap='gray');\n",
    "\n",
    "fig.tight_layout()\n",
    "\n",
    "show()"
   ]
  },
  {
   "cell_type": "markdown",
   "id": "b3163b3b",
   "metadata": {},
   "source": [
    "<img src=\"fig/02-section2-rendered-unnamed-chunk-20-19.png\" width=\"672\" style=\"display: block; margin: auto;\" />\n",
    "\n",
    "### False Colour"
   ]
  },
  {
   "cell_type": "code",
   "execution_count": null,
   "id": "0a37ef81",
   "metadata": {},
   "outputs": [],
   "source": [
    "fig, ax = subplots()\n",
    "\n",
    "ax.imshow(image_masked);\n",
    "\n",
    "show()"
   ]
  },
  {
   "cell_type": "markdown",
   "id": "ae44c4df",
   "metadata": {},
   "source": [
    "<img src=\"fig/02-section2-rendered-unnamed-chunk-21-21.png\" width=\"672\" style=\"display: block; margin: auto;\" />\n",
    "\n",
    "### Apply mask to all layers\n",
    "Choose grey value for background\n"
   ]
  },
  {
   "cell_type": "code",
   "execution_count": null,
   "id": "b3ed0a5b",
   "metadata": {},
   "outputs": [],
   "source": [
    "image_new = image_t.copy()\n",
    "\n",
    "grey_value = 100\n",
    "\n",
    "image_new[mask, :] = grey_value\n",
    "\n",
    "\n",
    "fig, ax = subplots()\n",
    "\n",
    "ax.imshow(image_new);\n",
    "\n",
    "show()"
   ]
  },
  {
   "cell_type": "markdown",
   "id": "f4f84b94",
   "metadata": {},
   "source": [
    "<img src=\"fig/02-section2-rendered-unnamed-chunk-22-23.png\" width=\"672\" style=\"display: block; margin: auto;\" />\n"
   ]
  },
  {
   "cell_type": "code",
   "execution_count": null,
   "id": "1dbd24b3",
   "metadata": {
    "lines_to_next_cell": 0
   },
   "outputs": [],
   "source": [
    "fig.savefig('fig/rose_masked.png', format='png')"
   ]
  },
  {
   "cell_type": "markdown",
   "id": "82faf354",
   "metadata": {},
   "source": []
  },
  {
   "cell_type": "markdown",
   "id": "74be2ed0",
   "metadata": {},
   "source": [
    "- `imread` function is used to read images.\n",
    "- `ravel` function flattens a multi-dimentional array into a single array.\n",
    "- Image masking help in identifying objects based on colur intensities.\n",
    "\n",
    "[r-markdown]: https://rmarkdown.rstudio.com/"
   ]
  }
 ],
 "metadata": {
  "jupytext": {
   "cell_metadata_filter": "-all",
   "main_language": "python",
   "notebook_metadata_filter": "-all"
  }
 },
 "nbformat": 4,
 "nbformat_minor": 5
}
