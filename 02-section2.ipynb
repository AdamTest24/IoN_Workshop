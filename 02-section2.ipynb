{
 "cells": [
  {
   "cell_type": "raw",
   "id": "dba7f521",
   "metadata": {},
   "source": [
    "---\n",
    "title: \"Neuro-Image Handling\"\n",
    "teaching: 10\n",
    "exercises: 2\n",
    "---"
   ]
  },
  {
   "cell_type": "markdown",
   "id": "c0edf7f1",
   "metadata": {},
   "source": [
    "\n",
    "- How an image is read in Python?\n",
    "- What does masking do?\n"
   ]
  },
  {
   "cell_type": "markdown",
   "id": "94ff89c1",
   "metadata": {},
   "source": [
    "- Explaining data in images\n",
    "- Understanding image masking "
   ]
  },
  {
   "cell_type": "markdown",
   "id": "f22588d6",
   "metadata": {},
   "source": [
    "## Image Handling \n",
    "\n",
    "### Reading and Processing Images\n",
    "In biology, we often deal with images, for example from microscopy and different medical imaging modalities. In many cases, we wish to extract some quantitative information from these images. The focus of this session is to read and process images in Python. This includes:\n",
    "\n",
    "- Working with 2-dimensional images\n",
    "- Creating and applying binary image masks\n",
    "- Working with 2-dimensional colour images, and interpreting colour channels\n",
    "\n",
    "First, we want to read in an image. For this part of the lesson, we use a 2D image of brain part,Cerebellum, as an example. We use Matplotlib’s `image` module, from which we import `imread` to store the image in a variable called image. The function `imread` can interpret many different image formats, including jpg, png and tif images.\n",
    "\n",
    "\n"
   ]
  },
  {
   "cell_type": "code",
   "execution_count": null,
   "id": "56af98e7",
   "metadata": {
    "lines_to_next_cell": 2
   },
   "outputs": [],
   "source": [
    "from matplotlib.pyplot import subplots, show\n",
    "\n",
    "from matplotlib.image import imread"
   ]
  },
  {
   "cell_type": "code",
   "execution_count": null,
   "id": "6e64749d",
   "metadata": {},
   "outputs": [],
   "source": [
    "image = imread('fig/Cerebellum.jpg')\n",
    "\n",
    "fig, ax = subplots()\n",
    "\n",
    "ax.imshow(image);\n",
    "\n",
    "show()"
   ]
  },
  {
   "cell_type": "markdown",
   "id": "041c518e",
   "metadata": {},
   "source": [
    "<img src=\"fig/02-section2-rendered-unnamed-chunk-2-1.png\" width=\"672\" style=\"display: block; margin: auto;\" />\n"
   ]
  },
  {
   "cell_type": "code",
   "execution_count": null,
   "id": "a792fddf",
   "metadata": {},
   "outputs": [],
   "source": [
    "image.shape"
   ]
  },
  {
   "cell_type": "markdown",
   "id": "f185e1b7",
   "metadata": {},
   "source": [
    "```{.output}\n",
    "(154, 327, 3)\n",
    "```\n",
    "\n",
    "This tells us that our image is composed of 154 by 327 data units, or pixels as we are dealing with an image. It is equivalent to the image resolution. The array has three dimensions.  \n"
   ]
  },
  {
   "cell_type": "code",
   "execution_count": null,
   "id": "8bd5485e",
   "metadata": {},
   "outputs": [],
   "source": [
    "image[0, 0]"
   ]
  },
  {
   "cell_type": "markdown",
   "id": "9b0dc71b",
   "metadata": {},
   "source": [
    "```{.output}\n",
    "array([255, 255, 255], dtype=uint8)\n",
    "```\n",
    "\n",
    "The color intensities go up to 255. This is because RGB (red, green and blue) colours are defined within the range 0-255. \n",
    "\n",
    "Let us now use matplotlib.pyplot’s imshow function to plot the section of image to see what it looks like. The x and y coordinates are chosen to specify section of the image. \n"
   ]
  },
  {
   "cell_type": "code",
   "execution_count": null,
   "id": "34c1a311",
   "metadata": {},
   "outputs": [],
   "source": [
    "fig, ax = subplots()\n",
    "\n",
    "ax.imshow(image[50:70, 60:100]);\n",
    "\n",
    "ax.set_xticklabels(());\n",
    "ax.set_yticklabels(());\n",
    "\n",
    "show()"
   ]
  },
  {
   "cell_type": "markdown",
   "id": "3298db04",
   "metadata": {},
   "source": [
    "<img src=\"fig/02-section2-rendered-unnamed-chunk-5-3.png\" width=\"672\" style=\"display: block; margin: auto;\" />\n",
    "\n",
    "Each square is a pixel and it has one value. So how exactly are the pixel values assigned? By the numbers stored in the Numpy array, image.\n"
   ]
  },
  {
   "cell_type": "code",
   "execution_count": null,
   "id": "e78d8efc",
   "metadata": {},
   "outputs": [],
   "source": [
    "fig, ax = subplots()\n",
    "\n",
    "ax.imshow(image[:,:, 2], cmap='gray');\n",
    "\n",
    "ax.set_xticklabels(());\n",
    "ax.set_yticklabels(());\n",
    "\n",
    "show()"
   ]
  },
  {
   "cell_type": "markdown",
   "id": "bde3483d",
   "metadata": {},
   "source": [
    "<img src=\"fig/02-section2-rendered-unnamed-chunk-6-5.png\" width=\"672\" style=\"display: block; margin: auto;\" />\n",
    "\n",
    "Here we assigned a grey colour map."
   ]
  },
  {
   "cell_type": "markdown",
   "id": "ff43e876",
   "metadata": {},
   "source": [
    "Now that we know that the images are composed of a set of intensities that are just numbers in a Numpy array, we can start using these numbers to process our image.\n",
    "\n",
    "As a first approach, we can plot a histogram of the original image intensities. We use the `.ravel()` method to turn the original 154 x 327 array into a one-dimensional array with 503,58 values. This rearrangement allows the inclusion of an image as a single column in a matrix or dataframe!\n",
    "\n",
    "The histogram plot shows how many of the intensities are found in one layer of this image:\n"
   ]
  },
  {
   "cell_type": "code",
   "execution_count": null,
   "id": "7fbeccef",
   "metadata": {},
   "outputs": [],
   "source": [
    "layer = 2\n",
    "\n",
    "fig, ax = subplots()\n",
    "\n",
    "ax.hist(image[:, :, layer][image[:, :, layer] < 255].ravel(), bins=500);\n",
    "\n",
    "show()"
   ]
  },
  {
   "cell_type": "markdown",
   "id": "ff83cdd7",
   "metadata": {},
   "source": [
    "<img src=\"fig/02-section2-rendered-unnamed-chunk-7-7.png\" width=\"672\" style=\"display: block; margin: auto;\" />\n"
   ]
  },
  {
   "cell_type": "code",
   "execution_count": null,
   "id": "38d2c0a6",
   "metadata": {},
   "outputs": [],
   "source": [
    "image.size"
   ]
  },
  {
   "cell_type": "markdown",
   "id": "1ab62b8c",
   "metadata": {},
   "source": [
    "```{.output}\n",
    "151074\n",
    "```\n"
   ]
  },
  {
   "cell_type": "code",
   "execution_count": null,
   "id": "ab19a7d0",
   "metadata": {},
   "outputs": [],
   "source": [
    "from PIL import Image\n",
    "\n",
    "image = Image.open('fig/Cerebellum.jpg')\n",
    "\n",
    "fig, ax = subplots()\n",
    "\n",
    "ax.imshow(image);\n",
    "\n",
    "show()"
   ]
  },
  {
   "cell_type": "markdown",
   "id": "cb46be79",
   "metadata": {},
   "source": [
    "<img src=\"fig/02-section2-rendered-unnamed-chunk-9-9.png\" width=\"672\" style=\"display: block; margin: auto;\" />\n"
   ]
  },
  {
   "cell_type": "code",
   "execution_count": null,
   "id": "a16318da",
   "metadata": {},
   "outputs": [],
   "source": [
    "type(image)"
   ]
  },
  {
   "cell_type": "markdown",
   "id": "9e2a1e93",
   "metadata": {},
   "source": [
    "```{.output}\n",
    "<class 'PIL.JpegImagePlugin.JpegImageFile'>\n",
    "```\n",
    "\n"
   ]
  },
  {
   "cell_type": "code",
   "execution_count": null,
   "id": "33b6c7e1",
   "metadata": {
    "lines_to_next_cell": 2
   },
   "outputs": [],
   "source": [
    "image.show()"
   ]
  },
  {
   "cell_type": "code",
   "execution_count": null,
   "id": "abe08034",
   "metadata": {},
   "outputs": [],
   "source": [
    "image.entropy()"
   ]
  },
  {
   "cell_type": "markdown",
   "id": "7c689782",
   "metadata": {},
   "source": [
    "```{.output}\n",
    "5.594248793777234\n",
    "```\n"
   ]
  },
  {
   "cell_type": "code",
   "execution_count": null,
   "id": "f710c210",
   "metadata": {},
   "outputs": [],
   "source": [
    "image.rotate(-90, expand=True)"
   ]
  },
  {
   "cell_type": "markdown",
   "id": "ab1e92e2",
   "metadata": {},
   "source": [
    "```{.output}\n",
    "<PIL.Image.Image image mode=RGB size=154x327 at 0x7F5868598940>\n",
    "```\n",
    "\n",
    "## Image Masking\n",
    "\n"
   ]
  },
  {
   "cell_type": "code",
   "execution_count": null,
   "id": "c70b4322",
   "metadata": {
    "lines_to_next_cell": 2
   },
   "outputs": [],
   "source": [
    "from matplotlib.image import imread\n",
    "from matplotlib.pyplot import subplots, show"
   ]
  },
  {
   "cell_type": "code",
   "execution_count": null,
   "id": "25b4cbcc",
   "metadata": {},
   "outputs": [],
   "source": [
    "image = imread('fig/rose.jpg')\n",
    "\n",
    "fig, ax = subplots()\n",
    "\n",
    "ax.imshow(image);\n",
    "\n",
    "show()"
   ]
  },
  {
   "cell_type": "markdown",
   "id": "9f21e0af",
   "metadata": {},
   "source": [
    "<img src=\"fig/02-section2-rendered-unnamed-chunk-15-11.png\" width=\"672\" style=\"display: block; margin: auto;\" />\n",
    "\n",
    "### Transpose Image"
   ]
  },
  {
   "cell_type": "code",
   "execution_count": null,
   "id": "158e9895",
   "metadata": {},
   "outputs": [],
   "source": [
    "image.shape"
   ]
  },
  {
   "cell_type": "markdown",
   "id": "ad1eaa6d",
   "metadata": {},
   "source": [
    "```{.output}\n",
    "(3648, 2736, 3)\n",
    "```\n"
   ]
  },
  {
   "cell_type": "code",
   "execution_count": null,
   "id": "c47a5a27",
   "metadata": {},
   "outputs": [],
   "source": [
    "image_t = image.transpose((1, 0, 2))\n",
    "\n",
    "fig, ax = subplots()\n",
    "\n",
    "ax.imshow(image_t)\n",
    "\n",
    "show()"
   ]
  },
  {
   "cell_type": "markdown",
   "id": "06672c5c",
   "metadata": {},
   "source": [
    "<img src=\"fig/02-section2-rendered-unnamed-chunk-17-13.png\" width=\"672\" style=\"display: block; margin: auto;\" />\n",
    "\n",
    "### Only red Component\n"
   ]
  },
  {
   "cell_type": "code",
   "execution_count": null,
   "id": "4f3f1584",
   "metadata": {},
   "outputs": [],
   "source": [
    "fig, ax = subplots()\n",
    "\n",
    "ax.imshow(image_t[:, :, 0]);\n",
    "\n",
    "show()"
   ]
  },
  {
   "cell_type": "markdown",
   "id": "93408a93",
   "metadata": {},
   "source": [
    "<img src=\"fig/02-section2-rendered-unnamed-chunk-18-15.png\" width=\"672\" style=\"display: block; margin: auto;\" />\n",
    "\n",
    "### Histogram of Red Component\n"
   ]
  },
  {
   "cell_type": "code",
   "execution_count": null,
   "id": "216c8058",
   "metadata": {},
   "outputs": [],
   "source": [
    "fig, ax, = subplots()\n",
    "\n",
    "ax.hist(image_t[:, :, 0].ravel(), bins=500);\n",
    "\n",
    "show()"
   ]
  },
  {
   "cell_type": "markdown",
   "id": "f7783f33",
   "metadata": {},
   "source": [
    "<img src=\"fig/02-section2-rendered-unnamed-chunk-19-17.png\" width=\"672\" style=\"display: block; margin: auto;\" />\n",
    "\n",
    "### Masking the Red Component"
   ]
  },
  {
   "cell_type": "code",
   "execution_count": null,
   "id": "2c951294",
   "metadata": {},
   "outputs": [],
   "source": [
    "threshold = 90\n",
    "\n",
    "mask = image_t[:, :, 0] < threshold\n",
    "\n",
    "image_masked = image_t[:, :, 0] * mask\n",
    "\n",
    "fig, ax = subplots(ncols=3)\n",
    "\n",
    "ax[0].imshow(image_t[:, :, 0], cmap='gray')\n",
    "ax[1].imshow(mask, cmap='gray')\n",
    "ax[2].imshow(image_masked, cmap='gray');\n",
    "\n",
    "fig.tight_layout()\n",
    "\n",
    "show()"
   ]
  },
  {
   "cell_type": "markdown",
   "id": "81a865a1",
   "metadata": {},
   "source": [
    "<img src=\"fig/02-section2-rendered-unnamed-chunk-20-19.png\" width=\"672\" style=\"display: block; margin: auto;\" />\n",
    "\n",
    "### False Colour"
   ]
  },
  {
   "cell_type": "code",
   "execution_count": null,
   "id": "1d496b40",
   "metadata": {},
   "outputs": [],
   "source": [
    "fig, ax = subplots()\n",
    "\n",
    "ax.imshow(image_masked);\n",
    "\n",
    "show()"
   ]
  },
  {
   "cell_type": "markdown",
   "id": "0dcafb33",
   "metadata": {},
   "source": [
    "<img src=\"fig/02-section2-rendered-unnamed-chunk-21-21.png\" width=\"672\" style=\"display: block; margin: auto;\" />\n",
    "\n",
    "### Apply mask to all layers\n",
    "Choose grey value for background\n"
   ]
  },
  {
   "cell_type": "code",
   "execution_count": null,
   "id": "509c7a44",
   "metadata": {},
   "outputs": [],
   "source": [
    "image_new = image_t.copy()\n",
    "\n",
    "grey_value = 100\n",
    "\n",
    "image_new[mask, :] = grey_value\n",
    "\n",
    "\n",
    "fig, ax = subplots()\n",
    "\n",
    "ax.imshow(image_new);\n",
    "\n",
    "show()"
   ]
  },
  {
   "cell_type": "markdown",
   "id": "a89e8d14",
   "metadata": {},
   "source": [
    "<img src=\"fig/02-section2-rendered-unnamed-chunk-22-23.png\" width=\"672\" style=\"display: block; margin: auto;\" />\n"
   ]
  },
  {
   "cell_type": "code",
   "execution_count": null,
   "id": "87836861",
   "metadata": {
    "lines_to_next_cell": 0
   },
   "outputs": [],
   "source": [
    "fig.savefig('fig/rose_masked.png', format='png')"
   ]
  },
  {
   "cell_type": "markdown",
   "id": "c7b4dca6",
   "metadata": {},
   "source": []
  },
  {
   "cell_type": "markdown",
   "id": "660b7c57",
   "metadata": {},
   "source": [
    "- `imread` function is used to read images.\n",
    "- `ravel` function flattens a multi-dimentional array into a single array.\n",
    "- Image masking help in identifying objects based on colur intensities.\n",
    "\n",
    "[r-markdown]: https://rmarkdown.rstudio.com/"
   ]
  }
 ],
 "metadata": {
  "jupytext": {
   "cell_metadata_filter": "-all",
   "main_language": "python",
   "notebook_metadata_filter": "-all"
  }
 },
 "nbformat": 4,
 "nbformat_minor": 5
}
