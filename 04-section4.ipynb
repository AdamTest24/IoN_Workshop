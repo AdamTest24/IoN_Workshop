{
 "cells": [
  {
   "cell_type": "raw",
   "id": "493e2d0b",
   "metadata": {},
   "source": [
    "---\n",
    "title: \"Network Neuroscience\"\n",
    "teaching: 10\n",
    "exercises: 2\n",
    "---"
   ]
  },
  {
   "cell_type": "markdown",
   "id": "340beb58",
   "metadata": {},
   "source": [
    "\n",
    "- \n",
    "-\n",
    "-\n"
   ]
  },
  {
   "cell_type": "markdown",
   "id": "01c7a7d8",
   "metadata": {},
   "source": [
    "-\n",
    "-\n",
    "-\n",
    "\n",
    "## Neuron Network\n",
    "\n",
    "\n"
   ]
  },
  {
   "cell_type": "code",
   "execution_count": null,
   "id": "341a34a7",
   "metadata": {},
   "outputs": [],
   "source": [
    "import networkx as nx"
   ]
  },
  {
   "cell_type": "markdown",
   "id": "1c2b4af3",
   "metadata": {},
   "source": [
    "```{.error}\n",
    "Error: ModuleNotFoundError: No module named 'networkx'\n",
    "```"
   ]
  },
  {
   "cell_type": "code",
   "execution_count": null,
   "id": "abe9c832",
   "metadata": {},
   "outputs": [],
   "source": [
    "from pandas import read_csv\n",
    "\n",
    "from matplotlib.pyplot import subplots, show "
   ]
  },
  {
   "cell_type": "markdown",
   "id": "f73ef130",
   "metadata": {},
   "source": [
    "### The C elegans Neuron Network\n",
    "#### Data Import\n",
    "\n",
    "[Introduction to C elegans neurons](http://www.wormbook.org/chapters/www_celegansintro/celegansintro.html#sec5.4)\n",
    "\n",
    "[C elegans neurons in the worm atlas](https://www.wormatlas.org/hermaphrodite/nervous/Neuroframeset.html)\n",
    "\n",
    "Import the connectivity matrix.\n"
   ]
  },
  {
   "cell_type": "code",
   "execution_count": null,
   "id": "7ef3ca80",
   "metadata": {},
   "outputs": [],
   "source": [
    "data = read_csv('data/celegans131matrix_50.csv', header=None, dtype = \"int\")\n",
    "\n",
    "neurons = data.to_numpy()\n",
    "\n",
    "print(len(neurons))"
   ]
  },
  {
   "cell_type": "markdown",
   "id": "2abe6877",
   "metadata": {},
   "source": [
    "```{.output}\n",
    "50\n",
    "```\n"
   ]
  },
  {
   "cell_type": "code",
   "execution_count": null,
   "id": "151ec014",
   "metadata": {},
   "outputs": [],
   "source": [
    "fig, ax = subplots()\n",
    "\n",
    "ax.imshow(neurons);\n",
    "\n",
    "show()"
   ]
  },
  {
   "cell_type": "markdown",
   "id": "0ff30095",
   "metadata": {},
   "source": [
    "<img src=\"fig/04-section4-rendered-unnamed-chunk-3-1.png\" width=\"672\" style=\"display: block; margin: auto;\" />\n",
    "\n",
    "Import the labels and convert the resulting dataframe into a dictionary. The function `to_dict` wraps the dictionary within a dictionary and therefore indexing is used to access the 'inner' dict.\n"
   ]
  },
  {
   "cell_type": "code",
   "execution_count": null,
   "id": "45272b4a",
   "metadata": {},
   "outputs": [],
   "source": [
    "neuron_Names = read_csv('data/celegans131labels_50.csv', header=None)\n",
    "\n",
    "neuronNames = neuron_Names.to_dict()\n",
    "\n",
    "neuronLabels = neuronNames[0]\n",
    "\n",
    "print(neuronLabels)"
   ]
  },
  {
   "cell_type": "markdown",
   "id": "917d887c",
   "metadata": {},
   "source": [
    "```{.output}\n",
    "{0: 'ADFL', 1: 'ADFR', 2: 'ADLL', 3: 'ADLR', 4: 'AFDL', 5: 'AFDR', 6: 'AIAL', 7: 'AIAR', 8: 'AIBR', 9: 'AINL', 10: 'AINR', 11: 'AIZL', 12: 'AIZR', 13: 'ALA', 14: 'ASEL', 15: 'ASER', 16: 'ASGL', 17: 'ASGR', 18: 'ASHL', 19: 'ASHR', 20: 'ASIL', 21: 'ASIR', 22: 'ASJL', 23: 'ASJR', 24: 'ASKL', 25: 'ASKR', 26: 'AUAL', 27: 'AUAR', 28: 'AVAL', 29: 'AVAR', 30: 'AVBL', 31: 'AVBR', 32: 'AVDL', 33: 'AVDR', 34: 'AVEL', 35: 'AVER', 36: 'AVHL', 37: 'AVHR', 38: 'AVJL', 39: 'AVJR', 40: 'AVL', 41: 'AWAL', 42: 'AWAR', 43: 'AWBL', 44: 'AWBR', 45: 'AWCL', 46: 'AWCR', 47: 'BAGL', 48: 'BAGR', 49: 'CEPDL'}\n",
    "```\n",
    "\n",
    "### Graph Object and Network Display\n",
    "The connectivity matrix can be converted to a Networkx graph.\n"
   ]
  },
  {
   "cell_type": "code",
   "execution_count": null,
   "id": "b04f1c7c",
   "metadata": {},
   "outputs": [],
   "source": [
    "neuronGraph  = nx.from_numpy_matrix(neurons, \n",
    "                                    create_using=nx.DiGraph)   "
   ]
  },
  {
   "cell_type": "markdown",
   "id": "b1bce4a9",
   "metadata": {},
   "source": [
    "```{.error}\n",
    "Error: NameError: name 'nx' is not defined\n",
    "```"
   ]
  },
  {
   "cell_type": "code",
   "execution_count": null,
   "id": "f99d6a00",
   "metadata": {},
   "outputs": [],
   "source": [
    "neuronLayout = nx.random_layout(neuronGraph, seed=12)"
   ]
  },
  {
   "cell_type": "markdown",
   "id": "2afa7f9e",
   "metadata": {},
   "source": [
    "```{.error}\n",
    "Error: NameError: name 'nx' is not defined\n",
    "```"
   ]
  },
  {
   "cell_type": "code",
   "execution_count": null,
   "id": "14fcf36b",
   "metadata": {},
   "outputs": [],
   "source": [
    "nx.draw_networkx(neuronGraph, neuronLayout, \n",
    "        node_size=1000,\n",
    "        labels=neuronLabels)\n",
    "        "
   ]
  },
  {
   "cell_type": "markdown",
   "id": "93c7cf1a",
   "metadata": {},
   "source": [
    "```{.error}\n",
    "Error: NameError: name 'nx' is not defined\n",
    "```\n",
    "\n",
    "View the degrees:\n"
   ]
  },
  {
   "cell_type": "code",
   "execution_count": null,
   "id": "4bd3bfec",
   "metadata": {},
   "outputs": [],
   "source": [
    "fig, ax = subplots()\n",
    "\n",
    "ax.plot(dict(neuronGraph.degree).values(), '-o');"
   ]
  },
  {
   "cell_type": "markdown",
   "id": "1b094944",
   "metadata": {},
   "source": [
    "```{.error}\n",
    "Error: NameError: name 'neuronGraph' is not defined\n",
    "```"
   ]
  },
  {
   "cell_type": "code",
   "execution_count": null,
   "id": "a1c67803",
   "metadata": {},
   "outputs": [],
   "source": [
    "ax.set_xlabel('Index');\n",
    "ax.set_ylabel('Degree');\n",
    "\n",
    "show()"
   ]
  },
  {
   "cell_type": "markdown",
   "id": "c055fc50",
   "metadata": {},
   "source": [
    "<img src=\"fig/04-section4-rendered-unnamed-chunk-6-3.png\" width=\"672\" style=\"display: block; margin: auto;\" />\n",
    "\n",
    "The network displayed in circular layout:\n"
   ]
  },
  {
   "cell_type": "code",
   "execution_count": null,
   "id": "60d3c36e",
   "metadata": {},
   "outputs": [],
   "source": [
    "neuronGraph  = nx.from_numpy_matrix(neurons, \n",
    "                                    create_using=nx.DiGraph)   "
   ]
  },
  {
   "cell_type": "markdown",
   "id": "c382f6ac",
   "metadata": {},
   "source": [
    "```{.error}\n",
    "Error: NameError: name 'nx' is not defined\n",
    "```"
   ]
  },
  {
   "cell_type": "code",
   "execution_count": null,
   "id": "4292ecae",
   "metadata": {},
   "outputs": [],
   "source": [
    "neuronLayout = nx.circular_layout(neuronGraph)"
   ]
  },
  {
   "cell_type": "markdown",
   "id": "ec935918",
   "metadata": {},
   "source": [
    "```{.error}\n",
    "Error: NameError: name 'nx' is not defined\n",
    "```"
   ]
  },
  {
   "cell_type": "code",
   "execution_count": null,
   "id": "f2374f93",
   "metadata": {},
   "outputs": [],
   "source": [
    "nx.draw_networkx(neuronGraph, neuronLayout, \n",
    "        node_size=1000,\n",
    "        labels=neuronLabels)\n",
    "        "
   ]
  },
  {
   "cell_type": "markdown",
   "id": "21f4d3a5",
   "metadata": {},
   "source": [
    "```{.error}\n",
    "Error: NameError: name 'nx' is not defined\n",
    "```"
   ]
  },
  {
   "cell_type": "code",
   "execution_count": null,
   "id": "2825c814",
   "metadata": {},
   "outputs": [],
   "source": [
    "show()        "
   ]
  },
  {
   "cell_type": "markdown",
   "id": "f0bbb67e",
   "metadata": {},
   "source": [
    "<img src=\"fig/04-section4-rendered-unnamed-chunk-7-5.png\" width=\"672\" style=\"display: block; margin: auto;\" />\n",
    "\n",
    "Find node indices:\n",
    "The two BAG nodes 'BAGR' and 'BAGL' of the display (about 4 o'clock).\n"
   ]
  },
  {
   "cell_type": "code",
   "execution_count": null,
   "id": "f80418ad",
   "metadata": {},
   "outputs": [],
   "source": [
    "for index, name in enumerate(neuronLabels.values()):\n",
    "    \n",
    "    if 'BAG' in name:\n",
    "        \n",
    "        print(neuronLabels[index], index)"
   ]
  },
  {
   "cell_type": "markdown",
   "id": "315537b4",
   "metadata": {},
   "source": [
    "```{.output}\n",
    "BAGL 47\n",
    "BAGR 48\n",
    "```\n",
    "\n",
    "## Anatomical Mapping\n",
    "\n",
    "File 'celegans131positions_50.csv' contains information on how the nodes relate to each other in 2-D space. We can include this information to replace the layout.\n"
   ]
  },
  {
   "cell_type": "code",
   "execution_count": null,
   "id": "dcf87232",
   "metadata": {},
   "outputs": [],
   "source": [
    "neuronPos = read_csv('data/celegans131positions_50.csv', header=None)\n",
    "\n",
    "neuronPos.items"
   ]
  },
  {
   "cell_type": "markdown",
   "id": "c83e450e",
   "metadata": {},
   "source": [
    "```{.output}\n",
    "<bound method DataFrame.items of            0         1\n",
    "0   0.082393 -0.000984\n",
    "1   0.083279 -0.003184\n",
    "2   0.082639 -0.013035\n",
    "3   0.083279 -0.011512\n",
    "4   0.086329 -0.002706\n",
    "5   0.086463 -0.000980\n",
    "6   0.065177  0.009346\n",
    "7   0.059030  0.011512\n",
    "8   0.075441  0.006123\n",
    "9   0.061980 -0.006149\n",
    "10  0.061969 -0.003429\n",
    "11  0.048698  0.002706\n",
    "12  0.057560  0.003184\n",
    "13  0.094056 -0.013227\n",
    "14  0.069112  0.000492\n",
    "15  0.071767 -0.000735\n",
    "16  0.077966 -0.007625\n",
    "17  0.080095 -0.010287\n",
    "18  0.075507  0.000492\n",
    "19  0.078380 -0.000980\n",
    "20  0.076982 -0.012789\n",
    "21  0.077156 -0.011757\n",
    "22  0.063455  0.006641\n",
    "23  0.062704  0.009063\n",
    "24  0.088542 -0.010084\n",
    "25  0.088668 -0.009553\n",
    "26  0.068620  0.006149\n",
    "27  0.067113  0.005389\n",
    "28  0.089526  0.001722\n",
    "29  0.090872 -0.000245\n",
    "30  0.069112 -0.004427\n",
    "31  0.071767 -0.006368\n",
    "32  0.061734 -0.001476\n",
    "33  0.066378 -0.001470\n",
    "34  0.082885  0.002214\n",
    "35  0.084014  0.003184\n",
    "36  0.072063 -0.008608\n",
    "37  0.076421 -0.012737\n",
    "38  0.067636 -0.009346\n",
    "39  0.072992 -0.009798\n",
    "40  0.060990  0.009063\n",
    "41  0.077966 -0.002951\n",
    "42  0.078380 -0.005389\n",
    "43  0.079196 -0.003935\n",
    "44  0.082789 -0.006858\n",
    "45  0.078458  0.004919\n",
    "46  0.078625  0.004164\n",
    "47  0.112890  0.000492\n",
    "48  0.114630  0.003184\n",
    "49  0.094199 -0.016233>\n",
    "```\n"
   ]
  },
  {
   "cell_type": "code",
   "execution_count": null,
   "id": "1981ee59",
   "metadata": {},
   "outputs": [],
   "source": [
    "nx.draw_networkx(neuronGraph, neuronPos.values,\n",
    "        node_size=1000,\n",
    "        labels=neuronLabels)"
   ]
  },
  {
   "cell_type": "markdown",
   "id": "2f564808",
   "metadata": {},
   "source": [
    "```{.error}\n",
    "Error: NameError: name 'nx' is not defined\n",
    "```"
   ]
  },
  {
   "cell_type": "code",
   "execution_count": null,
   "id": "c86008b7",
   "metadata": {},
   "outputs": [],
   "source": [
    "show()"
   ]
  },
  {
   "cell_type": "markdown",
   "id": "d27044cd",
   "metadata": {},
   "source": [
    "<img src=\"fig/04-section4-rendered-unnamed-chunk-10-7.png\" width=\"672\" style=\"display: block; margin: auto;\" />\n",
    "\n"
   ]
  },
  {
   "cell_type": "code",
   "execution_count": null,
   "id": "8dbf1702",
   "metadata": {},
   "outputs": [],
   "source": [
    "new_pos = neuronPos.copy()\n",
    "new_pos.values[:, 0] = -1*neuronPos.values[:, 0]\n",
    "\n",
    "nx.draw_networkx(neuronGraph, new_pos.values,\n",
    "        node_size=1000,\n",
    "        labels=neuronLabels)"
   ]
  },
  {
   "cell_type": "markdown",
   "id": "7ff0caf1",
   "metadata": {},
   "source": [
    "```{.error}\n",
    "Error: NameError: name 'nx' is not defined\n",
    "```"
   ]
  },
  {
   "cell_type": "code",
   "execution_count": null,
   "id": "04428aaa",
   "metadata": {},
   "outputs": [],
   "source": [
    "show()        "
   ]
  },
  {
   "cell_type": "markdown",
   "id": "cd8231c4",
   "metadata": {},
   "source": [
    "<img src=\"fig/04-section4-rendered-unnamed-chunk-11-9.png\" width=\"672\" style=\"display: block; margin: auto;\" />\n",
    "\n",
    "The two BAG nodes to the right of the display are the [sensory neurons used to monitor oxygen and carbon dioxide](https://www.wormatlas.org/neurons/Individual%20Neurons/BAGframeset.html).\n",
    "\n",
    "Here is some background:\n",
    "[BAG genes, functions and connections](http://wormweb.org/neuralnet#c=BAG&m=1)\n",
    "\n",
    "The graph display is in Matplotlib and can be handled as such. E.g. for possible Node shapes see:\n",
    "https://matplotlib.org/stable/api/markers_api.html#module-matplotlib.markers. \n",
    "\n",
    "If you have a multi-panel figure, specify the axes for the network with keyword argument `ax`:\n"
   ]
  },
  {
   "cell_type": "code",
   "execution_count": null,
   "id": "17ac7d3e",
   "metadata": {},
   "outputs": [],
   "source": [
    "fig, ax = subplots(figsize=(14, 8), ncols=2)\n",
    "\n",
    "nx.draw_networkx(neuronGraph, neuronLayout, \n",
    "        node_size=1000,\n",
    "        labels=neuronLabels,\n",
    "        ax=ax[0])"
   ]
  },
  {
   "cell_type": "markdown",
   "id": "5d47c3e4",
   "metadata": {},
   "source": [
    "```{.error}\n",
    "Error: NameError: name 'nx' is not defined\n",
    "```"
   ]
  },
  {
   "cell_type": "code",
   "execution_count": null,
   "id": "da275cc7",
   "metadata": {},
   "outputs": [],
   "source": [
    "nx.draw_networkx(neuronGraph, neuronPos.values,\n",
    "        node_shape='H',\n",
    "        node_color='tomato',\n",
    "        node_size=1300,\n",
    "        labels=neuronLabels,\n",
    "        ax=ax[1])"
   ]
  },
  {
   "cell_type": "markdown",
   "id": "a1a8e91a",
   "metadata": {},
   "source": [
    "```{.error}\n",
    "Error: NameError: name 'nx' is not defined\n",
    "```"
   ]
  },
  {
   "cell_type": "code",
   "execution_count": null,
   "id": "4ac2bd46",
   "metadata": {},
   "outputs": [],
   "source": [
    "ax[0].set_title('Circular view of C elegans network');\n",
    "ax[1].set_title('Anatomical view of C elegans network');\n",
    "\n",
    "show()"
   ]
  },
  {
   "cell_type": "markdown",
   "id": "7507012d",
   "metadata": {},
   "source": [
    "<img src=\"fig/04-section4-rendered-unnamed-chunk-12-11.png\" width=\"1344\" style=\"display: block; margin: auto;\" />"
   ]
  },
  {
   "cell_type": "markdown",
   "id": "02f008b7",
   "metadata": {},
   "source": [
    "-\n",
    "-\n",
    "-\n",
    "\n",
    "[r-markdown]: https://rmarkdown.rstudio.com/"
   ]
  }
 ],
 "metadata": {
  "jupytext": {
   "cell_metadata_filter": "-all",
   "main_language": "python",
   "notebook_metadata_filter": "-all"
  }
 },
 "nbformat": 4,
 "nbformat_minor": 5
}
