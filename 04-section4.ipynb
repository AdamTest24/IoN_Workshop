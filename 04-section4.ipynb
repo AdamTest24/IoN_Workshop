{
 "cells": [
  {
   "cell_type": "raw",
   "id": "a6c258b2",
   "metadata": {},
   "source": [
    "---\n",
    "title: \"Network Neuroscience\"\n",
    "teaching: 10\n",
    "exercises: 2\n",
    "---"
   ]
  },
  {
   "cell_type": "markdown",
   "id": "7a120eb3",
   "metadata": {},
   "source": [
    "[**Download Chapter notebook (ipynb)**](04-section4.ipynb)"
   ]
  },
  {
   "cell_type": "markdown",
   "id": "0c7e654e",
   "metadata": {},
   "source": [
    "- How are graphs represented?\n",
    "- How are graphs visualised?\n",
    "- How can graphs be quantitatively analysed?\n"
   ]
  },
  {
   "cell_type": "markdown",
   "id": "6ded603f",
   "metadata": {},
   "source": [
    "- Understanding the notion of a graph\n",
    "- Explaining nodes and edges of a network\n",
    "- Visualising graphs in different layouts"
   ]
  },
  {
   "cell_type": "markdown",
   "id": "633174eb",
   "metadata": {},
   "source": [
    "## Introduction to Networks\n",
    "\n",
    "In this lesson, we will build and represent networks in Python using __NetworkX__ package.\n",
    "\n",
    "NetworkX is a Python package for the creation, manipulation, and study of the structure, dynamics, and functions of complex networks.\n",
    "\n",
    "To use NetworkX and visualise your networks, you can import the whole package.\n",
    "\n",
    "\n"
   ]
  },
  {
   "cell_type": "code",
   "execution_count": null,
   "id": "a00b834f",
   "metadata": {},
   "outputs": [],
   "source": [
    "import networkx as nx"
   ]
  },
  {
   "cell_type": "markdown",
   "id": "214469ff",
   "metadata": {},
   "source": [
    "### **Nodes and Edges**\n",
    "\n",
    "Nodes are the fundamental units of a network. They are linked to other nodes by edges, which show the way(s) in which the nodes are connected or related to one another. In principle, any object, person, cell or brain region can be a node.\n",
    "\n",
    "The goal of network science is to obtain a representation of connections or interactions between nodes, by using graphs. \n",
    "\n",
    "Let’s start by creating an empty graph object, and adding some nodes to it.\n"
   ]
  },
  {
   "cell_type": "code",
   "execution_count": null,
   "id": "ab337e58",
   "metadata": {},
   "outputs": [],
   "source": [
    "firstGraph = nx.Graph()\n",
    "\n",
    "firstGraph.add_node('Node A')\n",
    "firstGraph.add_node('Node B')\n",
    "firstGraph.add_node('Node C')\n",
    "\n",
    "print(firstGraph.nodes)"
   ]
  },
  {
   "cell_type": "markdown",
   "id": "516cd975",
   "metadata": {},
   "source": [
    "```{.output}\n",
    "['Node A', 'Node B', 'Node C']\n",
    "```\n",
    "\n",
    "We have created a graph called firstGraph, added three nodes, and then printed a list of the nodes in this graph. So far, these nodes have no relationship to each other. To specify relationships (representing e.g. interactions) we can add edges to show how the nodes are connected.\n"
   ]
  },
  {
   "cell_type": "code",
   "execution_count": null,
   "id": "1e804241",
   "metadata": {},
   "outputs": [],
   "source": [
    "firstGraph.add_edge('Node A', 'Node B')\n",
    "firstGraph.add_edge('Node A', 'Node C')\n",
    "firstGraph.add_edge('Node B', 'Node C')\n",
    "\n",
    "print(firstGraph.edges)"
   ]
  },
  {
   "cell_type": "markdown",
   "id": "8f715c72",
   "metadata": {},
   "source": [
    "```{.output}\n",
    "[('Node A', 'Node B'), ('Node A', 'Node C'), ('Node B', 'Node C')]\n",
    "```\n",
    "\n",
    "Here we created edges between Nodes A and B, A and C, and B and C, and printed a list of these edges. At this stage, our graph has three nodes and three edges. \n",
    "\n",
    "### **Visualising networks**\n",
    "\n",
    "Using the basic graph (firstGraph) that we created, we can begin by visualising it. In NetworkX, we can use function `draw_networkx`.\n"
   ]
  },
  {
   "cell_type": "code",
   "execution_count": null,
   "id": "fd140716",
   "metadata": {},
   "outputs": [],
   "source": [
    "from matplotlib.pyplot import show\n",
    "\n",
    "nx.draw_networkx(firstGraph)\n",
    "\n",
    "show()"
   ]
  },
  {
   "cell_type": "markdown",
   "id": "4e562f6c",
   "metadata": {},
   "source": [
    "<img src=\"fig/04-section4-rendered-unnamed-chunk-4-1.png\" width=\"672\" style=\"display: block; margin: auto;\" />\n",
    "\n",
    "To change the size and the colour of the node symbols:\n"
   ]
  },
  {
   "cell_type": "code",
   "execution_count": null,
   "id": "77afc819",
   "metadata": {},
   "outputs": [],
   "source": [
    "nx.draw_networkx(firstGraph, node_size=2000, node_color='r')\n",
    "\n",
    "show()"
   ]
  },
  {
   "cell_type": "markdown",
   "id": "2ead325c",
   "metadata": {},
   "source": [
    "<img src=\"fig/04-section4-rendered-unnamed-chunk-5-3.png\" width=\"672\" style=\"display: block; margin: auto;\" />\n",
    "\n",
    "### **Complex Networks**\n",
    "\n",
    "Typically, networks are not set up node by node. Here is an example of a function that creates a fully connected network with a pre-specified number of nodes: all possible edges between the nodes are realised.\n"
   ]
  },
  {
   "cell_type": "code",
   "execution_count": null,
   "id": "70ebbb44",
   "metadata": {},
   "outputs": [],
   "source": [
    "nodes = 10\n",
    "\n",
    "Graph = nx.complete_graph(nodes)\n",
    "\n",
    "layout = nx.circular_layout(Graph)\n",
    "\n",
    "nx.draw_networkx(Graph, pos=layout)\n",
    "\n",
    "show()"
   ]
  },
  {
   "cell_type": "markdown",
   "id": "99de021b",
   "metadata": {},
   "source": [
    "<img src=\"fig/04-section4-rendered-unnamed-chunk-6-5.png\" width=\"672\" style=\"display: block; margin: auto;\" />\n",
    "\n",
    "And here is network where connections are drawn randomly but with a pre-defined probability, a random network.\n"
   ]
  },
  {
   "cell_type": "code",
   "execution_count": null,
   "id": "54b21cbb",
   "metadata": {},
   "outputs": [],
   "source": [
    "edge_probability = 0.5\n",
    "\n",
    "ER = nx.erdos_renyi_graph(nodes, edge_probability, seed=123)\n",
    "\n",
    "layout = nx.spring_layout(ER)\n",
    "\n",
    "nx.draw_networkx(ER, pos=layout)\n",
    "\n",
    "show()"
   ]
  },
  {
   "cell_type": "markdown",
   "id": "b84d9129",
   "metadata": {},
   "source": [
    "<img src=\"fig/04-section4-rendered-unnamed-chunk-7-7.png\" width=\"672\" style=\"display: block; margin: auto;\" />\n",
    "\n",
    "Change the edge probability and see how the network changes.\n"
   ]
  },
  {
   "cell_type": "code",
   "execution_count": null,
   "id": "8dd82975",
   "metadata": {},
   "outputs": [],
   "source": [
    "edge_probability = 0.1\n",
    "\n",
    "ER = nx.erdos_renyi_graph(nodes, edge_probability, seed=123)\n",
    "\n",
    "layout = nx.spring_layout(ER)\n",
    "\n",
    "nx.draw_networkx(ER, pos=layout)\n",
    "\n",
    "show()"
   ]
  },
  {
   "cell_type": "markdown",
   "id": "35a35817",
   "metadata": {},
   "source": [
    "<img src=\"fig/04-section4-rendered-unnamed-chunk-8-9.png\" width=\"672\" style=\"display: block; margin: auto;\" />\n",
    "\n",
    "## The C. elegans Neuron Network\n",
    "\n",
    "Using the above concepts, we can now have a look at the neuron network of C. elegans.\n",
    "\n",
    "[Introduction to C elegans neurons](http://www.wormbook.org/chapters/www_celegansintro/celegansintro.html#sec5.4)\n",
    "\n",
    "[C elegans neurons in the worm atlas](https://www.wormatlas.org/hermaphrodite/nervous/Neuroframeset.html)\n",
    "\n",
    "<p style='text-align: justify;'>\n",
    "Caenorhabditis elegans (C. elegans) is a nematode used as model organism to study developmental biology, and specifically neuronal development. It is one of the simplest organisms with a nervous system, which makes it particularly suited for this research. The complete connectome (neuronal map) has been published, originally by White, Southgate, Thomson, and Brenner in 1986, and continues to be researched. \n",
    "</p>\n",
    "\n",
    "<p style='text-align: justify;'>\n",
    "In this section we are going to use some simplified data from the Dynamic Connectome lab on the neuronal networks of C. elegans. For simplicity, these data have been edited such that only the first 50 of the 131 documented neurons are included. The Python Pandas library is used to import this data. \n",
    "</p>\n",
    "\n",
    "To analyse and display the neural network of C. elegans, we take neurons to represent __nodes__ and synapses to represent __edges__ of a network. \n",
    "\n",
    "### **Import Connectivity Data and Labels**\n",
    "<p style='text-align: justify;'>\n",
    "The information is provided in the form of a so-called network or connectivity matrix. The matrix shows how neurons connect to each other. We can import the connectivity matrix from the file `celegans131matrix_50.csv`. To find out how many neurons it represents, we check using `len`. \n",
    "</p>\n"
   ]
  },
  {
   "cell_type": "code",
   "execution_count": null,
   "id": "8c2e5096",
   "metadata": {},
   "outputs": [],
   "source": [
    "from pandas import read_csv\n",
    "\n",
    "data = read_csv('data/celegans131matrix_50.csv', header=None, dtype = \"int\")\n",
    "\n",
    "neurons = data.to_numpy()\n",
    "\n",
    "len(neurons)"
   ]
  },
  {
   "cell_type": "markdown",
   "id": "bb6d01b7",
   "metadata": {},
   "source": [
    "```{.output}\n",
    "50\n",
    "```\n",
    "\n",
    "This is a connectivity matrix for 50 neurons. To display the matrix, we can use the Matplotlib function `imshow()`.\n"
   ]
  },
  {
   "cell_type": "code",
   "execution_count": null,
   "id": "6a22dcf0",
   "metadata": {},
   "outputs": [],
   "source": [
    "from matplotlib.pyplot import subplots, show\n",
    "\n",
    "fig, ax = subplots()\n",
    "\n",
    "im = ax.imshow(neurons);\n",
    "\n",
    "fig.colorbar(im, ticks=(0, 1), shrink=0.5);\n",
    "\n",
    "show()"
   ]
  },
  {
   "cell_type": "markdown",
   "id": "52f2f85a",
   "metadata": {},
   "source": [
    "<img src=\"fig/04-section4-rendered-unnamed-chunk-10-11.png\" width=\"672\" style=\"display: block; margin: auto;\" />\n",
    "\n",
    "Each yellow square (representing \"1\") indicates a connection from the neuron with the index in the rows to a neuron with the index in the columns. \n",
    "<p style='text-align: justify;'>\n",
    "Next, we import the labels and convert the resulting dataframe into a dictionary using function `to_dict`. This is a complex Python array, where the index of each neuron is associated with the name of it. The function `to_dict` wraps the dictionary within a dictionary and therefore indexing is used to access the `inner` dict.\n",
    "</p>\n"
   ]
  },
  {
   "cell_type": "code",
   "execution_count": null,
   "id": "f6df3c1d",
   "metadata": {},
   "outputs": [],
   "source": [
    "neuron_Names = read_csv('data/celegans131labels_50.csv', header=None)\n",
    "\n",
    "neuronNames = neuron_Names.to_dict()\n",
    "\n",
    "neuronLabels = neuronNames[0]\n",
    "\n",
    "print(neuronLabels)"
   ]
  },
  {
   "cell_type": "markdown",
   "id": "78e71220",
   "metadata": {},
   "source": [
    "```{.output}\n",
    "{0: 'ADFL', 1: 'ADFR', 2: 'ADLL', 3: 'ADLR', 4: 'AFDL', 5: 'AFDR', 6: 'AIAL', 7: 'AIAR', 8: 'AIBR', 9: 'AINL', 10: 'AINR', 11: 'AIZL', 12: 'AIZR', 13: 'ALA', 14: 'ASEL', 15: 'ASER', 16: 'ASGL', 17: 'ASGR', 18: 'ASHL', 19: 'ASHR', 20: 'ASIL', 21: 'ASIR', 22: 'ASJL', 23: 'ASJR', 24: 'ASKL', 25: 'ASKR', 26: 'AUAL', 27: 'AUAR', 28: 'AVAL', 29: 'AVAR', 30: 'AVBL', 31: 'AVBR', 32: 'AVDL', 33: 'AVDR', 34: 'AVEL', 35: 'AVER', 36: 'AVHL', 37: 'AVHR', 38: 'AVJL', 39: 'AVJR', 40: 'AVL', 41: 'AWAL', 42: 'AWAR', 43: 'AWBL', 44: 'AWBR', 45: 'AWCL', 46: 'AWCR', 47: 'BAGL', 48: 'BAGR', 49: 'CEPDL'}\n",
    "```\n",
    "\n",
    "### **C. elegans Network Display**\n",
    "\n",
    "The connectivity matrix can directly be converted to a Networkx graph.\n",
    "\n",
    "- First, a Graph object is created, `neuronGraph`\n",
    "\n",
    "- Second, a network layout is specifided, `neurinLayout`\n",
    "\n",
    "- Third, the network is plotted with function`draw_networkx`\n"
   ]
  },
  {
   "cell_type": "code",
   "execution_count": null,
   "id": "9ccb7e3f",
   "metadata": {},
   "outputs": [],
   "source": [
    "neuronGraph  = nx.from_numpy_matrix(neurons, \n",
    "                                    create_using=nx.DiGraph)   \n",
    "\n",
    "neuronLayout = nx.random_layout(neuronGraph, seed=12)\n",
    "\n",
    "nx.draw_networkx(neuronGraph, neuronLayout, \n",
    "        node_size=1000,\n",
    "        labels=neuronLabels)\n",
    "        \n",
    "show()        "
   ]
  },
  {
   "cell_type": "markdown",
   "id": "c9cec04a",
   "metadata": {},
   "source": [
    "<img src=\"fig/04-section4-rendered-unnamed-chunk-12-13.png\" width=\"672\" style=\"display: block; margin: auto;\" />\n",
    "\n",
    "The network can be displayed in different layouts, for instance circular:\n"
   ]
  },
  {
   "cell_type": "code",
   "execution_count": null,
   "id": "70bba0d1",
   "metadata": {},
   "outputs": [],
   "source": [
    "neuronGraph  = nx.from_numpy_matrix(neurons, \n",
    "                                    create_using=nx.DiGraph)   \n",
    "\n",
    "neuronLayout = nx.circular_layout(neuronGraph)\n",
    "\n",
    "nx.draw_networkx(neuronGraph, neuronLayout, \n",
    "        node_size=1000,\n",
    "        labels=neuronLabels)\n",
    "show()        "
   ]
  },
  {
   "cell_type": "markdown",
   "id": "c9c06b14",
   "metadata": {},
   "source": [
    "<img src=\"fig/04-section4-rendered-unnamed-chunk-13-15.png\" width=\"672\" style=\"display: block; margin: auto;\" />\n",
    "\n",
    "### **Quantitative Analysis**\n",
    "Quantitative analysis of the network is also possible. For instance, we can plot the number of connections that each neuron has:\n"
   ]
  },
  {
   "cell_type": "code",
   "execution_count": null,
   "id": "be776c34",
   "metadata": {},
   "outputs": [],
   "source": [
    "\n",
    "fig, ax = subplots()\n",
    "\n",
    "ax.plot(dict(neuronGraph.degree).values(), '-o');\n",
    "ax.set_xlabel('Index');\n",
    "ax.set_ylabel('Degree');\n",
    "\n",
    "show()"
   ]
  },
  {
   "cell_type": "markdown",
   "id": "cec03a6a",
   "metadata": {},
   "source": [
    "<img src=\"fig/04-section4-rendered-unnamed-chunk-14-17.png\" width=\"672\" style=\"display: block; margin: auto;\" />"
   ]
  },
  {
   "cell_type": "markdown",
   "id": "b13b18d6",
   "metadata": {},
   "source": [
    "## Anatomical Mapping\n",
    "<p style='text-align: justify;'>\n",
    "File `celegans131positions_50.csv` contains information on how the nodes relate to each other in 2-D space. Because in neuroscience, the spatial position in an organism or in the brain is crucial for interpretation, we can include positional information to replace the arbitrary layout of the networks.\n",
    "</p>\n"
   ]
  },
  {
   "cell_type": "code",
   "execution_count": null,
   "id": "2b096ddf",
   "metadata": {},
   "outputs": [],
   "source": [
    "neuronPos = read_csv('data/celegans131positions_50.csv', header=None)\n",
    "\n",
    "neuronPos.items"
   ]
  },
  {
   "cell_type": "markdown",
   "id": "75fb3e61",
   "metadata": {},
   "source": [
    "```{.output}\n",
    "<bound method DataFrame.items of            0         1\n",
    "0   0.082393 -0.000984\n",
    "1   0.083279 -0.003184\n",
    "2   0.082639 -0.013035\n",
    "3   0.083279 -0.011512\n",
    "4   0.086329 -0.002706\n",
    "5   0.086463 -0.000980\n",
    "6   0.065177  0.009346\n",
    "7   0.059030  0.011512\n",
    "8   0.075441  0.006123\n",
    "9   0.061980 -0.006149\n",
    "10  0.061969 -0.003429\n",
    "11  0.048698  0.002706\n",
    "12  0.057560  0.003184\n",
    "13  0.094056 -0.013227\n",
    "14  0.069112  0.000492\n",
    "15  0.071767 -0.000735\n",
    "16  0.077966 -0.007625\n",
    "17  0.080095 -0.010287\n",
    "18  0.075507  0.000492\n",
    "19  0.078380 -0.000980\n",
    "20  0.076982 -0.012789\n",
    "21  0.077156 -0.011757\n",
    "22  0.063455  0.006641\n",
    "23  0.062704  0.009063\n",
    "24  0.088542 -0.010084\n",
    "25  0.088668 -0.009553\n",
    "26  0.068620  0.006149\n",
    "27  0.067113  0.005389\n",
    "28  0.089526  0.001722\n",
    "29  0.090872 -0.000245\n",
    "30  0.069112 -0.004427\n",
    "31  0.071767 -0.006368\n",
    "32  0.061734 -0.001476\n",
    "33  0.066378 -0.001470\n",
    "34  0.082885  0.002214\n",
    "35  0.084014  0.003184\n",
    "36  0.072063 -0.008608\n",
    "37  0.076421 -0.012737\n",
    "38  0.067636 -0.009346\n",
    "39  0.072992 -0.009798\n",
    "40  0.060990  0.009063\n",
    "41  0.077966 -0.002951\n",
    "42  0.078380 -0.005389\n",
    "43  0.079196 -0.003935\n",
    "44  0.082789 -0.006858\n",
    "45  0.078458  0.004919\n",
    "46  0.078625  0.004164\n",
    "47  0.112890  0.000492\n",
    "48  0.114630  0.003184\n",
    "49  0.094199 -0.016233>\n",
    "```\n"
   ]
  },
  {
   "cell_type": "code",
   "execution_count": null,
   "id": "ac2b01da",
   "metadata": {},
   "outputs": [],
   "source": [
    "nx.draw_networkx(neuronGraph, neuronPos.values,\n",
    "        node_size=1000,\n",
    "        labels=neuronLabels)\n",
    "show()"
   ]
  },
  {
   "cell_type": "markdown",
   "id": "f2dde8b1",
   "metadata": {},
   "source": [
    "<img src=\"fig/04-section4-rendered-unnamed-chunk-16-19.png\" width=\"672\" style=\"display: block; margin: auto;\" />\n",
    "\n"
   ]
  },
  {
   "cell_type": "code",
   "execution_count": null,
   "id": "e46163b7",
   "metadata": {},
   "outputs": [],
   "source": [
    "new_pos = neuronPos.copy()\n",
    "new_pos.values[:, 0] = -1*neuronPos.values[:, 0]\n",
    "\n",
    "nx.draw_networkx(neuronGraph, new_pos.values,\n",
    "        node_size=1000,\n",
    "        labels=neuronLabels)\n",
    "show()        "
   ]
  },
  {
   "cell_type": "markdown",
   "id": "3f1fc23a",
   "metadata": {},
   "source": [
    "<img src=\"fig/04-section4-rendered-unnamed-chunk-17-21.png\" width=\"672\" style=\"display: block; margin: auto;\" />\n",
    "\n",
    "The two BAG nodes to the right of the display are the [sensory neurons used to monitor oxygen and carbon dioxide](https://www.wormatlas.org/neurons/Individual%20Neurons/BAGframeset.html).\n",
    "\n",
    "Here is some background:\n",
    "[BAG genes, functions and connections](http://wormweb.org/neuralnet#c=BAG&m=1)\n",
    "\n",
    "The graph display is in Matplotlib and can be handled as such. E.g. for possible Node shapes see:\n",
    "https://matplotlib.org/stable/api/markers_api.html#module-matplotlib.markers. \n",
    "\n",
    "If you have a multi-panel figure, specify the axes for the network with keyword argument `ax`:\n"
   ]
  },
  {
   "cell_type": "code",
   "execution_count": null,
   "id": "810c4205",
   "metadata": {},
   "outputs": [],
   "source": [
    "fig, ax = subplots(figsize=(14, 8), ncols=2)\n",
    "\n",
    "nx.draw_networkx(neuronGraph, neuronLayout, \n",
    "        node_size=1000,\n",
    "        labels=neuronLabels,\n",
    "        ax=ax[0])\n",
    "\n",
    "nx.draw_networkx(neuronGraph, neuronPos.values,\n",
    "        node_shape='H',\n",
    "        node_color='tomato',\n",
    "        node_size=1300,\n",
    "        labels=neuronLabels,\n",
    "        ax=ax[1])\n",
    "\n",
    "ax[0].set_title('Circular view of C elegans network');\n",
    "ax[1].set_title('Anatomical view of C elegans network');\n",
    "\n",
    "show()"
   ]
  },
  {
   "cell_type": "markdown",
   "id": "b094975d",
   "metadata": {},
   "source": [
    "<img src=\"fig/04-section4-rendered-unnamed-chunk-18-23.png\" width=\"1344\" style=\"display: block; margin: auto;\" />\n",
    "\n",
    "This concludes out short introduction to networks in the context of neurocsience. Importantly, edges or relationships can also be deduced an a purely functional basis, i.e. even if there is no physical connection between nodes. This is currently one of the most active field of research. "
   ]
  },
  {
   "cell_type": "markdown",
   "id": "21c71901",
   "metadata": {},
   "source": [
    "- Python package NetworkX is designed to set up and study graphs.\n",
    "- `draw_networkx` is a NetworkX function to visualise graphs.\n",
    "- Connectivity information is stored in the connectivity (adjacency) matrix.\n",
    "\n",
    "[r-markdown]: https://rmarkdown.rstudio.com/"
   ]
  }
 ],
 "metadata": {
  "jupytext": {
   "cell_metadata_filter": "-all",
   "main_language": "python",
   "notebook_metadata_filter": "-all"
  }
 },
 "nbformat": 4,
 "nbformat_minor": 5
}
